{
 "cells": [
  {
   "cell_type": "code",
   "execution_count": 6,
   "id": "adae4a63-e33c-4b5a-81de-a134691e10d1",
   "metadata": {},
   "outputs": [],
   "source": [
    "import pyarrow as pa"
   ]
  },
  {
   "cell_type": "code",
   "execution_count": 1,
   "id": "a83860a7-a3f1-4b8c-8ada-5c1020b05a7b",
   "metadata": {},
   "outputs": [],
   "source": [
    "from pyarrow import parquet\n",
    "raw_file = 's3://algo-sg/rec/cn_rec_detail_recall_ui_relation/ds=20241118'\n",
    "lines_t = parquet.read_table(raw_file).to_pylist()"
   ]
  },
  {
   "cell_type": "code",
   "execution_count": 2,
   "id": "c647f06a-9670-4066-bd55-4f83cd50577e",
   "metadata": {},
   "outputs": [
    {
     "data": {
      "text/plain": [
       "12737093"
      ]
     },
     "execution_count": 2,
     "metadata": {},
     "output_type": "execute_result"
    }
   ],
   "source": [
    "len(lines_t)"
   ]
  },
  {
   "cell_type": "code",
   "execution_count": 3,
   "id": "e2b47f44-c20e-47d7-9640-500d2cbf129e",
   "metadata": {},
   "outputs": [
    {
     "data": {
      "text/plain": [
       "[{'uuid': '0df0a31c-d2ec-442a-a337-c9308d0424b3',\n",
       "  'goods_id': '1258201',\n",
       "  'clk_num': 2,\n",
       "  'country_code': 'IN'},\n",
       " {'uuid': '47282cbc-dfbf-42e9-ac1a-f5dd5c8ce2a0-1731850360442',\n",
       "  'goods_id': '1365392',\n",
       "  'clk_num': 1,\n",
       "  'country_code': 'IN'},\n",
       " {'uuid': '2292b3e5620fe076f8e9f8f44fa21016a6ad43ebe',\n",
       "  'goods_id': '105979',\n",
       "  'clk_num': 1,\n",
       "  'country_code': 'IN'},\n",
       " {'uuid': '23afad9bac421df5beda983497e8b00ce91cbebc9',\n",
       "  'goods_id': '1343922',\n",
       "  'clk_num': 1,\n",
       "  'country_code': 'IN'},\n",
       " {'uuid': '24a38370fa0bd9e5fbd53c9858975577f8a915e0d',\n",
       "  'goods_id': '107034',\n",
       "  'clk_num': 1,\n",
       "  'country_code': 'IN'},\n",
       " {'uuid': '24a38370fa0bd9e5fbd53c9858975577f8a915e0d',\n",
       "  'goods_id': '1237671',\n",
       "  'clk_num': 1,\n",
       "  'country_code': 'IN'},\n",
       " {'uuid': '76c46ebb-991f-4b13-8954-b7d8e42ac94a-1731824073207',\n",
       "  'goods_id': '113966',\n",
       "  'clk_num': 1,\n",
       "  'country_code': 'IN'},\n",
       " {'uuid': '8a50269b-de74-451a-8cd3-b789160c5887',\n",
       "  'goods_id': '1343072',\n",
       "  'clk_num': 1,\n",
       "  'country_code': 'IN'},\n",
       " {'uuid': '99C91EEB-6504-4EDE-896D-56DA6E40401C',\n",
       "  'goods_id': '1244161',\n",
       "  'clk_num': 1,\n",
       "  'country_code': 'IN'},\n",
       " {'uuid': '2e1807c7b3804e3c84631753473fcb465b2e3a4d1_R',\n",
       "  'goods_id': '1426251',\n",
       "  'clk_num': 1,\n",
       "  'country_code': 'IN'}]"
      ]
     },
     "execution_count": 3,
     "metadata": {},
     "output_type": "execute_result"
    }
   ],
   "source": [
    "lines_t[0:10]"
   ]
  },
  {
   "cell_type": "code",
   "execution_count": 4,
   "id": "b62f4d86-e593-4cda-9e04-40ab5727cdfc",
   "metadata": {},
   "outputs": [],
   "source": [
    "key_list = ['IN_1258201', 'IN_1244161']\n",
    "values = ['1258201#1244161', '1258201#1244161']"
   ]
  },
  {
   "cell_type": "code",
   "execution_count": 7,
   "id": "e423a92d-0444-4446-b080-935f4ed75509",
   "metadata": {},
   "outputs": [],
   "source": [
    "table = pa.table({'key':key_list, 'values': values})"
   ]
  },
  {
   "cell_type": "code",
   "execution_count": 8,
   "id": "3dd30e66-c5fe-4ac3-9208-a5f3f547bb47",
   "metadata": {},
   "outputs": [],
   "source": [
    "parquet.write_table(table, 's3://algo-sg/rec/cn_rec_detail_recall_i2i_for_redics')"
   ]
  },
  {
   "cell_type": "code",
   "execution_count": null,
   "id": "232f5027-0cd8-42fe-ac9d-fb28b7bdcb77",
   "metadata": {},
   "outputs": [],
   "source": []
  },
  {
   "cell_type": "markdown",
   "id": "ac65efc2-7f0f-4dc2-a9c6-9bb48ce69e45",
   "metadata": {},
   "source": [
    "# s3-cli operationm"
   ]
  },
  {
   "cell_type": "code",
   "execution_count": 1,
   "id": "9350fcee-b30e-4791-bc48-67618af490a3",
   "metadata": {},
   "outputs": [],
   "source": [
    "import boto3\n",
    "s3_cli = boto3.client('s3')\n",
    "BUCKET = 'warehouse-algo'"
   ]
  },
  {
   "cell_type": "code",
   "execution_count": 12,
   "id": "c8f9d984-6f40-4342-879f-ce85fce11e87",
   "metadata": {},
   "outputs": [],
   "source": [
    "def download_file(key, fname):\n",
    "    for _ in range(10):\n",
    "        try:\n",
    "            try_remove_file(fname)\n",
    "            s3_cli.download_file(Bucket=BUCKET, Key=key, Filename=fname)\n",
    "            return\n",
    "        except Exception as e:\n",
    "            traceback.print_exc()\n",
    "            print(Exception, e)\n",
    "            continue\n",
    "    raise ValueError('Failed to download file: %s to %s' % (key, fname))"
   ]
  },
  {
   "cell_type": "code",
   "execution_count": null,
   "id": "3059b7e1-c45c-40b4-8ba4-370dca6b222b",
   "metadata": {},
   "outputs": [],
   "source": []
  },
  {
   "cell_type": "code",
   "execution_count": 16,
   "id": "25fd3408-47f0-4b14-8ae3-5e4b3f22c376",
   "metadata": {},
   "outputs": [],
   "source": [
    "key = 'rec/cn_rec_detail_sample_v1/ds=20241113/part-00000-df5e0f69-33b4-4336-a7b1-5389a9d913cc-c000'\n",
    "local_fname = './tmp/cn_rec_detail_sample_v1_partdata'\n",
    "s3_cli.download_file(Bucket=BUCKET, Key=key, Filename=local_fname)"
   ]
  },
  {
   "cell_type": "code",
   "execution_count": null,
   "id": "982f96aa-8430-423e-a972-5c258e78d9e8",
   "metadata": {},
   "outputs": [],
   "source": [
    "s3.upload_file('/tmp/hello.txt', 'amzn-s3-demo-bucket', 'hello.txt')"
   ]
  },
  {
   "cell_type": "code",
   "execution_count": null,
   "id": "3280c25c-4ff7-4071-9f4c-40c492febb2d",
   "metadata": {},
   "outputs": [],
   "source": [
    "s3.upload_file(cn_rec_detail_recall_i2i_for_redis"
   ]
  },
  {
   "cell_type": "code",
   "execution_count": 2,
   "id": "a1368a0c-3ac0-4ce6-93e2-f6a83410f3a2",
   "metadata": {},
   "outputs": [
    {
     "name": "stdout",
     "output_type": "stream",
     "text": [
      "file_list ['rec/cn_rec_detail_sample_v1/ds=20241113/part-00000-df5e0f69-33b4-4336-a7b1-5389a9d913cc-c000', 'rec/cn_rec_detail_sample_v1/ds=20241113/part-00001-df5e0f69-33b4-4336-a7b1-5389a9d913cc-c000', 'rec/cn_rec_detail_sample_v1/ds=20241113/part-00002-df5e0f69-33b4-4336-a7b1-5389a9d913cc-c000', 'rec/cn_rec_detail_sample_v1/ds=20241113/part-00003-df5e0f69-33b4-4336-a7b1-5389a9d913cc-c000', 'rec/cn_rec_detail_sample_v1/ds=20241113/part-00004-df5e0f69-33b4-4336-a7b1-5389a9d913cc-c000']\n"
     ]
    }
   ],
   "source": [
    "paginator = s3_cli.get_paginator('list_objects_v2')\n",
    "page_iter = paginator.paginate(Bucket=\"warehouse-algo\", Prefix='rec/cn_rec_detail_sample_v1/ds=20241113')\n",
    "file_list = [[v['Key'] for v in page.get('Contents', [])] for page in page_iter][0]\n",
    "print('file_list', file_list)"
   ]
  },
  {
   "cell_type": "markdown",
   "id": "7c38a906-5dba-4019-92b5-c677dc3519af",
   "metadata": {},
   "source": [
    "# python wite tfrecord"
   ]
  },
  {
   "cell_type": "code",
   "execution_count": null,
   "id": "e7426f5a-d8b1-42bb-b9a3-88e901d7fdca",
   "metadata": {},
   "outputs": [],
   "source": [
    "  record = build_example(sample)\n",
    "        record_str = record.SerializeToString()\n",
    "        # print(idx, sample, record)\n",
    "        with tf.python_io.TFRecordWriter('rec_sample_test.tfrecords') as writer:\n",
    "            writer.write(my_example_str)"
   ]
  }
 ],
 "metadata": {
  "kernelspec": {
   "display_name": "Python 3 (ipykernel)",
   "language": "python",
   "name": "python3"
  },
  "language_info": {
   "codemirror_mode": {
    "name": "ipython",
    "version": 3
   },
   "file_extension": ".py",
   "mimetype": "text/x-python",
   "name": "python",
   "nbconvert_exporter": "python",
   "pygments_lexer": "ipython3",
   "version": "3.10.14"
  },
  "widgets": {
   "application/vnd.jupyter.widget-state+json": {
    "state": {},
    "version_major": 2,
    "version_minor": 0
   }
  }
 },
 "nbformat": 4,
 "nbformat_minor": 5
}
