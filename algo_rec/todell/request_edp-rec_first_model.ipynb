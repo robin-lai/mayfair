{
 "cells": [
  {
   "cell_type": "code",
   "execution_count": 5,
   "id": "32ea5991-d8c3-4d5b-a443-528df20a6ca3",
   "metadata": {},
   "outputs": [
    {
     "name": "stdout",
     "output_type": "stream",
     "text": [
      "aws region: ap-southeast-1\n",
      "role: arn:aws:iam::580243821396:role/service-role/AmazonSageMaker-ExecutionRole-20241030T174232\n"
     ]
    }
   ],
   "source": [
    "import json, os, random, time, math, multiprocessing, traceback\n",
    "import boto3\n",
    "import sagemaker\n",
    "from sagemaker import image_uris, get_execution_role\n",
    "from sagemaker.session import production_variant\n",
    "from pyarrow import parquet\n",
    "from datetime import datetime, timedelta\n",
    "import pickle\n",
    "s3_cli = boto3.client('s3')\n",
    "sm_sess = sagemaker.Session()\n",
    "print('aws region:', sm_sess.boto_region_name)\n",
    "sm_cli = boto3.client('sagemaker')\n",
    "role = get_execution_role()\n",
    "print('role:', role)"
   ]
  },
  {
   "cell_type": "code",
   "execution_count": 9,
   "id": "e4208ac5-5cf5-41a0-8b68-6364d9a86851",
   "metadata": {
    "tags": []
   },
   "outputs": [],
   "source": [
    "import copy\n",
    "import json\n",
    "import time\n",
    "\n",
    "import boto3\n",
    "\n",
    "inputs = {\n",
    "\t\"inputs\": {\n",
    "\t\t\"price\": [\"1\", \"2\", \"3\", \"4\"],\n",
    "\t\t\"rebuy\": [1, 1, 1, 1],\n",
    "\t\t\"country\": \"Savana_IN\",\n",
    "\t\t\"query\": \"ruffle placket blouse\",\n",
    "\t\t\"goods_id\": [1295132, 119253, 1315492, 1233092],\n",
    "\t\t\"uuid\": \"___X_911b557d-8ba5-4ec7-8637-cae016809ac0-1712127888282\",\n",
    "\t\t\"cid4\": [522, 522, 522, 607],\n",
    "\t\t\"cid2\": [12, 12, 12, 13],\n",
    "\t\t\"cid3\": [80, 80, 80, 96],\n",
    "\t\t\"cid1\": [2, 2, 2, 809]\n",
    "\t}\n",
    "}\n",
    "\n",
    "inputs2 = {\n",
    "\t\"inputs\": {\n",
    "        \"inputs\": {\n",
    "            \"goods_id\": [\"1\"]\n",
    "        }\n",
    "    }\n",
    "\t\t\n",
    "}\n",
    "\n",
    "inputs3 = {\n",
    "\t\"cate_level1_id\": [\"1\"],\n",
    "\t\"cate_level2_id\": [\"1\"],\n",
    "\t\"cate_level3_id\": [\"1\"],\n",
    "\t\"cate_level4_id\": [\"1\"],\n",
    "\t\"country\": [\"IN\"],\n",
    "\t\"ctr_7d\": [0.1],\n",
    "\t\"cvr_7d\": [0.1],\n",
    "\t\"show_7d\": [100],\n",
    "\t\"click_7d\": [100],\n",
    "\t\"cart_7d\": [100],\n",
    "\t\"ord_total\": [100],\n",
    "\t\"pay_total\": [100],\n",
    "\t\"ord_7d\": [100],\n",
    "\t\"pay_7d\": [100],\n",
    "\t\"seq_goods_id\": [\"1\", \"2\", \"3\", \"4\", \"5\", \"6\", \"7\", \"8\", \"9\", \"10\", \"11\", \"12\", \"13\", \"14\", \"15\", \"16\", \"17\", \"18\", \"19\", \"20\"],\n",
    "\t\"goods_id\": [\"1\"],\n",
    "\t\"seq_cate_id\": [\"1\", \"2\", \"3\", \"4\", \"5\", \"6\", \"7\", \"8\", \"9\", \"10\", \"11\", \"12\", \"13\", \"14\", \"15\", \"16\", \"17\", \"18\", \"19\", \"20\"],\n",
    "\t\"cate_id\": [\"1\"]\n",
    "}\n",
    "\n",
    "inputs3 = {\n",
    "\t\"cate_level1_id\": [\"1\"],\n",
    "\t\"cate_level2_id\": [\"1\"],\n",
    "\t\"cate_level3_id\": [\"1\"],\n",
    "\t\"cate_level4_id\": [\"1\"],\n",
    "\t\"country\": [\"IN\"],\n",
    "\t\"ctr_7d\": [0.1],\n",
    "\t\"cvr_7d\": [0.1],\n",
    "\t\"show_7d\": [100],\n",
    "\t\"click_7d\": [100],\n",
    "\t\"cart_7d\": [100],\n",
    "\t\"ord_total\": [100],\n",
    "\t\"pay_total\": [100],\n",
    "\t\"ord_7d\": [100],\n",
    "\t\"pay_7d\": [100]\n",
    "\n",
    "}\n",
    "# inputs3 = {\"a\":\"b\"}\n",
    "\n",
    "# ipt4 = {\"signature_name\": \"serving_default\",\"instances\": [inputs3,inputs3] }\n",
    "# ipt4 = {\"signature_name\": \"serving_default\",\"inputs\": [inputs3,inputs3] }\n",
    "ipt4 = {\"signature_name\": \"predict\",\"instances\": [inputs3,inputs3] }\n",
    "# ipt4 = {\"inputs\": [inputs3,inputs3] }\n",
    "# ipt4 = {\"signature_name\": \"serving_default\",\"inputs\": [{\"a\":\"b\"},{\"a\":\"b\"}] }\n",
    "\n",
    "\n",
    "\n",
    "\n",
    "\n",
    "\n",
    "# edp_name_exp = \"all-ctr-din-prod-1day-edp\"\n",
    "# edp_name_exp = \"all-ctr-din-prod-1day-edp-testv3\"\n",
    "# edp_name_exp = \"all-ctr-din-prod-1day-edp-testv5\"\n",
    "# edp_name_exp = \"all-ctr-din-prod-1day-edp-testv7\"\n",
    "edp_name_exp = \"all-ctr-din-debug1121\"\n",
    "\n",
    "sg_client = boto3.client(\"sagemaker-runtime\")\n",
    "\n",
    "\n"
   ]
  },
  {
   "cell_type": "code",
   "execution_count": 4,
   "id": "0eaeb271-fb18-44c7-93f7-5b9c8828afaf",
   "metadata": {},
   "outputs": [
    {
     "data": {
      "text/plain": [
       "'{\"signature_name\": \"predict\", \"instances\": [{\"cate_level1_id\": [\"1\"], \"cate_level2_id\": [\"1\"], \"cate_level3_id\": [\"1\"], \"cate_level4_id\": [\"1\"], \"country\": [\"IN\"], \"ctr_7d\": [0.1], \"cvr_7d\": [0.1], \"show_7d\": [100], \"click_7d\": [100], \"cart_7d\": [100], \"ord_total\": [100], \"pay_total\": [100], \"ord_7d\": [100], \"pay_7d\": [100]}, {\"cate_level1_id\": [\"1\"], \"cate_level2_id\": [\"1\"], \"cate_level3_id\": [\"1\"], \"cate_level4_id\": [\"1\"], \"country\": [\"IN\"], \"ctr_7d\": [0.1], \"cvr_7d\": [0.1], \"show_7d\": [100], \"click_7d\": [100], \"cart_7d\": [100], \"ord_total\": [100], \"pay_total\": [100], \"ord_7d\": [100], \"pay_7d\": [100]}]}'"
      ]
     },
     "execution_count": 4,
     "metadata": {},
     "output_type": "execute_result"
    }
   ],
   "source": [
    "type(json.dumps(ipt4))\n",
    "json.dumps(ipt4)"
   ]
  },
  {
   "cell_type": "code",
   "execution_count": 10,
   "id": "f39e3f4e-bb98-4f64-a02f-c9a2b9071100",
   "metadata": {},
   "outputs": [
    {
     "name": "stdout",
     "output_type": "stream",
     "text": [
      "inp-json-dump {\"signature_name\": \"predict\", \"instances\": [{\"cate_level1_id\": [\"1\"], \"cate_level2_id\": [\"1\"], \"cate_level3_id\": [\"1\"], \"cate_level4_id\": [\"1\"], \"country\": [\"IN\"], \"ctr_7d\": [0.1], \"cvr_7d\": [0.1], \"show_7d\": [100], \"click_7d\": [100], \"cart_7d\": [100], \"ord_total\": [100], \"pay_total\": [100], \"ord_7d\": [100], \"pay_7d\": [100]}, {\"cate_level1_id\": [\"1\"], \"cate_level2_id\": [\"1\"], \"cate_level3_id\": [\"1\"], \"cate_level4_id\": [\"1\"], \"country\": [\"IN\"], \"ctr_7d\": [0.1], \"cvr_7d\": [0.1], \"show_7d\": [100], \"click_7d\": [100], \"cart_7d\": [100], \"ord_total\": [100], \"pay_total\": [100], \"ord_7d\": [100], \"pay_7d\": [100]}]}\n",
      "b'{ \"error\": \"Failed to process element: 0 key: cate_level1_id of \\\\\\'instances\\\\\\' list. Error: Invalid argument: JSON object: does not have named input: cate_level1_id\" }'\n"
     ]
    }
   ],
   "source": [
    "print('inp-json-dump', json.dumps(ipt4))\n",
    "\n",
    "res = sg_client.invoke_endpoint(\n",
    "        EndpointName=edp_name_exp,\n",
    "        Body=json.dumps(ipt4),\n",
    "        # Body=json.dumps(ipt4).encode('utf-8'),\n",
    "    # .encode('utf-8'),\n",
    "        # Body=ipt4,\n",
    "        ContentType=\"application/json\"\n",
    "    )\n",
    "print(res[\"Body\"].read())\n",
    "# res_json = json.loads(res[\"Body\"].read())\n",
    "# print(res_json)\n",
    "# res_json['predictions'][0]['probabilities'][0]"
   ]
  },
  {
   "cell_type": "code",
   "execution_count": 130,
   "id": "4f6b2cae-c3fe-47c5-9a74-6e9e800f3105",
   "metadata": {},
   "outputs": [
    {
     "ename": "JSONDecodeError",
     "evalue": "Expecting value: line 1 column 1 (char 0)",
     "output_type": "error",
     "traceback": [
      "\u001b[0;31m---------------------------------------------------------------------------\u001b[0m",
      "\u001b[0;31mJSONDecodeError\u001b[0m                           Traceback (most recent call last)",
      "Cell \u001b[0;32mIn[130], line 1\u001b[0m\n\u001b[0;32m----> 1\u001b[0m \u001b[43mjson\u001b[49m\u001b[38;5;241;43m.\u001b[39;49m\u001b[43mloads\u001b[49m\u001b[43m(\u001b[49m\u001b[43mres\u001b[49m\u001b[43m[\u001b[49m\u001b[38;5;124;43m\"\u001b[39;49m\u001b[38;5;124;43mBody\u001b[39;49m\u001b[38;5;124;43m\"\u001b[39;49m\u001b[43m]\u001b[49m\u001b[38;5;241;43m.\u001b[39;49m\u001b[43mread\u001b[49m\u001b[43m(\u001b[49m\u001b[43m)\u001b[49m\u001b[43m)\u001b[49m\n",
      "File \u001b[0;32m/opt/conda/lib/python3.10/json/__init__.py:346\u001b[0m, in \u001b[0;36mloads\u001b[0;34m(s, cls, object_hook, parse_float, parse_int, parse_constant, object_pairs_hook, **kw)\u001b[0m\n\u001b[1;32m    341\u001b[0m     s \u001b[38;5;241m=\u001b[39m s\u001b[38;5;241m.\u001b[39mdecode(detect_encoding(s), \u001b[38;5;124m'\u001b[39m\u001b[38;5;124msurrogatepass\u001b[39m\u001b[38;5;124m'\u001b[39m)\n\u001b[1;32m    343\u001b[0m \u001b[38;5;28;01mif\u001b[39;00m (\u001b[38;5;28mcls\u001b[39m \u001b[38;5;129;01mis\u001b[39;00m \u001b[38;5;28;01mNone\u001b[39;00m \u001b[38;5;129;01mand\u001b[39;00m object_hook \u001b[38;5;129;01mis\u001b[39;00m \u001b[38;5;28;01mNone\u001b[39;00m \u001b[38;5;129;01mand\u001b[39;00m\n\u001b[1;32m    344\u001b[0m         parse_int \u001b[38;5;129;01mis\u001b[39;00m \u001b[38;5;28;01mNone\u001b[39;00m \u001b[38;5;129;01mand\u001b[39;00m parse_float \u001b[38;5;129;01mis\u001b[39;00m \u001b[38;5;28;01mNone\u001b[39;00m \u001b[38;5;129;01mand\u001b[39;00m\n\u001b[1;32m    345\u001b[0m         parse_constant \u001b[38;5;129;01mis\u001b[39;00m \u001b[38;5;28;01mNone\u001b[39;00m \u001b[38;5;129;01mand\u001b[39;00m object_pairs_hook \u001b[38;5;129;01mis\u001b[39;00m \u001b[38;5;28;01mNone\u001b[39;00m \u001b[38;5;129;01mand\u001b[39;00m \u001b[38;5;129;01mnot\u001b[39;00m kw):\n\u001b[0;32m--> 346\u001b[0m     \u001b[38;5;28;01mreturn\u001b[39;00m \u001b[43m_default_decoder\u001b[49m\u001b[38;5;241;43m.\u001b[39;49m\u001b[43mdecode\u001b[49m\u001b[43m(\u001b[49m\u001b[43ms\u001b[49m\u001b[43m)\u001b[49m\n\u001b[1;32m    347\u001b[0m \u001b[38;5;28;01mif\u001b[39;00m \u001b[38;5;28mcls\u001b[39m \u001b[38;5;129;01mis\u001b[39;00m \u001b[38;5;28;01mNone\u001b[39;00m:\n\u001b[1;32m    348\u001b[0m     \u001b[38;5;28mcls\u001b[39m \u001b[38;5;241m=\u001b[39m JSONDecoder\n",
      "File \u001b[0;32m/opt/conda/lib/python3.10/json/decoder.py:337\u001b[0m, in \u001b[0;36mJSONDecoder.decode\u001b[0;34m(self, s, _w)\u001b[0m\n\u001b[1;32m    332\u001b[0m \u001b[38;5;28;01mdef\u001b[39;00m \u001b[38;5;21mdecode\u001b[39m(\u001b[38;5;28mself\u001b[39m, s, _w\u001b[38;5;241m=\u001b[39mWHITESPACE\u001b[38;5;241m.\u001b[39mmatch):\n\u001b[1;32m    333\u001b[0m \u001b[38;5;250m    \u001b[39m\u001b[38;5;124;03m\"\"\"Return the Python representation of ``s`` (a ``str`` instance\u001b[39;00m\n\u001b[1;32m    334\u001b[0m \u001b[38;5;124;03m    containing a JSON document).\u001b[39;00m\n\u001b[1;32m    335\u001b[0m \n\u001b[1;32m    336\u001b[0m \u001b[38;5;124;03m    \"\"\"\u001b[39;00m\n\u001b[0;32m--> 337\u001b[0m     obj, end \u001b[38;5;241m=\u001b[39m \u001b[38;5;28;43mself\u001b[39;49m\u001b[38;5;241;43m.\u001b[39;49m\u001b[43mraw_decode\u001b[49m\u001b[43m(\u001b[49m\u001b[43ms\u001b[49m\u001b[43m,\u001b[49m\u001b[43m \u001b[49m\u001b[43midx\u001b[49m\u001b[38;5;241;43m=\u001b[39;49m\u001b[43m_w\u001b[49m\u001b[43m(\u001b[49m\u001b[43ms\u001b[49m\u001b[43m,\u001b[49m\u001b[43m \u001b[49m\u001b[38;5;241;43m0\u001b[39;49m\u001b[43m)\u001b[49m\u001b[38;5;241;43m.\u001b[39;49m\u001b[43mend\u001b[49m\u001b[43m(\u001b[49m\u001b[43m)\u001b[49m\u001b[43m)\u001b[49m\n\u001b[1;32m    338\u001b[0m     end \u001b[38;5;241m=\u001b[39m _w(s, end)\u001b[38;5;241m.\u001b[39mend()\n\u001b[1;32m    339\u001b[0m     \u001b[38;5;28;01mif\u001b[39;00m end \u001b[38;5;241m!=\u001b[39m \u001b[38;5;28mlen\u001b[39m(s):\n",
      "File \u001b[0;32m/opt/conda/lib/python3.10/json/decoder.py:355\u001b[0m, in \u001b[0;36mJSONDecoder.raw_decode\u001b[0;34m(self, s, idx)\u001b[0m\n\u001b[1;32m    353\u001b[0m     obj, end \u001b[38;5;241m=\u001b[39m \u001b[38;5;28mself\u001b[39m\u001b[38;5;241m.\u001b[39mscan_once(s, idx)\n\u001b[1;32m    354\u001b[0m \u001b[38;5;28;01mexcept\u001b[39;00m \u001b[38;5;167;01mStopIteration\u001b[39;00m \u001b[38;5;28;01mas\u001b[39;00m err:\n\u001b[0;32m--> 355\u001b[0m     \u001b[38;5;28;01mraise\u001b[39;00m JSONDecodeError(\u001b[38;5;124m\"\u001b[39m\u001b[38;5;124mExpecting value\u001b[39m\u001b[38;5;124m\"\u001b[39m, s, err\u001b[38;5;241m.\u001b[39mvalue) \u001b[38;5;28;01mfrom\u001b[39;00m \u001b[38;5;28;01mNone\u001b[39;00m\n\u001b[1;32m    356\u001b[0m \u001b[38;5;28;01mreturn\u001b[39;00m obj, end\n",
      "\u001b[0;31mJSONDecodeError\u001b[0m: Expecting value: line 1 column 1 (char 0)"
     ]
    }
   ],
   "source": [
    "json.loads(res[\"Body\"].read())"
   ]
  },
  {
   "cell_type": "code",
   "execution_count": 122,
   "id": "1eab880c-f952-44ad-9b5b-67c6fbebf698",
   "metadata": {},
   "outputs": [],
   "source": [
    "sss = b'{\\n    \"predictions\": [\\n        {\\n            \"class_ids\": [1],\\n            \"classes\": [\"1\"],\\n            \"all_class_ids\": [0, 1],\\n            \"all_classes\": [\"0\", \"1\"],\\n            \"logistic\": [0.534323812],\\n            \"probabilities\": [0.465676159, 0.534323812],\\n            \"logits\": [0.137511566]\\n        },\\n        {\\n            \"class_ids\": [1],\\n            \"classes\": [\"1\"],\\n            \"all_class_ids\": [0, 1],\\n            \"all_classes\": [\"0\", \"1\"],\\n            \"logistic\": [0.534323812],\\n            \"probabilities\": [0.465676159, 0.534323812],\\n            \"logits\": [0.137511566]\\n        }\\n    ]\\n}'"
   ]
  },
  {
   "cell_type": "code",
   "execution_count": 126,
   "id": "44f788c4-e055-496b-9765-f1d772ceddcb",
   "metadata": {
    "scrolled": true
   },
   "outputs": [
    {
     "data": {
      "text/plain": [
       "0.465676159"
      ]
     },
     "execution_count": 126,
     "metadata": {},
     "output_type": "execute_result"
    }
   ],
   "source": [
    "json.loads(sss)['predictions'][0]['probabilities'][0]"
   ]
  },
  {
   "cell_type": "code",
   "execution_count": 15,
   "id": "a660ea6c-e091-4384-86b9-07fd92028bb2",
   "metadata": {},
   "outputs": [
    {
     "name": "stdout",
     "output_type": "stream",
     "text": [
      "[{'EndpointName': 'all-ctr-test-din-v3', 'EndpointArn': 'arn:aws:sagemaker:ap-southeast-1:580243821396:endpoint/all-ctr-test-din-v3', 'CreationTime': datetime.datetime(2024, 11, 18, 11, 21, 56, 159000, tzinfo=tzlocal()), 'LastModifiedTime': datetime.datetime(2024, 11, 18, 11, 21, 56, 444000, tzinfo=tzlocal()), 'EndpointStatus': 'Creating'}, {'EndpointName': 'all-ctr-test-din-v2', 'EndpointArn': 'arn:aws:sagemaker:ap-southeast-1:580243821396:endpoint/all-ctr-test-din-v2', 'CreationTime': datetime.datetime(2024, 11, 18, 10, 0, 11, 360000, tzinfo=tzlocal()), 'LastModifiedTime': datetime.datetime(2024, 11, 18, 10, 21, 48, 564000, tzinfo=tzlocal()), 'EndpointStatus': 'Failed'}, {'EndpointName': 'all-ctr-test-din-v1', 'EndpointArn': 'arn:aws:sagemaker:ap-southeast-1:580243821396:endpoint/all-ctr-test-din-v1', 'CreationTime': datetime.datetime(2024, 11, 18, 9, 49, 3, 984000, tzinfo=tzlocal()), 'LastModifiedTime': datetime.datetime(2024, 11, 18, 10, 10, 38, 561000, tzinfo=tzlocal()), 'EndpointStatus': 'Failed'}, {'EndpointName': 'all-ctr-test-v3', 'EndpointArn': 'arn:aws:sagemaker:ap-southeast-1:580243821396:endpoint/all-ctr-test-v3', 'CreationTime': datetime.datetime(2024, 11, 18, 9, 12, 31, 393000, tzinfo=tzlocal()), 'LastModifiedTime': datetime.datetime(2024, 11, 18, 9, 14, 45, 95000, tzinfo=tzlocal()), 'EndpointStatus': 'InService'}]\n"
     ]
    }
   ],
   "source": [
    "existing_endpoints = sm_sess.sagemaker_client.list_endpoints()[\"Endpoints\"]\n",
    "print(existing_endpoints)"
   ]
  }
 ],
 "metadata": {
  "availableInstances": [
   {
    "_defaultOrder": 0,
    "_isFastLaunch": true,
    "category": "General purpose",
    "gpuNum": 0,
    "hideHardwareSpecs": false,
    "memoryGiB": 4,
    "name": "ml.t3.medium",
    "vcpuNum": 2
   },
   {
    "_defaultOrder": 1,
    "_isFastLaunch": false,
    "category": "General purpose",
    "gpuNum": 0,
    "hideHardwareSpecs": false,
    "memoryGiB": 8,
    "name": "ml.t3.large",
    "vcpuNum": 2
   },
   {
    "_defaultOrder": 2,
    "_isFastLaunch": false,
    "category": "General purpose",
    "gpuNum": 0,
    "hideHardwareSpecs": false,
    "memoryGiB": 16,
    "name": "ml.t3.xlarge",
    "vcpuNum": 4
   },
   {
    "_defaultOrder": 3,
    "_isFastLaunch": false,
    "category": "General purpose",
    "gpuNum": 0,
    "hideHardwareSpecs": false,
    "memoryGiB": 32,
    "name": "ml.t3.2xlarge",
    "vcpuNum": 8
   },
   {
    "_defaultOrder": 4,
    "_isFastLaunch": true,
    "category": "General purpose",
    "gpuNum": 0,
    "hideHardwareSpecs": false,
    "memoryGiB": 8,
    "name": "ml.m5.large",
    "vcpuNum": 2
   },
   {
    "_defaultOrder": 5,
    "_isFastLaunch": false,
    "category": "General purpose",
    "gpuNum": 0,
    "hideHardwareSpecs": false,
    "memoryGiB": 16,
    "name": "ml.m5.xlarge",
    "vcpuNum": 4
   },
   {
    "_defaultOrder": 6,
    "_isFastLaunch": false,
    "category": "General purpose",
    "gpuNum": 0,
    "hideHardwareSpecs": false,
    "memoryGiB": 32,
    "name": "ml.m5.2xlarge",
    "vcpuNum": 8
   },
   {
    "_defaultOrder": 7,
    "_isFastLaunch": false,
    "category": "General purpose",
    "gpuNum": 0,
    "hideHardwareSpecs": false,
    "memoryGiB": 64,
    "name": "ml.m5.4xlarge",
    "vcpuNum": 16
   },
   {
    "_defaultOrder": 8,
    "_isFastLaunch": false,
    "category": "General purpose",
    "gpuNum": 0,
    "hideHardwareSpecs": false,
    "memoryGiB": 128,
    "name": "ml.m5.8xlarge",
    "vcpuNum": 32
   },
   {
    "_defaultOrder": 9,
    "_isFastLaunch": false,
    "category": "General purpose",
    "gpuNum": 0,
    "hideHardwareSpecs": false,
    "memoryGiB": 192,
    "name": "ml.m5.12xlarge",
    "vcpuNum": 48
   },
   {
    "_defaultOrder": 10,
    "_isFastLaunch": false,
    "category": "General purpose",
    "gpuNum": 0,
    "hideHardwareSpecs": false,
    "memoryGiB": 256,
    "name": "ml.m5.16xlarge",
    "vcpuNum": 64
   },
   {
    "_defaultOrder": 11,
    "_isFastLaunch": false,
    "category": "General purpose",
    "gpuNum": 0,
    "hideHardwareSpecs": false,
    "memoryGiB": 384,
    "name": "ml.m5.24xlarge",
    "vcpuNum": 96
   },
   {
    "_defaultOrder": 12,
    "_isFastLaunch": false,
    "category": "General purpose",
    "gpuNum": 0,
    "hideHardwareSpecs": false,
    "memoryGiB": 8,
    "name": "ml.m5d.large",
    "vcpuNum": 2
   },
   {
    "_defaultOrder": 13,
    "_isFastLaunch": false,
    "category": "General purpose",
    "gpuNum": 0,
    "hideHardwareSpecs": false,
    "memoryGiB": 16,
    "name": "ml.m5d.xlarge",
    "vcpuNum": 4
   },
   {
    "_defaultOrder": 14,
    "_isFastLaunch": false,
    "category": "General purpose",
    "gpuNum": 0,
    "hideHardwareSpecs": false,
    "memoryGiB": 32,
    "name": "ml.m5d.2xlarge",
    "vcpuNum": 8
   },
   {
    "_defaultOrder": 15,
    "_isFastLaunch": false,
    "category": "General purpose",
    "gpuNum": 0,
    "hideHardwareSpecs": false,
    "memoryGiB": 64,
    "name": "ml.m5d.4xlarge",
    "vcpuNum": 16
   },
   {
    "_defaultOrder": 16,
    "_isFastLaunch": false,
    "category": "General purpose",
    "gpuNum": 0,
    "hideHardwareSpecs": false,
    "memoryGiB": 128,
    "name": "ml.m5d.8xlarge",
    "vcpuNum": 32
   },
   {
    "_defaultOrder": 17,
    "_isFastLaunch": false,
    "category": "General purpose",
    "gpuNum": 0,
    "hideHardwareSpecs": false,
    "memoryGiB": 192,
    "name": "ml.m5d.12xlarge",
    "vcpuNum": 48
   },
   {
    "_defaultOrder": 18,
    "_isFastLaunch": false,
    "category": "General purpose",
    "gpuNum": 0,
    "hideHardwareSpecs": false,
    "memoryGiB": 256,
    "name": "ml.m5d.16xlarge",
    "vcpuNum": 64
   },
   {
    "_defaultOrder": 19,
    "_isFastLaunch": false,
    "category": "General purpose",
    "gpuNum": 0,
    "hideHardwareSpecs": false,
    "memoryGiB": 384,
    "name": "ml.m5d.24xlarge",
    "vcpuNum": 96
   },
   {
    "_defaultOrder": 20,
    "_isFastLaunch": false,
    "category": "General purpose",
    "gpuNum": 0,
    "hideHardwareSpecs": true,
    "memoryGiB": 0,
    "name": "ml.geospatial.interactive",
    "supportedImageNames": [
     "sagemaker-geospatial-v1-0"
    ],
    "vcpuNum": 0
   },
   {
    "_defaultOrder": 21,
    "_isFastLaunch": true,
    "category": "Compute optimized",
    "gpuNum": 0,
    "hideHardwareSpecs": false,
    "memoryGiB": 4,
    "name": "ml.c5.large",
    "vcpuNum": 2
   },
   {
    "_defaultOrder": 22,
    "_isFastLaunch": false,
    "category": "Compute optimized",
    "gpuNum": 0,
    "hideHardwareSpecs": false,
    "memoryGiB": 8,
    "name": "ml.c5.xlarge",
    "vcpuNum": 4
   },
   {
    "_defaultOrder": 23,
    "_isFastLaunch": false,
    "category": "Compute optimized",
    "gpuNum": 0,
    "hideHardwareSpecs": false,
    "memoryGiB": 16,
    "name": "ml.c5.2xlarge",
    "vcpuNum": 8
   },
   {
    "_defaultOrder": 24,
    "_isFastLaunch": false,
    "category": "Compute optimized",
    "gpuNum": 0,
    "hideHardwareSpecs": false,
    "memoryGiB": 32,
    "name": "ml.c5.4xlarge",
    "vcpuNum": 16
   },
   {
    "_defaultOrder": 25,
    "_isFastLaunch": false,
    "category": "Compute optimized",
    "gpuNum": 0,
    "hideHardwareSpecs": false,
    "memoryGiB": 72,
    "name": "ml.c5.9xlarge",
    "vcpuNum": 36
   },
   {
    "_defaultOrder": 26,
    "_isFastLaunch": false,
    "category": "Compute optimized",
    "gpuNum": 0,
    "hideHardwareSpecs": false,
    "memoryGiB": 96,
    "name": "ml.c5.12xlarge",
    "vcpuNum": 48
   },
   {
    "_defaultOrder": 27,
    "_isFastLaunch": false,
    "category": "Compute optimized",
    "gpuNum": 0,
    "hideHardwareSpecs": false,
    "memoryGiB": 144,
    "name": "ml.c5.18xlarge",
    "vcpuNum": 72
   },
   {
    "_defaultOrder": 28,
    "_isFastLaunch": false,
    "category": "Compute optimized",
    "gpuNum": 0,
    "hideHardwareSpecs": false,
    "memoryGiB": 192,
    "name": "ml.c5.24xlarge",
    "vcpuNum": 96
   },
   {
    "_defaultOrder": 29,
    "_isFastLaunch": true,
    "category": "Accelerated computing",
    "gpuNum": 1,
    "hideHardwareSpecs": false,
    "memoryGiB": 16,
    "name": "ml.g4dn.xlarge",
    "vcpuNum": 4
   },
   {
    "_defaultOrder": 30,
    "_isFastLaunch": false,
    "category": "Accelerated computing",
    "gpuNum": 1,
    "hideHardwareSpecs": false,
    "memoryGiB": 32,
    "name": "ml.g4dn.2xlarge",
    "vcpuNum": 8
   },
   {
    "_defaultOrder": 31,
    "_isFastLaunch": false,
    "category": "Accelerated computing",
    "gpuNum": 1,
    "hideHardwareSpecs": false,
    "memoryGiB": 64,
    "name": "ml.g4dn.4xlarge",
    "vcpuNum": 16
   },
   {
    "_defaultOrder": 32,
    "_isFastLaunch": false,
    "category": "Accelerated computing",
    "gpuNum": 1,
    "hideHardwareSpecs": false,
    "memoryGiB": 128,
    "name": "ml.g4dn.8xlarge",
    "vcpuNum": 32
   },
   {
    "_defaultOrder": 33,
    "_isFastLaunch": false,
    "category": "Accelerated computing",
    "gpuNum": 4,
    "hideHardwareSpecs": false,
    "memoryGiB": 192,
    "name": "ml.g4dn.12xlarge",
    "vcpuNum": 48
   },
   {
    "_defaultOrder": 34,
    "_isFastLaunch": false,
    "category": "Accelerated computing",
    "gpuNum": 1,
    "hideHardwareSpecs": false,
    "memoryGiB": 256,
    "name": "ml.g4dn.16xlarge",
    "vcpuNum": 64
   },
   {
    "_defaultOrder": 35,
    "_isFastLaunch": false,
    "category": "Accelerated computing",
    "gpuNum": 1,
    "hideHardwareSpecs": false,
    "memoryGiB": 61,
    "name": "ml.p3.2xlarge",
    "vcpuNum": 8
   },
   {
    "_defaultOrder": 36,
    "_isFastLaunch": false,
    "category": "Accelerated computing",
    "gpuNum": 4,
    "hideHardwareSpecs": false,
    "memoryGiB": 244,
    "name": "ml.p3.8xlarge",
    "vcpuNum": 32
   },
   {
    "_defaultOrder": 37,
    "_isFastLaunch": false,
    "category": "Accelerated computing",
    "gpuNum": 8,
    "hideHardwareSpecs": false,
    "memoryGiB": 488,
    "name": "ml.p3.16xlarge",
    "vcpuNum": 64
   },
   {
    "_defaultOrder": 38,
    "_isFastLaunch": false,
    "category": "Accelerated computing",
    "gpuNum": 8,
    "hideHardwareSpecs": false,
    "memoryGiB": 768,
    "name": "ml.p3dn.24xlarge",
    "vcpuNum": 96
   },
   {
    "_defaultOrder": 39,
    "_isFastLaunch": false,
    "category": "Memory Optimized",
    "gpuNum": 0,
    "hideHardwareSpecs": false,
    "memoryGiB": 16,
    "name": "ml.r5.large",
    "vcpuNum": 2
   },
   {
    "_defaultOrder": 40,
    "_isFastLaunch": false,
    "category": "Memory Optimized",
    "gpuNum": 0,
    "hideHardwareSpecs": false,
    "memoryGiB": 32,
    "name": "ml.r5.xlarge",
    "vcpuNum": 4
   },
   {
    "_defaultOrder": 41,
    "_isFastLaunch": false,
    "category": "Memory Optimized",
    "gpuNum": 0,
    "hideHardwareSpecs": false,
    "memoryGiB": 64,
    "name": "ml.r5.2xlarge",
    "vcpuNum": 8
   },
   {
    "_defaultOrder": 42,
    "_isFastLaunch": false,
    "category": "Memory Optimized",
    "gpuNum": 0,
    "hideHardwareSpecs": false,
    "memoryGiB": 128,
    "name": "ml.r5.4xlarge",
    "vcpuNum": 16
   },
   {
    "_defaultOrder": 43,
    "_isFastLaunch": false,
    "category": "Memory Optimized",
    "gpuNum": 0,
    "hideHardwareSpecs": false,
    "memoryGiB": 256,
    "name": "ml.r5.8xlarge",
    "vcpuNum": 32
   },
   {
    "_defaultOrder": 44,
    "_isFastLaunch": false,
    "category": "Memory Optimized",
    "gpuNum": 0,
    "hideHardwareSpecs": false,
    "memoryGiB": 384,
    "name": "ml.r5.12xlarge",
    "vcpuNum": 48
   },
   {
    "_defaultOrder": 45,
    "_isFastLaunch": false,
    "category": "Memory Optimized",
    "gpuNum": 0,
    "hideHardwareSpecs": false,
    "memoryGiB": 512,
    "name": "ml.r5.16xlarge",
    "vcpuNum": 64
   },
   {
    "_defaultOrder": 46,
    "_isFastLaunch": false,
    "category": "Memory Optimized",
    "gpuNum": 0,
    "hideHardwareSpecs": false,
    "memoryGiB": 768,
    "name": "ml.r5.24xlarge",
    "vcpuNum": 96
   },
   {
    "_defaultOrder": 47,
    "_isFastLaunch": false,
    "category": "Accelerated computing",
    "gpuNum": 1,
    "hideHardwareSpecs": false,
    "memoryGiB": 16,
    "name": "ml.g5.xlarge",
    "vcpuNum": 4
   },
   {
    "_defaultOrder": 48,
    "_isFastLaunch": false,
    "category": "Accelerated computing",
    "gpuNum": 1,
    "hideHardwareSpecs": false,
    "memoryGiB": 32,
    "name": "ml.g5.2xlarge",
    "vcpuNum": 8
   },
   {
    "_defaultOrder": 49,
    "_isFastLaunch": false,
    "category": "Accelerated computing",
    "gpuNum": 1,
    "hideHardwareSpecs": false,
    "memoryGiB": 64,
    "name": "ml.g5.4xlarge",
    "vcpuNum": 16
   },
   {
    "_defaultOrder": 50,
    "_isFastLaunch": false,
    "category": "Accelerated computing",
    "gpuNum": 1,
    "hideHardwareSpecs": false,
    "memoryGiB": 128,
    "name": "ml.g5.8xlarge",
    "vcpuNum": 32
   },
   {
    "_defaultOrder": 51,
    "_isFastLaunch": false,
    "category": "Accelerated computing",
    "gpuNum": 1,
    "hideHardwareSpecs": false,
    "memoryGiB": 256,
    "name": "ml.g5.16xlarge",
    "vcpuNum": 64
   },
   {
    "_defaultOrder": 52,
    "_isFastLaunch": false,
    "category": "Accelerated computing",
    "gpuNum": 4,
    "hideHardwareSpecs": false,
    "memoryGiB": 192,
    "name": "ml.g5.12xlarge",
    "vcpuNum": 48
   },
   {
    "_defaultOrder": 53,
    "_isFastLaunch": false,
    "category": "Accelerated computing",
    "gpuNum": 4,
    "hideHardwareSpecs": false,
    "memoryGiB": 384,
    "name": "ml.g5.24xlarge",
    "vcpuNum": 96
   },
   {
    "_defaultOrder": 54,
    "_isFastLaunch": false,
    "category": "Accelerated computing",
    "gpuNum": 8,
    "hideHardwareSpecs": false,
    "memoryGiB": 768,
    "name": "ml.g5.48xlarge",
    "vcpuNum": 192
   },
   {
    "_defaultOrder": 55,
    "_isFastLaunch": false,
    "category": "Accelerated computing",
    "gpuNum": 8,
    "hideHardwareSpecs": false,
    "memoryGiB": 1152,
    "name": "ml.p4d.24xlarge",
    "vcpuNum": 96
   },
   {
    "_defaultOrder": 56,
    "_isFastLaunch": false,
    "category": "Accelerated computing",
    "gpuNum": 8,
    "hideHardwareSpecs": false,
    "memoryGiB": 1152,
    "name": "ml.p4de.24xlarge",
    "vcpuNum": 96
   },
   {
    "_defaultOrder": 57,
    "_isFastLaunch": false,
    "category": "Accelerated computing",
    "gpuNum": 0,
    "hideHardwareSpecs": false,
    "memoryGiB": 32,
    "name": "ml.trn1.2xlarge",
    "vcpuNum": 8
   },
   {
    "_defaultOrder": 58,
    "_isFastLaunch": false,
    "category": "Accelerated computing",
    "gpuNum": 0,
    "hideHardwareSpecs": false,
    "memoryGiB": 512,
    "name": "ml.trn1.32xlarge",
    "vcpuNum": 128
   },
   {
    "_defaultOrder": 59,
    "_isFastLaunch": false,
    "category": "Accelerated computing",
    "gpuNum": 0,
    "hideHardwareSpecs": false,
    "memoryGiB": 512,
    "name": "ml.trn1n.32xlarge",
    "vcpuNum": 128
   }
  ],
  "instance_type": "ml.t3.medium",
  "kernelspec": {
   "display_name": "Python 3 (ipykernel)",
   "language": "python",
   "name": "python3"
  },
  "language_info": {
   "codemirror_mode": {
    "name": "ipython",
    "version": 3
   },
   "file_extension": ".py",
   "mimetype": "text/x-python",
   "name": "python",
   "nbconvert_exporter": "python",
   "pygments_lexer": "ipython3",
   "version": "3.10.14"
  },
  "widgets": {
   "application/vnd.jupyter.widget-state+json": {
    "state": {},
    "version_major": 2,
    "version_minor": 0
   }
  }
 },
 "nbformat": 4,
 "nbformat_minor": 5
}
