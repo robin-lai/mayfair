{
 "cells": [
  {
   "cell_type": "code",
   "execution_count": 1,
   "id": "a454085d-34c2-4d9b-9b02-dc1d0119d514",
   "metadata": {
    "tags": []
   },
   "outputs": [],
   "source": [
    "! mkdir -p data/code"
   ]
  },
  {
   "cell_type": "markdown",
   "id": "9361d84c-e91d-4449-a436-4fa84224fbfe",
   "metadata": {
    "tags": []
   },
   "source": [
    "# 下载词典数据"
   ]
  },
  {
   "cell_type": "code",
   "execution_count": 2,
   "id": "ad78e1a8-6473-4e9c-b472-019c9c9b53f3",
   "metadata": {
    "tags": []
   },
   "outputs": [
    {
     "name": "stdout",
     "output_type": "stream",
     "text": [
      "sagemaker.config INFO - Not applying SDK defaults from location: /etc/xdg/sagemaker/config.yaml\n",
      "sagemaker.config INFO - Not applying SDK defaults from location: /home/sagemaker-user/.config/sagemaker/config.yaml\n"
     ]
    }
   ],
   "source": [
    "import json, os, random, time, math, multiprocessing, traceback\n",
    "import boto3\n",
    "import sagemaker\n",
    "from sagemaker import image_uris, get_execution_role\n",
    "from sagemaker.session import production_variant\n",
    "from pyarrow import parquet\n",
    "from datetime import datetime, timedelta\n",
    "import pickle"
   ]
  },
  {
   "cell_type": "code",
   "execution_count": 3,
   "id": "3d45cb6d-7586-47b9-82ff-6460889359b6",
   "metadata": {
    "tags": []
   },
   "outputs": [
    {
     "name": "stdout",
     "output_type": "stream",
     "text": [
      "aws region: ap-southeast-1\n",
      "role: arn:aws:iam::580243821396:role/service-role/AmazonSageMaker-ExecutionRole-20241030T174232\n"
     ]
    }
   ],
   "source": [
    "s3_cli = boto3.client('s3')\n",
    "sm_sess = sagemaker.Session()\n",
    "print('aws region:', sm_sess.boto_region_name)\n",
    "sm_cli = boto3.client('sagemaker')\n",
    "role = get_execution_role()\n",
    "print('role:', role)"
   ]
  },
  {
   "cell_type": "code",
   "execution_count": 4,
   "id": "b4015782-9e58-4b09-943d-015f05192c76",
   "metadata": {
    "tags": []
   },
   "outputs": [],
   "source": [
    "def get_s3_file_list_by_prefix(bucket, prefix, max_cnt=int(1e6)):\n",
    "        file_list = sorted([v['Key'] for v in s3_cli.list_objects(Bucket=bucket,\n",
    "                                                                  Prefix=prefix, MaxKeys=max_cnt).get('Contents', [])])\n",
    "        print('List S3 %d files in prefix: %s' % (len(file_list), prefix))\n",
    "        return file_list\n",
    "\n",
    "def get_latest_dict_path(bucket, prefix):\n",
    "    file_list_ = get_s3_file_list_by_prefix(bucket, prefix)\n",
    "    file_list_ = [(item, item.split(\"ds=\")[1][:8]) for item in file_list_]\n",
    "    print(file_list_)\n",
    "    latest_date = sorted(file_list_, key=lambda item:item[1], reverse=True)[0][1]\n",
    "    return latest_date"
   ]
  },
  {
   "cell_type": "code",
   "execution_count": 5,
   "id": "90e7305d-b6fd-4c93-a5fe-7997e5b04adc",
   "metadata": {
    "collapsed": true,
    "editable": true,
    "jupyter": {
     "outputs_hidden": true
    },
    "slideshow": {
     "slide_type": ""
    },
    "tags": []
   },
   "outputs": [
    {
     "name": "stdout",
     "output_type": "stream",
     "text": [
      "List S3 167 files in prefix: cn_all_goods_info\n",
      "[('cn_all_goods_info/ds=20240603/part-00000-0f9cd02d-f31e-4165-bac2-d2c5e68d703b-c000', '20240603'), ('cn_all_goods_info/ds=20240604/part-00000-0eaddece-0104-4dbb-b79b-618e81aab607-c000', '20240604'), ('cn_all_goods_info/ds=20240605/part-00000-5a697e10-02f7-45bb-a61a-724f1b2faf8d-c000', '20240605'), ('cn_all_goods_info/ds=20240606/part-00000-360d4e6c-8b8b-4962-9188-e8ee937be75c-c000', '20240606'), ('cn_all_goods_info/ds=20240607/part-00000-635083ef-3539-44b2-9b9b-684c9d56ec7b-c000', '20240607'), ('cn_all_goods_info/ds=20240608/part-00000-3684794a-d12e-4c8f-9eb3-e5200afe6225-c000', '20240608'), ('cn_all_goods_info/ds=20240609/part-00000-dd661ec6-f914-4b9f-8460-08fe888a0c22-c000', '20240609'), ('cn_all_goods_info/ds=20240610/part-00000-e716a8e1-f19c-46c7-a12d-a16df95a9baf-c000', '20240610'), ('cn_all_goods_info/ds=20240611/part-00000-a89e31b1-3486-4600-a390-7611f752cdd9-c000', '20240611'), ('cn_all_goods_info/ds=20240612/part-00000-27ce48d3-4c85-431b-98da-3cb84e30abf3-c000', '20240612'), ('cn_all_goods_info/ds=20240613/part-00000-4c534e94-2387-4603-813a-40994c0602b3-c000', '20240613'), ('cn_all_goods_info/ds=20240614/part-00000-f3a1be50-68e0-4398-8fe3-26dea732860f-c000', '20240614'), ('cn_all_goods_info/ds=20240615/part-00000-f3a8bffb-3bd1-499f-938b-46ccd9074119-c000', '20240615'), ('cn_all_goods_info/ds=20240616/part-00000-9a8364f1-b1c0-4f13-8de1-b0844a735cc9-c000', '20240616'), ('cn_all_goods_info/ds=20240617/part-00000-9736f9dc-26c0-425a-87fa-309cc279e20d-c000', '20240617'), ('cn_all_goods_info/ds=20240618/part-00000-60bcf327-2d37-427c-8928-8191d09287cb-c000', '20240618'), ('cn_all_goods_info/ds=20240619/part-00000-3dafa045-7792-4ddc-82c8-27ba560c75e7-c000', '20240619'), ('cn_all_goods_info/ds=20240620/part-00000-3cf180fa-97b8-42e7-84b6-f02f5c3976b0-c000', '20240620'), ('cn_all_goods_info/ds=20240621/part-00000-85f296c1-6498-4820-928f-f8ebed0ffc12-c000', '20240621'), ('cn_all_goods_info/ds=20240622/part-00000-3bf73edb-6122-4501-bf80-75864b566963-c000', '20240622'), ('cn_all_goods_info/ds=20240623/part-00000-40229947-0313-4199-9fc7-60486436edef-c000', '20240623'), ('cn_all_goods_info/ds=20240624/part-00000-d1236c2c-899f-49e8-a57e-00b7b73cf21d-c000', '20240624'), ('cn_all_goods_info/ds=20240625/part-00000-6bc84c48-997a-44a3-87d3-942649db58ca-c000', '20240625'), ('cn_all_goods_info/ds=20240626/part-00000-ef96ac91-09dc-45be-92e3-62f003adc11a-c000', '20240626'), ('cn_all_goods_info/ds=20240627/part-00000-9ebd637d-bc44-4add-8524-15f11a175b6a-c000', '20240627'), ('cn_all_goods_info/ds=20240628/part-00000-e1b7f731-9bbd-4a89-9814-25a38b9339c2-c000', '20240628'), ('cn_all_goods_info/ds=20240629/part-00000-54055354-491b-427f-ad90-4e56c154ee8c-c000', '20240629'), ('cn_all_goods_info/ds=20240630/part-00000-2b6f0867-c5ac-424b-98df-0482868b1c4f-c000', '20240630'), ('cn_all_goods_info/ds=20240701/part-00000-44d4d5f2-5080-4647-9bdc-dc514659263e-c000', '20240701'), ('cn_all_goods_info/ds=20240702/part-00000-debac814-ac42-4ce6-9ba4-e9577cb882d7-c000', '20240702'), ('cn_all_goods_info/ds=20240703/part-00000-80af0d1c-0ca9-4b6b-b042-4f6caa3268c7-c000', '20240703'), ('cn_all_goods_info/ds=20240704/part-00000-713532fe-b271-4dd8-afd6-7cc11520bcf2-c000', '20240704'), ('cn_all_goods_info/ds=20240705/part-00000-0091e143-3b79-4f86-b578-a8bc482bbcb0-c000', '20240705'), ('cn_all_goods_info/ds=20240706/part-00000-3ce57646-a09c-4cb7-9667-6db185c9fa78-c000', '20240706'), ('cn_all_goods_info/ds=20240707/part-00000-33aad198-be8a-404d-9674-9c798f4cf462-c000', '20240707'), ('cn_all_goods_info/ds=20240708/part-00000-52e2ddc0-d671-4089-a780-1d6ad13d3848-c000', '20240708'), ('cn_all_goods_info/ds=20240709/part-00000-041c9ad6-6d89-4504-a989-1b352cc9a317-c000', '20240709'), ('cn_all_goods_info/ds=20240710/part-00000-e27b2b65-43c4-4f64-96ab-568149c88de6-c000', '20240710'), ('cn_all_goods_info/ds=20240711/part-00000-50fd7c44-aee1-416f-9af9-bc429f31f7ca-c000', '20240711'), ('cn_all_goods_info/ds=20240712/part-00000-d76e456f-f35e-4929-83fb-567d2a474c2d-c000', '20240712'), ('cn_all_goods_info/ds=20240713/part-00000-9a799c5b-ca49-4483-84bc-04e8107c683b-c000', '20240713'), ('cn_all_goods_info/ds=20240714/part-00000-3781da8b-9938-405b-8eef-06c4c4a29167-c000', '20240714'), ('cn_all_goods_info/ds=20240715/part-00000-b7f2c0e7-5934-4dc8-a334-a47970e93fb4-c000', '20240715'), ('cn_all_goods_info/ds=20240716/part-00000-89327945-8c78-4609-9711-259887c22802-c000', '20240716'), ('cn_all_goods_info/ds=20240717/part-00000-5c9f5b4d-15d0-46f4-9af7-cbb04428ac5e-c000', '20240717'), ('cn_all_goods_info/ds=20240718/part-00000-e9d5bacf-e335-4575-8b6e-2e4fbf455bdd-c000', '20240718'), ('cn_all_goods_info/ds=20240719/part-00000-1ea5a727-6248-4c86-b72d-6cd968b524ce-c000', '20240719'), ('cn_all_goods_info/ds=20240720/part-00000-6dba005f-8116-4380-93f5-d5348ea3b3ca-c000', '20240720'), ('cn_all_goods_info/ds=20240721/part-00000-eb089b79-10c7-439a-abaa-b5929b4b4f97-c000', '20240721'), ('cn_all_goods_info/ds=20240722/part-00000-a1793031-8032-41ae-a99e-aef7270bc681-c000', '20240722'), ('cn_all_goods_info/ds=20240723/part-00000-81b32341-f66d-4f75-bb9d-77ec197fdb7e-c000', '20240723'), ('cn_all_goods_info/ds=20240724/part-00000-2269b1c9-33b3-42d3-ad38-7fc668a918ed-c000', '20240724'), ('cn_all_goods_info/ds=20240725/part-00000-b3e3864d-aac2-4cfd-a0c9-e313f86334f1-c000', '20240725'), ('cn_all_goods_info/ds=20240726/part-00000-6dcf4919-13c1-4b45-9dc3-ab080044d795-c000', '20240726'), ('cn_all_goods_info/ds=20240727/part-00000-23aea1d4-c22d-44a1-aa73-f2d24ce30793-c000', '20240727'), ('cn_all_goods_info/ds=20240728/part-00000-c6492ae2-0af4-4741-b1f5-0d883a979308-c000', '20240728'), ('cn_all_goods_info/ds=20240729/part-00000-03cc9ad9-55fe-405c-9fe0-ce910376bed6-c000', '20240729'), ('cn_all_goods_info/ds=20240730/part-00000-6af2e156-ec3e-4b4f-8e32-39e7bf9c77ad-c000', '20240730'), ('cn_all_goods_info/ds=20240731/part-00000-4d2f191d-b695-4bf0-ae9b-a1cce9941113-c000', '20240731'), ('cn_all_goods_info/ds=20240801/part-00000-eab89339-3650-4f39-a362-3978a6d65f44-c000', '20240801'), ('cn_all_goods_info/ds=20240802/part-00000-ebadf5c2-8fe4-44aa-9808-68f34a016271-c000', '20240802'), ('cn_all_goods_info/ds=20240803/part-00000-50745556-7717-4ae9-9dfe-09ce63abf8e5-c000', '20240803'), ('cn_all_goods_info/ds=20240804/part-00000-6d586b75-6d61-4759-bbca-d4400e46a306-c000', '20240804'), ('cn_all_goods_info/ds=20240805/part-00000-480a921c-1caa-4ed1-a975-57d89fbf2023-c000', '20240805'), ('cn_all_goods_info/ds=20240806/part-00000-cb53b613-8e8f-45ac-a7a9-77572ba96277-c000', '20240806'), ('cn_all_goods_info/ds=20240808/part-00000-d732a52a-30f9-497c-b28d-5e4bc4c2dc55-c000', '20240808'), ('cn_all_goods_info/ds=20240809/part-00000-d4d4f384-9a09-4b53-81ad-e1931cca4981-c000', '20240809'), ('cn_all_goods_info/ds=20240810/part-00000-836b2722-20a7-4cfb-ac2a-4421d322ebd7-c000', '20240810'), ('cn_all_goods_info/ds=20240811/part-00000-393de6bf-3581-4505-96b5-d27ecda0f893-c000', '20240811'), ('cn_all_goods_info/ds=20240812/part-00000-9b287721-7780-4167-8be1-fd58e5d2e639-c000', '20240812'), ('cn_all_goods_info/ds=20240813/part-00000-9d31df80-f63e-4fad-984c-41c66e89b5cd-c000', '20240813'), ('cn_all_goods_info/ds=20240814/part-00000-95d0c1d4-adb3-4f6a-940e-4e8ba50894ae-c000', '20240814'), ('cn_all_goods_info/ds=20240815/part-00000-a97b7342-193b-45b9-b01b-5a3de130562a-c000', '20240815'), ('cn_all_goods_info/ds=20240816/part-00000-3073384a-bed6-494e-a744-d3ac9d73cb93-c000', '20240816'), ('cn_all_goods_info/ds=20240817/part-00000-5ec7691e-ab05-4df0-a4ba-b808037154d2-c000', '20240817'), ('cn_all_goods_info/ds=20240818/part-00000-1aeb7fe2-b18d-4704-aa90-694b76ad20f7-c000', '20240818'), ('cn_all_goods_info/ds=20240819/part-00000-60b321e2-457c-4b3b-a4fa-41ae97f6a0f2-c000', '20240819'), ('cn_all_goods_info/ds=20240820/part-00000-b1e6fc45-9c23-4f0d-9a3f-171a91d366d2-c000', '20240820'), ('cn_all_goods_info/ds=20240821/part-00000-33335ad8-bbd5-41ad-9cfa-a4d512ce73ec-c000', '20240821'), ('cn_all_goods_info/ds=20240822/part-00000-14750eda-fcac-4083-bfa6-4481ae2deffa-c000', '20240822'), ('cn_all_goods_info/ds=20240823/part-00000-25e37777-ed76-4b55-8c36-41a97a28a4b9-c000', '20240823'), ('cn_all_goods_info/ds=20240824/part-00000-b5aa74f6-490d-4c04-a228-61878abdac23-c000', '20240824'), ('cn_all_goods_info/ds=20240825/part-00000-cebecdac-ae87-40fb-ba30-a263e4aa98fa-c000', '20240825'), ('cn_all_goods_info/ds=20240826/part-00000-10a7a98d-0604-452f-aab6-669facf38ecf-c000', '20240826'), ('cn_all_goods_info/ds=20240827/part-00000-4fef851f-b266-4362-b176-5f5e28826663-c000', '20240827'), ('cn_all_goods_info/ds=20240828/part-00000-26a5bc02-73d5-4a03-941c-948178fe2a9b-c000', '20240828'), ('cn_all_goods_info/ds=20240829/part-00000-30976136-ea87-4668-8278-70b6fbf5f46f-c000', '20240829'), ('cn_all_goods_info/ds=20240830/part-00000-61ca0cbe-d348-498b-b138-add0a17f3043-c000', '20240830'), ('cn_all_goods_info/ds=20240831/part-00000-93114f3d-a7c0-4a8c-8afd-97e312e76adb-c000', '20240831'), ('cn_all_goods_info/ds=20240901/part-00000-8141bfb8-32f4-459e-bc81-b09a89350620-c000', '20240901'), ('cn_all_goods_info/ds=20240902/part-00000-56988422-090f-4a7a-90c0-180e4dbd2678-c000', '20240902'), ('cn_all_goods_info/ds=20240903/part-00000-ae62dd25-b76b-4683-9264-c745acf30a22-c000', '20240903'), ('cn_all_goods_info/ds=20240904/part-00000-11ae5952-132d-4895-adf7-5a1850376e37-c000', '20240904'), ('cn_all_goods_info/ds=20240905/part-00000-130f343c-14f2-4569-8b75-132160853e22-c000', '20240905'), ('cn_all_goods_info/ds=20240906/part-00000-f581d0b5-85b6-49d5-9ba6-d179ec955463-c000', '20240906'), ('cn_all_goods_info/ds=20240907/part-00000-6c5e924e-ec38-4e4a-b9d7-d52363bf35ca-c000', '20240907'), ('cn_all_goods_info/ds=20240908/part-00000-bcf39993-8bf7-468b-a553-784e8211738a-c000', '20240908'), ('cn_all_goods_info/ds=20240909/part-00000-ab0f36a7-57d8-4be2-a8ac-63b53bfceec1-c000', '20240909'), ('cn_all_goods_info/ds=20240910/part-00000-1642a50c-2736-4e54-b674-79991e5f7109-c000', '20240910'), ('cn_all_goods_info/ds=20240911/part-00000-298c795d-74e7-423c-a7a7-af06ef1b6941-c000', '20240911'), ('cn_all_goods_info/ds=20240912/part-00000-4867f082-61b3-4c8f-b80e-6347c23c6cc8-c000', '20240912'), ('cn_all_goods_info/ds=20240913/part-00000-8deb6b1f-3416-4da5-94d5-d6d0f92cdeae-c000', '20240913'), ('cn_all_goods_info/ds=20240914/part-00000-f03d7ccb-37e2-4e7c-8a34-76ee50953697-c000', '20240914'), ('cn_all_goods_info/ds=20240915/part-00000-dbdb24fe-3160-4388-bd5f-6b22b769b006-c000', '20240915'), ('cn_all_goods_info/ds=20240916/part-00000-283c7f34-8579-4bad-bb8c-1e906bf5daa0-c000', '20240916'), ('cn_all_goods_info/ds=20240917/part-00000-7b94e5c8-be97-4679-8d84-603cf5f9e2b6-c000', '20240917'), ('cn_all_goods_info/ds=20240918/part-00000-f756c42e-90f1-43ca-914a-cbaee7d4020e-c000', '20240918'), ('cn_all_goods_info/ds=20240919/part-00000-7297a427-a70c-4ee1-9821-b8289095d87e-c000', '20240919'), ('cn_all_goods_info/ds=20240920/part-00000-7835e562-094a-44fd-b625-7f7aa1666b56-c000', '20240920'), ('cn_all_goods_info/ds=20240921/part-00000-87eb8ba5-a718-47e9-85e3-b8947d49acad-c000', '20240921'), ('cn_all_goods_info/ds=20240922/part-00000-cf8e220e-89bf-47f8-883d-4fdd333e2875-c000', '20240922'), ('cn_all_goods_info/ds=20240923/part-00000-04a46ffe-742f-4379-9c16-ec99976f2954-c000', '20240923'), ('cn_all_goods_info/ds=20240924/part-00000-cf79c005-4d6b-4761-94b1-652948a84993-c000', '20240924'), ('cn_all_goods_info/ds=20240925/part-00000-bfb8f070-44b7-4ab8-adfa-322c389a6944-c000', '20240925'), ('cn_all_goods_info/ds=20240926/part-00000-12e164e8-80ac-4280-a537-f824e7f6a05b-c000', '20240926'), ('cn_all_goods_info/ds=20240927/part-00000-79a200c4-8126-4929-9940-fbc53f2421bf-c000', '20240927'), ('cn_all_goods_info/ds=20240928/part-00000-9b0e66c8-38df-4a49-b59a-0859166f64c5-c000', '20240928'), ('cn_all_goods_info/ds=20240929/part-00000-0bc6d003-c68f-4367-9dd4-87d90e1a8329-c000', '20240929'), ('cn_all_goods_info/ds=20240930/part-00000-8388e5d5-a2f6-4dbf-a168-c990db802000-c000', '20240930'), ('cn_all_goods_info/ds=20241001/part-00000-f786af4b-e838-4abc-9b5b-e25b286ec059-c000', '20241001'), ('cn_all_goods_info/ds=20241002/part-00000-cf3bb97d-1fb3-4176-b3c0-e22f800c0b0e-c000', '20241002'), ('cn_all_goods_info/ds=20241003/part-00000-5f13dd64-141a-41d2-a5c0-20def16d1afe-c000', '20241003'), ('cn_all_goods_info/ds=20241004/part-00000-76b0c2f4-0642-48ae-8c3e-f8546a198cf4-c000', '20241004'), ('cn_all_goods_info/ds=20241005/part-00000-6724cc17-14be-4d4b-8e81-e10d1f82d02d-c000', '20241005'), ('cn_all_goods_info/ds=20241006/part-00000-8769e8b7-52c4-4371-a503-c8fbf6759448-c000', '20241006'), ('cn_all_goods_info/ds=20241007/part-00000-fc19527b-2662-4229-a604-86ccf840d3cc-c000', '20241007'), ('cn_all_goods_info/ds=20241008/part-00000-dfcb0822-9b44-4290-9ac6-f89f18414300-c000', '20241008'), ('cn_all_goods_info/ds=20241009/part-00000-de3f1af1-dcd5-49fd-90e0-ffc38f45e2cf-c000', '20241009'), ('cn_all_goods_info/ds=20241010/part-00000-115db6db-0bcc-4c09-8733-93c4f11274f9-c000', '20241010'), ('cn_all_goods_info/ds=20241011/part-00000-ec0a05b8-12b6-4a67-aef6-69c41e1268c2-c000', '20241011'), ('cn_all_goods_info/ds=20241012/part-00000-bc803bf4-d4c6-4748-a3e4-7b0c45072c99-c000', '20241012'), ('cn_all_goods_info/ds=20241013/part-00000-29f66c53-df7e-47f3-a4ae-9161ba510c04-c000', '20241013'), ('cn_all_goods_info/ds=20241014/part-00000-4a97bd26-0202-4508-be37-ace36f4f4482-c000', '20241014'), ('cn_all_goods_info/ds=20241015/part-00000-ee01dc81-b11b-439c-96be-661c00bd504b-c000', '20241015'), ('cn_all_goods_info/ds=20241016/part-00000-cc0d6e3c-bab2-48a5-996c-87d4009c9d16-c000', '20241016'), ('cn_all_goods_info/ds=20241017/part-00000-44e561d5-3f0d-431a-9374-6d5e5421ed77-c000', '20241017'), ('cn_all_goods_info/ds=20241018/part-00000-0c00bffa-0f77-40a0-9464-e63ff8e4ce7f-c000', '20241018'), ('cn_all_goods_info/ds=20241019/part-00000-adcdec55-197f-4b54-891d-0dd045cb10ff-c000', '20241019'), ('cn_all_goods_info/ds=20241020/part-00000-4d978761-c668-4a3e-84cd-3ab8f888fc0a-c000', '20241020'), ('cn_all_goods_info/ds=20241021/part-00000-f1dd6fda-5a9c-44c7-9fb0-9b9c9202889e-c000', '20241021'), ('cn_all_goods_info/ds=20241022/part-00000-ce631c74-f901-4441-9de8-ebac0ae05234-c000', '20241022'), ('cn_all_goods_info/ds=20241023/part-00000-187ebadd-6f49-4f91-8ea7-6fd9438d0bdf-c000', '20241023'), ('cn_all_goods_info/ds=20241024/part-00000-c19fd98a-ca1c-452f-9c92-b3db10029c72-c000', '20241024'), ('cn_all_goods_info/ds=20241025/part-00000-159d3a16-3907-439e-b202-496bf25bd94a-c000', '20241025'), ('cn_all_goods_info/ds=20241026/part-00000-abade20c-f195-4caa-844e-7ad9a017d1b9-c000', '20241026'), ('cn_all_goods_info/ds=20241027/part-00000-fedfc007-d2fb-4191-9cd4-96a03229322f-c000', '20241027'), ('cn_all_goods_info/ds=20241028/part-00000-ab090ecf-cd01-41af-b84d-c3387cf8171f-c000', '20241028'), ('cn_all_goods_info/ds=20241029/part-00000-10fa3625-6e1f-4914-b66c-99f263927023-c000', '20241029'), ('cn_all_goods_info/ds=20241030/part-00000-cbfaaf1f-9d64-4f19-8b63-b14fb2156060-c000', '20241030'), ('cn_all_goods_info/ds=20241031/part-00000-1d98d5fb-364e-4f04-bb8b-847a255108fb-c000', '20241031'), ('cn_all_goods_info/ds=20241101/part-00000-d989ad1a-4d86-43c9-9e44-c9037f460145-c000', '20241101'), ('cn_all_goods_info/ds=20241102/part-00000-503582ed-6d1d-4d25-b78b-1236a088c826-c000', '20241102'), ('cn_all_goods_info/ds=20241103/part-00000-4e5497c1-22b6-43e8-9e44-52a669c3d05a-c000', '20241103'), ('cn_all_goods_info/ds=20241104/part-00000-22b60a43-e753-4542-b432-d54fdd6d3222-c000', '20241104'), ('cn_all_goods_info/ds=20241105/part-00000-c606979a-1a48-4d87-ab94-8d1792fb2c93-c000', '20241105'), ('cn_all_goods_info/ds=20241106/part-00000-5e157512-35d4-486a-82fe-ec3b0ce972f2-c000', '20241106'), ('cn_all_goods_info/ds=20241107/part-00000-10159c21-5ae0-4388-94b0-46beb462f52f-c000', '20241107'), ('cn_all_goods_info/ds=20241108/part-00000-f14b913f-ac38-4d95-9f5d-dcfa8b2a0122-c000', '20241108'), ('cn_all_goods_info/ds=20241109/part-00000-a227a3e0-5106-4ff7-8f5d-5a0b1bcf7b19-c000', '20241109'), ('cn_all_goods_info/ds=20241110/part-00000-c1998964-591a-411d-8ac4-834a75b65cfc-c000', '20241110'), ('cn_all_goods_info/ds=20241111/part-00000-108aafac-be09-4869-bc28-eccf8d8f287a-c000', '20241111'), ('cn_all_goods_info/ds=20241112/part-00000-0473ec38-0fc0-491f-8eed-62f749288b59-c000', '20241112'), ('cn_all_goods_info/ds=20241113/part-00000-f1411f43-5d76-4343-9ee2-b162e38219df-c000', '20241113'), ('cn_all_goods_info/ds=20241114/part-00000-cea69d65-1ddd-4da5-9ed4-f9cbeaa36afa-c000', '20241114'), ('cn_all_goods_info/ds=20241115/part-00000-84078e9a-6fdb-4a3f-8839-a391b5913fa4-c000', '20241115'), ('cn_all_goods_info/ds=20241116/part-00000-b11aafd4-2177-4794-b163-2ebec0093cd5-c000', '20241116'), ('cn_all_goods_info/ds=20241117/part-00000-93d46cf5-2222-441e-9c55-2ee18f4e346a-c000', '20241117')]\n"
     ]
    }
   ],
   "source": [
    "latest_date = get_latest_dict_path(\"warehouse-algo\", \"cn_all_goods_info\")\n",
    "yesterday = latest_date\n",
    "# yesterday_lines = save_file_from_s3('warehouse-algo', 'cn_all_goods_info/', days_range=[yesterday],\n",
    "#                                         fmt='parquet')"
   ]
  },
  {
   "cell_type": "code",
   "execution_count": 6,
   "id": "65b4bcf2-4919-47e3-8024-0006abcc7254",
   "metadata": {
    "tags": []
   },
   "outputs": [
    {
     "data": {
      "text/plain": [
       "'20241117'"
      ]
     },
     "execution_count": 6,
     "metadata": {},
     "output_type": "execute_result"
    }
   ],
   "source": [
    "latest_date"
   ]
  },
  {
   "cell_type": "markdown",
   "id": "1b45bbd8-77ad-4e21-9096-40c013ee3bcf",
   "metadata": {},
   "source": [
    "# download goods attrs dict"
   ]
  },
  {
   "cell_type": "code",
   "execution_count": 7,
   "id": "eb6150fb-4d2c-4ef2-ab44-7216af3fd8cb",
   "metadata": {
    "jupyter": {
     "source_hidden": true
    },
    "tags": []
   },
   "outputs": [],
   "source": [
    "def get_goods_prop_values(yesterday):\n",
    "    selected_fields = ['belt', 'bra type', 'chest pad', 'cid1_name', 'cid2_name', 'cid3_name', 'cid4_name',\n",
    "                       'collection', 'colors', 'cup shape', 'decoration(accessories)', 'decoration(bags)',\n",
    "                       'decoration(jewelry)', 'design detail', 'features', 'fit', 'goods_desc', 'hem shaped', 'length',\n",
    "                       'lining', 'main fabric', 'main material', 'main material (bag)', 'material (beauty)',\n",
    "                       'material(glasses)', 'neckline', 'occasion', 'opening(bags )', 'other material', 'pattern',\n",
    "                       'pattern(glasses)', 'season', 'shape', 'silhouette', 'sleeve length', 'sleeve type', 'softness',\n",
    "                       'strap type', 'strap type(swimwear)', 'style', 'style(home)', 'title', 'type', 'underwire',\n",
    "                       'waistline']\n",
    "\n",
    "    def parquet_iter(parquet_file):\n",
    "        f = parquet.ParquetFile(parquet_file)\n",
    "        for batch in f.iter_batches():\n",
    "            for msg in batch.to_pylist():\n",
    "                yield msg\n",
    "        f.close()\n",
    "\n",
    "    def load_record(tmp_file, fmt):\n",
    "        if fmt == 'parquet':\n",
    "            for v in parquet_iter(tmp_file):\n",
    "                yield v\n",
    "        elif fmt == 'lines':\n",
    "            with open(tmp_file, 'rt') as f:\n",
    "                for v in f.readlines():\n",
    "                    yield v\n",
    "        elif fmt == 'csv':\n",
    "            with open(tmp_file, 'rt') as f:\n",
    "                header = {name: idx for idx, name in enumerate(f.readline().strip('\\n').split('\\t'))}\n",
    "                for line in f:\n",
    "                    items = line.strip('\\n').split('\\t')\n",
    "                    yield {k: items[v] for k, v in header.items()}\n",
    "\n",
    "    def load_s3_dir(bucket, prefix, days_range, fmt='parquet', save_path=\"./data/sort/tmp.txt\"):\n",
    "        days_range = {k: 1 for k in days_range}\n",
    "        paginator = s3_cli.get_paginator('list_objects_v2')\n",
    "        page_iter = paginator.paginate(Bucket=bucket, Prefix=prefix)\n",
    "        file_list = sum([[v['Key'] for v in page.get('Contents', [])] for page in page_iter], [])\n",
    "\n",
    "        def get_file_ds(filename):\n",
    "            if \"ds=\" not in filename:\n",
    "                return \"\"\n",
    "            else:\n",
    "                ds = filename.split(\"ds=\")[1].split(\"/\")[0]\n",
    "                return ds\n",
    "\n",
    "        if days_range is not None:\n",
    "            file_list = [v for v in file_list if get_file_ds(v) in days_range]\n",
    "\n",
    "        print(file_list)\n",
    "\n",
    "        index = 0\n",
    "        for key in file_list:\n",
    "            success = False\n",
    "            for _ in range(10):\n",
    "                # print('Down', key, save_path)\n",
    "                s3_cli.download_file(Bucket=bucket, Key=key, Filename=save_path)\n",
    "                success = True\n",
    "                break\n",
    "\n",
    "            if success:\n",
    "                # print('Load', key, save_path)\n",
    "                for record in load_record(save_path, fmt):\n",
    "                    yield record\n",
    "                    index += 1\n",
    "                    if not index % 100000:\n",
    "                        print('Loading ', index, 'records', end=', ')\n",
    "                        # print('Finished loading from:', prefix)\n",
    "\n",
    "    def save_file_from_s3(bucket, prefix, days_range, fmt='parquet', save_path=\"./tmp.txt\"):\n",
    "        ret = load_s3_dir(bucket, prefix, days_range, fmt, save_path)\n",
    "        ret = list(ret)\n",
    "        print(\"the length of result is\", len(ret))\n",
    "        if os.path.exists(save_path):\n",
    "            os.remove(save_path)\n",
    "        return ret\n",
    "\n",
    "    yesterday_lines = save_file_from_s3(bucket='warehouse-algo', prefix='cn_all_goods_info', days_range=[yesterday],\n",
    "                                        fmt='parquet')\n",
    "    goods_id2prop_values = {}\n",
    "    goods_id2features = {}\n",
    "    for line in yesterday_lines:\n",
    "        goods_id = line[\"goods_id\"]\n",
    "\n",
    "        prop_map = line[\"props_map\"].lower()\n",
    "        prop_map = json.loads(prop_map)\n",
    "        title = line[\"title\"]\n",
    "        cid1 = line[\"cid1\"]\n",
    "        cid2 = line[\"cid2\"]\n",
    "        cid3 = line[\"cid3\"]\n",
    "        cid4 = line[\"cid4\"]\n",
    "        attrs = []\n",
    "        for k, v in prop_map.items():\n",
    "            if k.strip() == \"\" or v.strip() == \"\":\n",
    "                continue\n",
    "            if k not in selected_fields:\n",
    "                continue\n",
    "            v = v.replace(\" \", \"-\")\n",
    "            k = k.replace(\" \", \"-\")\n",
    "            attrs.append(k + \"::\" + v)\n",
    "        attrs = \" \".join(attrs)\n",
    "        goods_id2prop_values[str(goods_id)] = attrs\n",
    "        features = {\"title\": title, \"cid1\": cid1, \"cid2\": cid2, \"cid3\": cid3, \"cid4\": cid4, \"attrs\": attrs}\n",
    "        goods_id2features[str(goods_id)] = features\n",
    "    return goods_id2features"
   ]
  },
  {
   "cell_type": "code",
   "execution_count": 8,
   "id": "2476095a-ac9f-4ebe-bc6f-14ade6559e14",
   "metadata": {
    "tags": []
   },
   "outputs": [
    {
     "name": "stdout",
     "output_type": "stream",
     "text": [
      "['cn_all_goods_info/ds=20241117/part-00000-93d46cf5-2222-441e-9c55-2ee18f4e346a-c000']\n",
      "Loading  100000 records, the length of result is 145871\n"
     ]
    }
   ],
   "source": [
    "goods_id2features = get_goods_prop_values(latest_date)\n",
    "with open(\"./data/goods_id2features.pkl\", \"wb\") as f:\n",
    "    pickle.dump(goods_id2features, f)"
   ]
  },
  {
   "cell_type": "code",
   "execution_count": 9,
   "id": "9d888cf8-615f-4672-b7b7-d033e30a7fe0",
   "metadata": {
    "tags": []
   },
   "outputs": [
    {
     "name": "stdout",
     "output_type": "stream",
     "text": [
      "Overwriting data/code/inference.py\n"
     ]
    }
   ],
   "source": [
    "%%writefile data/code/inference.py\n",
    "\n",
    "# coding: utf-8\n",
    "\n",
    "import json\n",
    "import logging\n",
    "import pickle\n",
    "import os\n",
    "\n",
    "logging.error('[DEBUG] current dir: %s %s', os.getcwd(), os.listdir(\"/opt/ml/model/\"))\n",
    "\n",
    "with open(\"/opt/ml/model/goods_id2features.pkl\", \"rb\") as f:\n",
    "    goods_id2features = pickle.load(f)\n",
    "\n",
    "\n",
    "def transform_inputs(data):\n",
    "    d = data.read()\n",
    "    d = json.loads(d)\n",
    "    d = d[\"inputs\"]\n",
    "    \"\"\"\n",
    "    \n",
    "    country: string\n",
    "    high_level_seq: [\"goods_id1\", \"goods_id2\", ...] 20 不足传 ','\n",
    "    low_level_seq: [\"goods_id1\", \"goods_id2\", ...]20 不足传 ','\n",
    "\n",
    "    title: [\"title1\", \"title2\", ...]\n",
    "    cid1: [\"cid1-1\", \"cid1-2\", ...]\n",
    "    cid2: [\"cid2-1\", \"cid2-2\", ...]\n",
    "    cid3: [\"cid3-1\", \"cid3-2\", ...]\n",
    "    cid4: [\"cid4-1\", \"cid4-2\", ...]\n",
    "    uuid: string\n",
    "    goods_id: [goods_id1, goods_id2, ]\n",
    "    query: string\n",
    "    query_seg: [word1, word2]\n",
    "    title_seg: [[word1, word2, ], [word1, word2, ],...]\n",
    "    \n",
    "    \"\"\"\n",
    "    new_d = {}\n",
    "    goods_num = len(d[\"goods_id\"])\n",
    "    high_level_seq = d[\"high_level_seq\"]\n",
    "    low_level_seq = d[\"low_level_seq\"]\n",
    "    query_seg = d[\"query_seg\"]\n",
    "    title = d[\"title\"]\n",
    "    cid3 = d[\"cid3\"]\n",
    "    cid4 = d[\"cid4\"]\n",
    "    cid1 = d[\"cid1\"]\n",
    "    cid2 = d[\"cid2\"]\n",
    "    title_seg = d[\"title_seg\"]\n",
    "    goods_id = d[\"goods_id\"]\n",
    "\n",
    "    retarget = []\n",
    "    attrs = []\n",
    "\n",
    "    for i, good_id in enumerate(goods_id):\n",
    "        # logging.error('[DEBUG] good_id: %s %s %s %s', i, good_id, cur_high_level_seq, cur_low_level_seq)\n",
    "        if str(good_id) in high_level_seq or str(good_id) in low_level_seq:\n",
    "            retarget.append([1])\n",
    "        else:\n",
    "            retarget.append([0])\n",
    "\n",
    "        if str(good_id) in goods_id2features:\n",
    "            cur_attrs = goods_id2features[str(good_id)][\"attrs\"].split()\n",
    "            if len(cur_attrs) <= 20:\n",
    "                cur_attrs = cur_attrs + [\",\"] * (20 - len(cur_attrs))\n",
    "            else:\n",
    "                cur_attrs = cur_attrs[:20]\n",
    "            attrs.append(cur_attrs)\n",
    "        else:\n",
    "            attrs.append([\",\"] * 20)\n",
    "\n",
    "    new_d[\"country\"] = [[d[\"country\"]] for _ in range(goods_num)]\n",
    "    new_d[\"high_level_seq\"] = [high_level_seq for _ in range(goods_num)]\n",
    "    new_d[\"low_level_seq\"] = [low_level_seq for _ in range(goods_num)]\n",
    "    new_d[\"query_seg\"] = [query_seg for _ in range(goods_num)]\n",
    "    new_d[\"title\"] = [[item] for item in title]\n",
    "    new_d[\"query_seg_cid3\"] = [[query_seg_word + \",,\" + str(cur_cid3) for query_seg_word in query_seg] for cur_cid3 in\n",
    "                               cid3]\n",
    "    new_d[\"uuid\"] = [[d[\"uuid\"]] for _ in range(goods_num)]\n",
    "    new_d[\"query_seg_cid4\"] = [[query_seg_word + \",,\" + str(cur_cid4) for query_seg_word in query_seg] for cur_cid4 in\n",
    "                               cid4]\n",
    "    new_d[\"query_seg_cid1\"] = [[query_seg_word + \",,\" + str(cur_cid1) for query_seg_word in query_seg] for cur_cid1 in\n",
    "                               cid1]\n",
    "    new_d[\"query_seg_cid2\"] = [[query_seg_word + \",,\" + str(cur_cid2) for query_seg_word in query_seg] for cur_cid2 in\n",
    "                               cid2]\n",
    "    new_d[\"title_seg\"] = title_seg\n",
    "    new_d[\"cid4\"] = [[cur_cid4] for cur_cid4 in cid4]\n",
    "    new_d[\"country_goods_id\"] = [[d[\"country\"] + \",,\" + str(good_id)] for good_id in goods_id]\n",
    "    new_d[\"cid2\"] = [[cur_cid2] for cur_cid2 in cid2]\n",
    "    new_d[\"cid3\"] = [[cur_cid3] for cur_cid3 in cid3]\n",
    "    new_d[\"cid1\"] = [[cur_cid1] for cur_cid1 in cid1]\n",
    "    new_d[\"query_goods_id\"] = [[d[\"query\"] + \",,\" + str(good_id)] for good_id in goods_id]\n",
    "    new_d[\"query_seg_goods_id\"] = [[query_seg_word + \",,\" + str(good_id) for query_seg_word in query_seg] for good_id in\n",
    "                                   goods_id]\n",
    "    new_d[\"query\"] = [[d[\"query\"]] for _ in range(goods_num)]\n",
    "    new_d[\"goods_id\"] = [[good_id] for good_id in goods_id]\n",
    "    new_d[\"query_cid1\"] = [[d[\"query\"] + \",,\" + str(cur_cid1)] for cur_cid1 in cid1]\n",
    "    new_d[\"country_cid4\"] = [[d[\"country\"] + \",,\" + str(cur_cid4)] for cur_cid4 in cid4]\n",
    "    new_d[\"query_cid2\"] = [[d[\"query\"] + \",,\" + str(cur_cid2)] for cur_cid2 in cid2]\n",
    "    new_d[\"country_cid3\"] = [[d[\"country\"] + \",,\" + str(cur_cid3)] for cur_cid3 in cid3]\n",
    "    new_d[\"country_cid2\"] = [[d[\"country\"] + \",,\" + str(cur_cid2)] for cur_cid2 in cid2]\n",
    "    new_d[\"country_cid1\"] = [[d[\"country\"] + \",,\" + str(cur_cid1)] for cur_cid1 in cid1]\n",
    "    new_d[\"query_cid3\"] = [[d[\"query\"] + \",,\" + str(cur_cid3)] for cur_cid3 in cid3]\n",
    "    new_d[\"query_cid4\"] = [[d[\"query\"] + \",,\" + str(cur_cid4)] for cur_cid4 in cid4]\n",
    "    new_d[\"retarget\"] = retarget\n",
    "    new_d[\"attrs\"] = attrs\n",
    "\n",
    "    new_d = {\"inputs\": new_d}\n",
    "    new_d = json.dumps(new_d).encode('utf-8')\n",
    "    return new_d if len(new_d) else ''\n",
    "\n",
    "\n",
    "def input_handler(data, context):\n",
    "    \"\"\"Pre-process request input before it is sent to TensorFlow Serving REST API\n",
    "    Args:\n",
    "        data (obj): the request data stream\n",
    "        context (Context): an object containing request and configuration details\n",
    "    Returns:\n",
    "        (dict): a JSON-serializable dict that contains request body and headers\n",
    "    \"\"\"\n",
    "\n",
    "    if context.request_content_type == \"application/json\":\n",
    "        # d = data.read().decode('utf-8')\n",
    "        d = transform_inputs(data)\n",
    "        # logging.error('[DEBUG] request_data: %s %s', context.request_content_type, d)\n",
    "        return d if len(d) else ''\n",
    "\n",
    "    raise ValueError('Invalid req type: %s' % context.request_content_type)\n",
    "\n",
    "\n",
    "def output_handler(data, context):\n",
    "    \"\"\"Post-process TensorFlow Serving output before it is returned to the client.\n",
    "    Args:\n",
    "        data (obj): the TensorFlow serving response\n",
    "        context (Context): an object containing request and configuration details\n",
    "    Returns:\n",
    "        (bytes, string): data to return to client, response content type\n",
    "    \"\"\"\n",
    "    logging.error('[DEBUG] output_data: %s %s', type(data), data)\n",
    "    if data.status_code != 200:\n",
    "        raise ValueError(data.content.decode('utf-8'))\n",
    "\n",
    "    response_content_type = context.accept_header\n",
    "    prediction = data.content\n",
    "    return prediction, response_content_type\n",
    "\n"
   ]
  },
  {
   "cell_type": "code",
   "execution_count": 10,
   "id": "d7047176-d516-449d-8826-dfcc67b795f2",
   "metadata": {
    "jupyter": {
     "source_hidden": true
    },
    "tags": []
   },
   "outputs": [],
   "source": [
    "model_data_pattern = \"rec_laidehe/test/all-ctr-test/model/ds=%s/model.tar.gz\"\n",
    "# s3://warehouse-algo/rec_laidehe/test/all-ctr-test/model/ds=20241014/\n",
    "\n",
    "\n",
    "\n",
    "def wait_for_ready(target_date, wait_window=3600 * 24 * 3, wait_interval=60 * 5):\n",
    "    begin = time.time()\n",
    "    model_data = model_data_pattern % target_date\n",
    "    model_data_done = model_data + '.done'\n",
    "    while True:\n",
    "        now = time.time()\n",
    "        if now - begin > wait_window:\n",
    "            # alert('Model of %s done %s DO NOT exists after %.2f hours, maybe something is wrong' % (\n",
    "            #     target_date, model_data_done, (now - begin) / 3600))\n",
    "            raise\n",
    "        model_list = get_s3_file_list_by_prefix(\"warehouse-algo\", model_data)\n",
    "        if len(model_list) < 2:\n",
    "            print('Model of %s done %s DO NOT exists, %d file(s), continue wait after %.2f hours' % (\n",
    "                target_date, model_data_done, len(model_list), (now - begin) / 3600))\n",
    "            time.sleep(wait_interval)\n",
    "            continue\n",
    "        elif len(model_list) > 2:\n",
    "            # alert('Too many Model files of %s, %d files, something is wrong' % (target_date, len(model_list)))\n",
    "            raise\n",
    "        elif model_list != [model_data, model_data_done]:\n",
    "            # alert('Model files of %s wrong: %s' % (target_date, model_list))\n",
    "            raise\n",
    "\n",
    "        print('Model of %s is ready now, start processing.' % target_date)\n",
    "        return model_data\n",
    "model_data = model_data_pattern % '20241014'\n"
   ]
  },
  {
   "cell_type": "code",
   "execution_count": 11,
   "id": "08e8337f-cb2e-49fa-b116-2e0ecfe3f9fe",
   "metadata": {
    "tags": []
   },
   "outputs": [],
   "source": [
    "# 等太久\n",
    "# current_date = datetime.now().date()\n",
    "# current_date = current_date - timedelta(days=0)\n",
    "# yesterday = current_date - timedelta(days=1)\n",
    "# yesterday = yesterday.strftime(\"%Y%m%d\")\n",
    "# yesterday='20241014'\n",
    "# model_data = wait_for_ready(yesterday, wait_window=3600 * 24 * 3, wait_interval=60 * 5)\n",
    "# # model_data = wait_for_ready(\"20240612\", wait_window=3600 * 24 * 3, wait_interval=60 * 5)"
   ]
  },
  {
   "cell_type": "code",
   "execution_count": 12,
   "id": "07a9b8db-188c-45ec-a7ba-39bce843dcd9",
   "metadata": {
    "tags": []
   },
   "outputs": [],
   "source": [
    "s3_model_tar_file = \"s3://warehouse-algo/\"+model_data"
   ]
  },
  {
   "cell_type": "code",
   "execution_count": 13,
   "id": "334309a8-0d34-4dc1-86bc-425cf10e9c00",
   "metadata": {
    "tags": []
   },
   "outputs": [
    {
     "data": {
      "text/plain": [
       "'s3://warehouse-algo/rec_laidehe/test/all-ctr-test/model/ds=20241014/model.tar.gz'"
      ]
     },
     "execution_count": 13,
     "metadata": {},
     "output_type": "execute_result"
    }
   ],
   "source": [
    "s3_model_tar_file"
   ]
  },
  {
   "cell_type": "code",
   "execution_count": 14,
   "id": "22655a07-9712-4da7-a95b-c1c7053d3dbb",
   "metadata": {
    "tags": []
   },
   "outputs": [
    {
     "name": "stdout",
     "output_type": "stream",
     "text": [
      "download: s3://warehouse-algo/rec_laidehe/test/all-ctr-test/model/ds=20241014/model.tar.gz to data/model.tar.gz\n"
     ]
    }
   ],
   "source": [
    "! aws s3 cp {s3_model_tar_file} ./data/"
   ]
  },
  {
   "cell_type": "code",
   "execution_count": 15,
   "id": "c71c705a-e336-4a74-bfdb-381bd494e035",
   "metadata": {
    "tags": []
   },
   "outputs": [
    {
     "name": "stdout",
     "output_type": "stream",
     "text": [
      "tar: Ignoring unknown extended header keyword 'LIBARCHIVE.creationtime'\n",
      "tar: Ignoring unknown extended header keyword 'LIBARCHIVE.creationtime'\n",
      "tar: Ignoring unknown extended header keyword 'LIBARCHIVE.creationtime'\n",
      "tar: Ignoring unknown extended header keyword 'LIBARCHIVE.creationtime'\n",
      "tar: Ignoring unknown extended header keyword 'LIBARCHIVE.creationtime'\n"
     ]
    }
   ],
   "source": [
    "! cd data; tar -xzf model.tar.gz"
   ]
  },
  {
   "cell_type": "code",
   "execution_count": 16,
   "id": "0121efe2-3abb-4286-99a1-9442b91620b7",
   "metadata": {
    "tags": []
   },
   "outputs": [
    {
     "name": "stdout",
     "output_type": "stream",
     "text": [
      "/home/sagemaker-user\n"
     ]
    }
   ],
   "source": [
    "! pwd"
   ]
  },
  {
   "cell_type": "code",
   "execution_count": 17,
   "id": "67d1fa29-ef73-45ec-8662-32c77ccbacc5",
   "metadata": {
    "tags": []
   },
   "outputs": [],
   "source": [
    "! rm ./data/model.tar.gz"
   ]
  },
  {
   "cell_type": "code",
   "execution_count": 18,
   "id": "cd9c3c03-e504-467a-93ff-d3f8c4921529",
   "metadata": {
    "tags": []
   },
   "outputs": [
    {
     "name": "stdout",
     "output_type": "stream",
     "text": [
      "./1730448714/\n",
      "./1730448714/variables/\n",
      "./1730448714/variables/variables.index\n",
      "./1730448714/variables/variables.data-00000-of-00001\n",
      "./1730448714/saved_model.pb\n",
      "./code/\n",
      "./code/inference.py\n",
      "./goods_id2features.pkl\n"
     ]
    }
   ],
   "source": [
    "! cd data; tar -czvf ./model.tar.gz ./*"
   ]
  },
  {
   "cell_type": "code",
   "execution_count": 19,
   "id": "b13ebe85-4f19-4be8-8601-48fa589aceef",
   "metadata": {
    "tags": []
   },
   "outputs": [
    {
     "name": "stdout",
     "output_type": "stream",
     "text": [
      "upload: data/model.tar.gz to s3://warehouse-algo/rec_laidehe/test/all-ctr-test/model/ds=20241014/model.tar.gz\n"
     ]
    }
   ],
   "source": [
    "! aws s3 cp ./data/model.tar.gz {s3_model_tar_file}"
   ]
  },
  {
   "cell_type": "code",
   "execution_count": 20,
   "id": "651ce601-be79-4e28-a2ff-5ee5696aaa7a",
   "metadata": {
    "tags": []
   },
   "outputs": [],
   "source": [
    "def ts2date(ts, fmt='%Y%m%d', offset=3600 * 8):\n",
    "    return time.strftime(fmt, time.localtime(ts + offset))\n",
    "\n",
    "def date2ts(date, fmt='%Y%m%d'):\n",
    "    return time.mktime(time.strptime(date, fmt))\n",
    "\n",
    "def alert(msg):\n",
    "    print(msg)\n",
    "    return\n",
    "    msg = str(msg)\n",
    "    max_size = 1000\n",
    "    if len(msg) > max_size:\n",
    "        msg = msg[:(max_size - 10)] + ' ...Over'\n",
    "    sns_cli = boto3.client('sns')\n",
    "    for phone_number in [13521039521, ]:\n",
    "        sns_cli.publish(PhoneNumber='+86%s' % phone_number, Message=msg)\n",
    "\n",
    "# alert('Hello India World!')"
   ]
  },
  {
   "cell_type": "code",
   "execution_count": 21,
   "id": "f76823d0-742a-41c2-92ba-24f45c85857a",
   "metadata": {
    "tags": []
   },
   "outputs": [],
   "source": [
    "def get_s3_file_list_by_prefix(prefix, max_cnt=int(1e6)):\n",
    "    '''\n",
    "    return keys are not startswith bucket_prefix\n",
    "    \n",
    "    [{'Key': 'adm_search_sample_df_done/ds=20230225/part-00000-dee2825a858d-c000',\n",
    "      'LastModified': datetime.datetime(2023, 2, 27, 9, 40, 21, tzinfo=tzlocal()),\n",
    "      'ETag': '\"c5fe35633015caa24e3b1b1487d89058\"',\n",
    "      'Size': 254,\n",
    "      'StorageClass': 'STANDARD',\n",
    "      'Owner': {'DisplayName': 'qingrong.zhao',\n",
    "       'ID': '05d86fabdf3d5aa2a6de98d8d2abba9f3da5c6bfd675698131df15bb44b735c3'}},\n",
    "     {'Key': ...}, ... ]\n",
    "    '''\n",
    "    file_list = sorted([v['Key'] for v in s3_cli.list_objects(Bucket=default_bucket,\n",
    "        Prefix=prefix, MaxKeys=max_cnt).get('Contents', [])])\n",
    "    print('List S3 %d files in prefix: %s' % (len(file_list), prefix))\n",
    "    return file_list\n",
    "\n",
    "def make_sure_dir(origin_path):\n",
    "    if not origin_path.endswith('/') and '/' in origin_path:\n",
    "        path = origin_path.rsplit('/', 1)[0]\n",
    "    else:\n",
    "        path = origin_path\n",
    "    if not os.path.exists(path):\n",
    "        try:\n",
    "            os.makedirs(path) # multi-process make the same dir will cause dup error.\n",
    "        except:\n",
    "            pass\n",
    "    return origin_path\n",
    "\n",
    "def wait_for_ready(target_date, wait_window=3600 * 24 * 3, wait_interval=60 * 5):\n",
    "    begin = time.time()\n",
    "    model_data = model_data_pattern % target_date\n",
    "    model_data_done = model_data + '.done'\n",
    "    while True:\n",
    "        now = time.time()\n",
    "        if now - begin > wait_window:\n",
    "            alert('Model of %s done %s DO NOT exists after %.2f hours, maybe something is wrong' % (\n",
    "                target_date, model_data_done, (now - begin) / 3600))\n",
    "            raise\n",
    "        model_list = get_s3_file_list_by_prefix(model_data)\n",
    "        if len(model_list) < 2:\n",
    "            print('Model of %s done %s DO NOT exists, %d file(s), continue wait after %.2f hours' % (\n",
    "                target_date, model_data_done, len(model_list), (now - begin) / 3600))\n",
    "            time.sleep(wait_interval)\n",
    "            continue\n",
    "        elif len(model_list) > 2:\n",
    "            alert('Too many Model files of %s, %d files, something is wrong' % (target_date, len(model_list)))\n",
    "            raise\n",
    "        elif model_list != [model_data, model_data_done]:\n",
    "            alert('Model files of %s wrong: %s' % (target_date, model_list))\n",
    "            raise\n",
    "        \n",
    "        print('Model of %s is ready now, start processing.' % target_date)\n",
    "        return s3_bucket_prefix + model_data\n",
    "    \n",
    "def get_edp_status(edp_name, cur_date):\n",
    "    status_file = make_sure_dir('sagemaker/edp_status/%s.status' % edp_name)\n",
    "    s3_path = s3_bucket_prefix + status_file\n",
    "    if not get_s3_file_list_by_prefix(status_file):\n",
    "        return\n",
    "    ! rm \"{status_file}\"\n",
    "    ! aws s3 cp \"{s3_path}\" \"{status_file}\"\n",
    "    with open(status_file, 'rt') as f:\n",
    "        for line in f:\n",
    "            return line.strip()\n",
    "\n",
    "def set_edp_status(edp_name, cur_date):\n",
    "    status_file = make_sure_dir('sagemaker/edp_status/%s.status' % edp_name)\n",
    "    s3_path = s3_bucket_prefix + status_file\n",
    "    with open(status_file, 'wt') as f:\n",
    "        f.write(cur_date)\n",
    "    ! aws s3 cp \"{status_file}\" \"{s3_path}\"\n",
    "    ! rm \"{status_file}\"\n",
    "    \n",
    "def detect_need_update_or_not(edp_name, model_data_pattern):\n",
    "    for day_gap in range(10):\n",
    "        cur_date = ts2date(time.time() - 3600 * 24 * day_gap)\n",
    "        model_data = model_data_pattern % cur_date\n",
    "        model_data_done = model_data + '.done'\n",
    "        model_list = get_s3_file_list_by_prefix(model_data)\n",
    "        if len(model_list) < 2:\n",
    "            print('Model of %s done %s DO NOT exists, %d file(s)' % (\n",
    "                cur_date, model_data_done, len(model_list)))\n",
    "            continue\n",
    "        elif len(model_list) > 2:\n",
    "            alert('Too many Model files of %s, %d files, something is wrong' % (cur_date, len(model_list)))\n",
    "            raise\n",
    "        elif model_list != [model_data, model_data_done]:\n",
    "            alert('Model files of %s wrong: %s' % (cur_date, model_list))\n",
    "            raise\n",
    "        \n",
    "        print('Latest Model of %s is ready now at date: %s.' % (model_data_pattern, cur_date))\n",
    "        last_date = get_edp_status(edp_name, cur_date)\n",
    "        print('Read status: ', last_date, ', cur date:', cur_date)\n",
    "        if not last_date or last_date < cur_date:\n",
    "            return cur_date\n",
    "        break\n",
    "\n",
    "def wait_edp_inservice(edp_name, wait_window=3600, wait_interval=10):\n",
    "    begin = time.time()\n",
    "    while True:\n",
    "        now = time.time()\n",
    "        if now - begin > wait_window:\n",
    "            alert('Endpoint %s DO NOT inservice after %.2f hours, maybe something is wrong' % (\n",
    "                edp_name, (now - begin) / 3600))\n",
    "            raise\n",
    "        edp_status = sm_cli.describe_endpoint(EndpointName=edp_name)\n",
    "        if edp_status.get('EndpointStatus') != 'InService':\n",
    "            print('Endpoint %s DO NOT inservice, continue wait after %.2f hours' % (\n",
    "                edp_name, (now - begin) / 3600))\n",
    "            time.sleep(wait_interval)\n",
    "            continue\n",
    "        \n",
    "        print('Endpoint %s inservice now, finished.' % edp_name)\n",
    "        break\n"
   ]
  },
  {
   "cell_type": "code",
   "execution_count": 28,
   "id": "447cd436-ca70-4e0b-9708-c4cf32790c1d",
   "metadata": {
    "tags": []
   },
   "outputs": [],
   "source": [
    "def deploy_new_endpoint(model_data,\n",
    "                        endpoint_name,\n",
    "                        instance_type='ml.r5.large',\n",
    "                        instance_count=1,\n",
    "                        retry_times=0):\n",
    "    # If an endpoint could describe, it exists, and can not be created by deploy.\n",
    "    try:\n",
    "        print(client.describe_endpoint(EndpointName=endpoint_name))\n",
    "        return\n",
    "    except:\n",
    "        pass\n",
    "\n",
    "    edp_model_name = endpoint_name + '-' + str(random.randint(10000, 19999))\n",
    "    variant_name = \"Variant-xlarge-1\" # start from 1, incr 1 when updating.\n",
    "    img = sagemaker.image_uris.retrieve(\n",
    "        framework='tensorflow',\n",
    "        version='1.15.2',\n",
    "        region=sm_sess.boto_region_name,\n",
    "        image_scope='inference',\n",
    "        instance_type=instance_type\n",
    "    )\n",
    "\n",
    "    sm_sess.create_model(\n",
    "        name=edp_model_name,\n",
    "        role=role,\n",
    "        container_defs={\n",
    "            \"Image\": img,\n",
    "            \"ModelDataUrl\": model_data,\n",
    "            'Environment': {\n",
    "                'TF_DISABLE_MKL': '1',\n",
    "                'TF_DISABLE_POOL_ALLOCATOR': '1',\n",
    "                # 'SAGEMAKER_SUBMIT_DIRECTORY': '/opt/ml/model/code/',  # Directory inside the container\n",
    "                # 'SAGEMAKER_PROGRAM': 'inference.py', \n",
    "            },\n",
    "        }\n",
    "    )\n",
    "\n",
    "    \n",
    "\n",
    "    variant1 = production_variant(\n",
    "        model_name=edp_model_name,\n",
    "        instance_type=instance_type,\n",
    "        initial_instance_count=instance_count,\n",
    "        variant_name=variant_name,\n",
    "        initial_weight=1,\n",
    "    )\n",
    "\n",
    "    sm_sess.endpoint_from_production_variants(\n",
    "        name=endpoint_name, production_variants=[variant1],\n",
    "        tags=[{'Key': 'cost-team', 'Value': 'algorithm'}],\n",
    "    )\n",
    "    print(sm_cli.describe_endpoint(EndpointName=endpoint_name))\n",
    "    wait_edp_inservice(endpoint_name)\n"
   ]
  },
  {
   "cell_type": "code",
   "execution_count": 23,
   "id": "cf25f7e6-863f-4188-a2fc-2264a3cb520d",
   "metadata": {
    "tags": []
   },
   "outputs": [],
   "source": [
    "def update_model_data_of_endpoint(model,\n",
    "                                  model_data,\n",
    "                                  endpoint_name,\n",
    "                                  instance_type='ml.r5.large',\n",
    "                                  instance_count=1,\n",
    "                                  retry_times=0):\n",
    "    # If describe failed, stop updating.\n",
    "    endpoint_info = sm_cli.describe_endpoint(EndpointName=endpoint_name)\n",
    "    print(endpoint_info)\n",
    "    cur_model = model.replace('_', '-')\n",
    "    pre_var_name = endpoint_info['ProductionVariants'][0]['VariantName']    \n",
    "    cur_version = str(retry_times + 1 + int(pre_var_name.split('-')[-1]))\n",
    "    edp_model_name = '-'.join([endpoint_name, cur_model, cur_version])\n",
    "    variant_name = \"Variant-xlarge-%s-%s\" % (cur_model, cur_version)\n",
    "    endpoint_config_name = 'edp-config-%s-multi-variants-%s' % (cur_model, cur_version)\n",
    "    \n",
    "    print(cur_model, cur_version, pre_var_name, edp_model_name, variant_name,\n",
    "          endpoint_config_name)\n",
    "    # raise\n",
    "    \n",
    "    img = sagemaker.image_uris.retrieve(\n",
    "        framework='tensorflow',\n",
    "        version = '1.15.2',\n",
    "        region = sm_sess.boto_region_name,\n",
    "        image_scope='inference',\n",
    "        instance_type = instance_type\n",
    "    )\n",
    "    \n",
    "    sm_sess.create_model(\n",
    "        name=edp_model_name,\n",
    "        role=role,\n",
    "        container_defs={\n",
    "            \"Image\": img,\n",
    "            \"ModelDataUrl\": model_data,\n",
    "            'Environment': {\n",
    "                'TF_DISABLE_MKL': '1',\n",
    "                'TF_DISABLE_POOL_ALLOCATOR': '1',\n",
    "                # 'SAGEMAKER_SUBMIT_DIRECTORY': '/opt/ml/model/code/',  # Directory inside the container\n",
    "                # 'SAGEMAKER_PROGRAM': 'inference.py', \n",
    "            },\n",
    "        }\n",
    "    )\n",
    "    \n",
    "    variant1 = production_variant(\n",
    "        model_name=edp_model_name,\n",
    "        instance_type=instance_type,\n",
    "        initial_instance_count=instance_count,\n",
    "        variant_name=variant_name,\n",
    "        initial_weight=1,\n",
    "    )\n",
    "\n",
    "    print(sm_cli.create_endpoint_config(\n",
    "        EndpointConfigName = endpoint_config_name,\n",
    "        ProductionVariants=[\n",
    "            {\n",
    "                \"VariantName\": variant_name,\n",
    "                \"ModelName\": edp_model_name,\n",
    "                \"InstanceType\": instance_type,\n",
    "                \"InitialInstanceCount\": instance_count,\n",
    "            },\n",
    "        ]\n",
    "    ))\n",
    "\n",
    "    print(sm_cli.update_endpoint(\n",
    "        EndpointName=endpoint_name,\n",
    "        EndpointConfigName=endpoint_config_name,\n",
    "    ))\n",
    "    \n",
    "    print(sm_cli.describe_endpoint(EndpointName=endpoint_name))\n",
    "    wait_edp_inservice(endpoint_name)\n"
   ]
  },
  {
   "cell_type": "code",
   "execution_count": 24,
   "id": "a34f115d-813f-4a65-bfd2-d947819a7523",
   "metadata": {
    "tags": []
   },
   "outputs": [],
   "source": [
    "def try_update_cur_model_by_config(update_config):\n",
    "    model = update_config['model']\n",
    "    endpoint_name = update_config['endpoint']\n",
    "    model_data_pattern = update_config['model_data_pattern']\n",
    "    \n",
    "    # target_date = detect_need_update_or_not(endpoint_name, model_data_pattern)\n",
    "    target_date = '20241014'\n",
    "    print('Get date', model, target_date)\n",
    "    if not target_date:\n",
    "        return\n",
    "\n",
    "    # continue\n",
    "    ctx = Context()\n",
    "    ctx.model = model\n",
    "    ctx.endpoint_name = endpoint_name\n",
    "    ctx.target_date = target_date\n",
    "    ctx.model_data = s3_bucket_prefix + model_data_pattern % target_date\n",
    "    steps = generate_steps()\n",
    "    execute_steps_safely(ctx, steps)\n",
    "    alert(ctx)\n",
    "    ctx.dump()\n",
    "    if not ctx.err_msg:\n",
    "        set_edp_status(endpoint_name, target_date)"
   ]
  },
  {
   "cell_type": "code",
   "execution_count": 25,
   "id": "eb910155-4367-4997-bd0b-1d5a1d667213",
   "metadata": {
    "tags": []
   },
   "outputs": [],
   "source": [
    "class Context:\n",
    "    def __init__(self):\n",
    "        self.model = None\n",
    "        self.start_time = ts2date(time.time(), '%m-%d %H:%M:%S')\n",
    "        self.start_date = ts2date(time.time()) # task started date\n",
    "        self.target_date = ts2date(time.time() - 3600 * 24 * 3) # target sample date\n",
    "        \n",
    "        self.wait_window = 3600 * 24 * 3 # wait new samples ready at most 12 hours.\n",
    "        self.wait_interval = 60 * 5 # check every 5 minutes\n",
    "        \n",
    "        self.model_data = None\n",
    "        self.endpoint_name = None\n",
    "        \n",
    "        self.deploy_execute_msg = None\n",
    "        self.update_execute_msg = None\n",
    "        \n",
    "        self.err_msg = None\n",
    "        self.cost_desc_list = []\n",
    "        \n",
    "    def __str__(self):\n",
    "        return '; '.join([\n",
    "            '[%s] start at %s' % (ts2date(time.time(), '%m-%d %H:%M:%S'), self.start_time),\n",
    "            'Model: %s' % self.model,\n",
    "            '%s' % ('Succeeded' if not self.err_msg else ('Failed: %s' % self.err_msg)), \n",
    "            'target date: %s' % self.target_date,\n",
    "            'Model data: %s' % self.model_data,\n",
    "            'Deploy: %s' % self.deploy_execute_msg,\n",
    "            'Update: %s' % self.update_execute_msg,\n",
    "            'error msg: %s' % self.err_msg,\n",
    "            'Over',\n",
    "        ])\n",
    "    \n",
    "    def __repr__(self):\n",
    "        return self.__str__()\n",
    "    \n",
    "    def dump(self, log_file=None):\n",
    "        if log_file is None:\n",
    "            log_file = make_sure_dir('log/%s/ctx_list.json' % self.model)\n",
    "        with open(log_file, 'wt') as f:\n",
    "            f.write(json.dumps(self.__dict__) + '\\n')\n",
    "\n",
    "            \n",
    "def generate_steps():\n",
    "    def wait_and_detect_step(ctx):\n",
    "        ctx.model_data = wait_for_ready(ctx.target_date, ctx.wait_window, ctx.wait_interval)\n",
    "        \n",
    "    def deploy_if_need_step(ctx):\n",
    "        try:\n",
    "            sm_cli.describe_endpoint(EndpointName=ctx.endpoint_name)\n",
    "            edp_exists = True\n",
    "        except:\n",
    "            edp_exists = False\n",
    "        if not edp_exists:\n",
    "            ctx.deploy_execute_msg = 'Deploy started'\n",
    "            deploy_new_endpoint(ctx.model_data, ctx.endpoint_name)\n",
    "            ctx.deploy_execute_msg = 'Deploy done'\n",
    "        else:\n",
    "            ctx.deploy_execute_msg = 'END already exists, DO NOT NEED to deploy.'\n",
    "        \n",
    "    def update_model_step(ctx):\n",
    "        ctx.update_execute_msg = 'Update started'\n",
    "        update_success = False\n",
    "        for retry_times in range(20):\n",
    "            try:\n",
    "                update_model_data_of_endpoint(ctx.model, ctx.model_data,\n",
    "                                              ctx.endpoint_name, retry_times=retry_times)\n",
    "                update_success = True\n",
    "                break\n",
    "            except:\n",
    "                traceback.print_exc()\n",
    "                continue\n",
    "        if not update_success:\n",
    "            raise ValueError('Failed to update')\n",
    "        ctx.update_execute_msg = 'Update done'\n",
    "\n",
    "    return [\n",
    "        # ['wait model update', wait_and_detect_step],\n",
    "        ['try deploy model', deploy_if_need_step],\n",
    "        ['update model of edp', update_model_step],\n",
    "    ]\n",
    "\n",
    "def execute_steps_safely(ctx, steps):\n",
    "    for name, func in steps:\n",
    "        begin = time.time()\n",
    "        print('Begin execute step %s at %s' % (name, ts2date(begin, '%m-%d %H:%M:%S')))\n",
    "        success = False\n",
    "        try:\n",
    "            func(ctx)\n",
    "            success = True\n",
    "        except Exception as e:\n",
    "            traceback.print_exc()\n",
    "        end = time.time()\n",
    "        ctx.cost_desc_list.append('step [%s] begin at %s, cost %.2f hours' % (\n",
    "            name, ts2date(begin, '%m-%d %H:%M:%S'), (end - begin) / 3600))\n",
    "        if not success or ctx.err_msg:\n",
    "            ctx.err_msg = 'Step [%s] FAILED for %s' % (name, ctx.err_msg)\n",
    "            break\n"
   ]
  },
  {
   "cell_type": "code",
   "execution_count": 32,
   "id": "9830fd22-0b23-4f0d-8bb1-ec1f5d3cb4dc",
   "metadata": {
    "editable": true,
    "slideshow": {
     "slide_type": ""
    },
    "tags": []
   },
   "outputs": [
    {
     "name": "stdout",
     "output_type": "stream",
     "text": [
      "Get date all-ctr-test 20241014\n",
      "Begin execute step try deploy model at 11-18 17:18:12\n",
      "Begin execute step update model of edp at 11-18 17:18:12\n",
      "{'EndpointName': 'all-ctr-test-v3', 'EndpointArn': 'arn:aws:sagemaker:ap-southeast-1:580243821396:endpoint/all-ctr-test-v3', 'EndpointConfigName': 'all-ctr-test-v3', 'ProductionVariants': [{'VariantName': 'Variant-xlarge-1', 'DeployedImages': [{'SpecifiedImage': '763104351884.dkr.ecr.ap-southeast-1.amazonaws.com/tensorflow-inference:1.15.2-cpu', 'ResolvedImage': '763104351884.dkr.ecr.ap-southeast-1.amazonaws.com/tensorflow-inference@sha256:c8ce28c662ff49396e546a7da6a30331df3b924a7d768888c8c5328abd7bdd2d', 'ResolutionTime': datetime.datetime(2024, 11, 18, 9, 12, 31, 893000, tzinfo=tzlocal())}], 'CurrentWeight': 1.0, 'DesiredWeight': 1.0, 'CurrentInstanceCount': 1, 'DesiredInstanceCount': 1}], 'EndpointStatus': 'InService', 'CreationTime': datetime.datetime(2024, 11, 18, 9, 12, 31, 393000, tzinfo=tzlocal()), 'LastModifiedTime': datetime.datetime(2024, 11, 18, 9, 14, 45, 95000, tzinfo=tzlocal()), 'ResponseMetadata': {'RequestId': '77ee3dc6-f4fb-41e8-938a-6e737f6fdaab', 'HTTPStatusCode': 200, 'HTTPHeaders': {'x-amzn-requestid': '77ee3dc6-f4fb-41e8-938a-6e737f6fdaab', 'content-type': 'application/x-amz-json-1.1', 'content-length': '722', 'date': 'Mon, 18 Nov 2024 09:18:12 GMT'}, 'RetryAttempts': 0}}\n",
      "all-ctr-test 2 Variant-xlarge-1 all-ctr-test-v3-all-ctr-test-2 Variant-xlarge-all-ctr-test-2 edp-config-all-ctr-test-multi-variants-2\n"
     ]
    },
    {
     "name": "stderr",
     "output_type": "stream",
     "text": [
      "Using already existing model: all-ctr-test-v3-all-ctr-test-2\n",
      "Traceback (most recent call last):\n",
      "  File \"/tmp/ipykernel_30982/2618302691.py\", line 65, in update_model_step\n",
      "    update_model_data_of_endpoint(ctx.model, ctx.model_data,\n",
      "  File \"/tmp/ipykernel_30982/2275675785.py\", line 52, in update_model_data_of_endpoint\n",
      "    print(sm_cli.create_endpoint_config(\n",
      "  File \"/opt/conda/lib/python3.10/site-packages/botocore/client.py\", line 569, in _api_call\n",
      "    return self._make_api_call(operation_name, kwargs)\n",
      "  File \"/opt/conda/lib/python3.10/site-packages/botocore/client.py\", line 1023, in _make_api_call\n",
      "    raise error_class(parsed_response, operation_name)\n",
      "botocore.exceptions.ClientError: An error occurred (ValidationException) when calling the CreateEndpointConfig operation: Cannot create already existing endpoint configuration \"arn:aws:sagemaker:ap-southeast-1:580243821396:endpoint-config/edp-config-all-ctr-test-multi-variants-2\".\n"
     ]
    },
    {
     "name": "stdout",
     "output_type": "stream",
     "text": [
      "{'EndpointName': 'all-ctr-test-v3', 'EndpointArn': 'arn:aws:sagemaker:ap-southeast-1:580243821396:endpoint/all-ctr-test-v3', 'EndpointConfigName': 'all-ctr-test-v3', 'ProductionVariants': [{'VariantName': 'Variant-xlarge-1', 'DeployedImages': [{'SpecifiedImage': '763104351884.dkr.ecr.ap-southeast-1.amazonaws.com/tensorflow-inference:1.15.2-cpu', 'ResolvedImage': '763104351884.dkr.ecr.ap-southeast-1.amazonaws.com/tensorflow-inference@sha256:c8ce28c662ff49396e546a7da6a30331df3b924a7d768888c8c5328abd7bdd2d', 'ResolutionTime': datetime.datetime(2024, 11, 18, 9, 12, 31, 893000, tzinfo=tzlocal())}], 'CurrentWeight': 1.0, 'DesiredWeight': 1.0, 'CurrentInstanceCount': 1, 'DesiredInstanceCount': 1}], 'EndpointStatus': 'InService', 'CreationTime': datetime.datetime(2024, 11, 18, 9, 12, 31, 393000, tzinfo=tzlocal()), 'LastModifiedTime': datetime.datetime(2024, 11, 18, 9, 14, 45, 95000, tzinfo=tzlocal()), 'ResponseMetadata': {'RequestId': 'c76ac876-ff95-48af-af5e-cb4de5bb276a', 'HTTPStatusCode': 200, 'HTTPHeaders': {'x-amzn-requestid': 'c76ac876-ff95-48af-af5e-cb4de5bb276a', 'content-type': 'application/x-amz-json-1.1', 'content-length': '722', 'date': 'Mon, 18 Nov 2024 09:18:13 GMT'}, 'RetryAttempts': 0}}\n",
      "all-ctr-test 3 Variant-xlarge-1 all-ctr-test-v3-all-ctr-test-3 Variant-xlarge-all-ctr-test-3 edp-config-all-ctr-test-multi-variants-3\n"
     ]
    },
    {
     "name": "stderr",
     "output_type": "stream",
     "text": [
      "Using already existing model: all-ctr-test-v3-all-ctr-test-3\n",
      "Traceback (most recent call last):\n",
      "  File \"/tmp/ipykernel_30982/2618302691.py\", line 65, in update_model_step\n",
      "    update_model_data_of_endpoint(ctx.model, ctx.model_data,\n",
      "  File \"/tmp/ipykernel_30982/2275675785.py\", line 52, in update_model_data_of_endpoint\n",
      "    print(sm_cli.create_endpoint_config(\n",
      "  File \"/opt/conda/lib/python3.10/site-packages/botocore/client.py\", line 569, in _api_call\n",
      "    return self._make_api_call(operation_name, kwargs)\n",
      "  File \"/opt/conda/lib/python3.10/site-packages/botocore/client.py\", line 1023, in _make_api_call\n",
      "    raise error_class(parsed_response, operation_name)\n",
      "botocore.exceptions.ClientError: An error occurred (ValidationException) when calling the CreateEndpointConfig operation: Cannot create already existing endpoint configuration \"arn:aws:sagemaker:ap-southeast-1:580243821396:endpoint-config/edp-config-all-ctr-test-multi-variants-3\".\n"
     ]
    },
    {
     "name": "stdout",
     "output_type": "stream",
     "text": [
      "{'EndpointName': 'all-ctr-test-v3', 'EndpointArn': 'arn:aws:sagemaker:ap-southeast-1:580243821396:endpoint/all-ctr-test-v3', 'EndpointConfigName': 'all-ctr-test-v3', 'ProductionVariants': [{'VariantName': 'Variant-xlarge-1', 'DeployedImages': [{'SpecifiedImage': '763104351884.dkr.ecr.ap-southeast-1.amazonaws.com/tensorflow-inference:1.15.2-cpu', 'ResolvedImage': '763104351884.dkr.ecr.ap-southeast-1.amazonaws.com/tensorflow-inference@sha256:c8ce28c662ff49396e546a7da6a30331df3b924a7d768888c8c5328abd7bdd2d', 'ResolutionTime': datetime.datetime(2024, 11, 18, 9, 12, 31, 893000, tzinfo=tzlocal())}], 'CurrentWeight': 1.0, 'DesiredWeight': 1.0, 'CurrentInstanceCount': 1, 'DesiredInstanceCount': 1}], 'EndpointStatus': 'InService', 'CreationTime': datetime.datetime(2024, 11, 18, 9, 12, 31, 393000, tzinfo=tzlocal()), 'LastModifiedTime': datetime.datetime(2024, 11, 18, 9, 14, 45, 95000, tzinfo=tzlocal()), 'ResponseMetadata': {'RequestId': '6ce5e074-a3f7-4819-9d9e-d83e204bb216', 'HTTPStatusCode': 200, 'HTTPHeaders': {'x-amzn-requestid': '6ce5e074-a3f7-4819-9d9e-d83e204bb216', 'content-type': 'application/x-amz-json-1.1', 'content-length': '722', 'date': 'Mon, 18 Nov 2024 09:18:15 GMT'}, 'RetryAttempts': 0}}\n",
      "all-ctr-test 4 Variant-xlarge-1 all-ctr-test-v3-all-ctr-test-4 Variant-xlarge-all-ctr-test-4 edp-config-all-ctr-test-multi-variants-4\n"
     ]
    },
    {
     "name": "stderr",
     "output_type": "stream",
     "text": [
      "Using already existing model: all-ctr-test-v3-all-ctr-test-4\n",
      "Traceback (most recent call last):\n",
      "  File \"/tmp/ipykernel_30982/2618302691.py\", line 65, in update_model_step\n",
      "    update_model_data_of_endpoint(ctx.model, ctx.model_data,\n",
      "  File \"/tmp/ipykernel_30982/2275675785.py\", line 52, in update_model_data_of_endpoint\n",
      "    print(sm_cli.create_endpoint_config(\n",
      "  File \"/opt/conda/lib/python3.10/site-packages/botocore/client.py\", line 569, in _api_call\n",
      "    return self._make_api_call(operation_name, kwargs)\n",
      "  File \"/opt/conda/lib/python3.10/site-packages/botocore/client.py\", line 1023, in _make_api_call\n",
      "    raise error_class(parsed_response, operation_name)\n",
      "botocore.exceptions.ClientError: An error occurred (ValidationException) when calling the CreateEndpointConfig operation: Cannot create already existing endpoint configuration \"arn:aws:sagemaker:ap-southeast-1:580243821396:endpoint-config/edp-config-all-ctr-test-multi-variants-4\".\n"
     ]
    },
    {
     "name": "stdout",
     "output_type": "stream",
     "text": [
      "{'EndpointName': 'all-ctr-test-v3', 'EndpointArn': 'arn:aws:sagemaker:ap-southeast-1:580243821396:endpoint/all-ctr-test-v3', 'EndpointConfigName': 'all-ctr-test-v3', 'ProductionVariants': [{'VariantName': 'Variant-xlarge-1', 'DeployedImages': [{'SpecifiedImage': '763104351884.dkr.ecr.ap-southeast-1.amazonaws.com/tensorflow-inference:1.15.2-cpu', 'ResolvedImage': '763104351884.dkr.ecr.ap-southeast-1.amazonaws.com/tensorflow-inference@sha256:c8ce28c662ff49396e546a7da6a30331df3b924a7d768888c8c5328abd7bdd2d', 'ResolutionTime': datetime.datetime(2024, 11, 18, 9, 12, 31, 893000, tzinfo=tzlocal())}], 'CurrentWeight': 1.0, 'DesiredWeight': 1.0, 'CurrentInstanceCount': 1, 'DesiredInstanceCount': 1}], 'EndpointStatus': 'InService', 'CreationTime': datetime.datetime(2024, 11, 18, 9, 12, 31, 393000, tzinfo=tzlocal()), 'LastModifiedTime': datetime.datetime(2024, 11, 18, 9, 14, 45, 95000, tzinfo=tzlocal()), 'ResponseMetadata': {'RequestId': 'ee39466c-54d4-4dc7-beea-1af60c2fee48', 'HTTPStatusCode': 200, 'HTTPHeaders': {'x-amzn-requestid': 'ee39466c-54d4-4dc7-beea-1af60c2fee48', 'content-type': 'application/x-amz-json-1.1', 'content-length': '722', 'date': 'Mon, 18 Nov 2024 09:18:17 GMT'}, 'RetryAttempts': 0}}\n",
      "all-ctr-test 5 Variant-xlarge-1 all-ctr-test-v3-all-ctr-test-5 Variant-xlarge-all-ctr-test-5 edp-config-all-ctr-test-multi-variants-5\n"
     ]
    },
    {
     "name": "stderr",
     "output_type": "stream",
     "text": [
      "Using already existing model: all-ctr-test-v3-all-ctr-test-5\n",
      "Traceback (most recent call last):\n",
      "  File \"/tmp/ipykernel_30982/2618302691.py\", line 65, in update_model_step\n",
      "    update_model_data_of_endpoint(ctx.model, ctx.model_data,\n",
      "  File \"/tmp/ipykernel_30982/2275675785.py\", line 52, in update_model_data_of_endpoint\n",
      "    print(sm_cli.create_endpoint_config(\n",
      "  File \"/opt/conda/lib/python3.10/site-packages/botocore/client.py\", line 569, in _api_call\n",
      "    return self._make_api_call(operation_name, kwargs)\n",
      "  File \"/opt/conda/lib/python3.10/site-packages/botocore/client.py\", line 1023, in _make_api_call\n",
      "    raise error_class(parsed_response, operation_name)\n",
      "botocore.exceptions.ClientError: An error occurred (ValidationException) when calling the CreateEndpointConfig operation: Cannot create already existing endpoint configuration \"arn:aws:sagemaker:ap-southeast-1:580243821396:endpoint-config/edp-config-all-ctr-test-multi-variants-5\".\n"
     ]
    },
    {
     "name": "stdout",
     "output_type": "stream",
     "text": [
      "{'EndpointName': 'all-ctr-test-v3', 'EndpointArn': 'arn:aws:sagemaker:ap-southeast-1:580243821396:endpoint/all-ctr-test-v3', 'EndpointConfigName': 'all-ctr-test-v3', 'ProductionVariants': [{'VariantName': 'Variant-xlarge-1', 'DeployedImages': [{'SpecifiedImage': '763104351884.dkr.ecr.ap-southeast-1.amazonaws.com/tensorflow-inference:1.15.2-cpu', 'ResolvedImage': '763104351884.dkr.ecr.ap-southeast-1.amazonaws.com/tensorflow-inference@sha256:c8ce28c662ff49396e546a7da6a30331df3b924a7d768888c8c5328abd7bdd2d', 'ResolutionTime': datetime.datetime(2024, 11, 18, 9, 12, 31, 893000, tzinfo=tzlocal())}], 'CurrentWeight': 1.0, 'DesiredWeight': 1.0, 'CurrentInstanceCount': 1, 'DesiredInstanceCount': 1}], 'EndpointStatus': 'InService', 'CreationTime': datetime.datetime(2024, 11, 18, 9, 12, 31, 393000, tzinfo=tzlocal()), 'LastModifiedTime': datetime.datetime(2024, 11, 18, 9, 14, 45, 95000, tzinfo=tzlocal()), 'ResponseMetadata': {'RequestId': 'af1045b2-053f-4cc2-9e01-ddc750c34a5d', 'HTTPStatusCode': 200, 'HTTPHeaders': {'x-amzn-requestid': 'af1045b2-053f-4cc2-9e01-ddc750c34a5d', 'content-type': 'application/x-amz-json-1.1', 'content-length': '722', 'date': 'Mon, 18 Nov 2024 09:18:17 GMT'}, 'RetryAttempts': 0}}\n",
      "all-ctr-test 6 Variant-xlarge-1 all-ctr-test-v3-all-ctr-test-6 Variant-xlarge-all-ctr-test-6 edp-config-all-ctr-test-multi-variants-6\n"
     ]
    },
    {
     "name": "stderr",
     "output_type": "stream",
     "text": [
      "Using already existing model: all-ctr-test-v3-all-ctr-test-6\n",
      "Traceback (most recent call last):\n",
      "  File \"/tmp/ipykernel_30982/2618302691.py\", line 65, in update_model_step\n",
      "    update_model_data_of_endpoint(ctx.model, ctx.model_data,\n",
      "  File \"/tmp/ipykernel_30982/2275675785.py\", line 52, in update_model_data_of_endpoint\n",
      "    print(sm_cli.create_endpoint_config(\n",
      "  File \"/opt/conda/lib/python3.10/site-packages/botocore/client.py\", line 569, in _api_call\n",
      "    return self._make_api_call(operation_name, kwargs)\n",
      "  File \"/opt/conda/lib/python3.10/site-packages/botocore/client.py\", line 1023, in _make_api_call\n",
      "    raise error_class(parsed_response, operation_name)\n",
      "botocore.exceptions.ClientError: An error occurred (ValidationException) when calling the CreateEndpointConfig operation: Cannot create already existing endpoint configuration \"arn:aws:sagemaker:ap-southeast-1:580243821396:endpoint-config/edp-config-all-ctr-test-multi-variants-6\".\n"
     ]
    },
    {
     "name": "stdout",
     "output_type": "stream",
     "text": [
      "{'EndpointName': 'all-ctr-test-v3', 'EndpointArn': 'arn:aws:sagemaker:ap-southeast-1:580243821396:endpoint/all-ctr-test-v3', 'EndpointConfigName': 'all-ctr-test-v3', 'ProductionVariants': [{'VariantName': 'Variant-xlarge-1', 'DeployedImages': [{'SpecifiedImage': '763104351884.dkr.ecr.ap-southeast-1.amazonaws.com/tensorflow-inference:1.15.2-cpu', 'ResolvedImage': '763104351884.dkr.ecr.ap-southeast-1.amazonaws.com/tensorflow-inference@sha256:c8ce28c662ff49396e546a7da6a30331df3b924a7d768888c8c5328abd7bdd2d', 'ResolutionTime': datetime.datetime(2024, 11, 18, 9, 12, 31, 893000, tzinfo=tzlocal())}], 'CurrentWeight': 1.0, 'DesiredWeight': 1.0, 'CurrentInstanceCount': 1, 'DesiredInstanceCount': 1}], 'EndpointStatus': 'InService', 'CreationTime': datetime.datetime(2024, 11, 18, 9, 12, 31, 393000, tzinfo=tzlocal()), 'LastModifiedTime': datetime.datetime(2024, 11, 18, 9, 14, 45, 95000, tzinfo=tzlocal()), 'ResponseMetadata': {'RequestId': 'efe09f06-2789-4606-8e27-8a8c307e5ddc', 'HTTPStatusCode': 200, 'HTTPHeaders': {'x-amzn-requestid': 'efe09f06-2789-4606-8e27-8a8c307e5ddc', 'content-type': 'application/x-amz-json-1.1', 'content-length': '722', 'date': 'Mon, 18 Nov 2024 09:18:18 GMT'}, 'RetryAttempts': 0}}\n",
      "all-ctr-test 7 Variant-xlarge-1 all-ctr-test-v3-all-ctr-test-7 Variant-xlarge-all-ctr-test-7 edp-config-all-ctr-test-multi-variants-7\n"
     ]
    },
    {
     "name": "stderr",
     "output_type": "stream",
     "text": [
      "Using already existing model: all-ctr-test-v3-all-ctr-test-7\n",
      "Traceback (most recent call last):\n",
      "  File \"/tmp/ipykernel_30982/2618302691.py\", line 65, in update_model_step\n",
      "    update_model_data_of_endpoint(ctx.model, ctx.model_data,\n",
      "  File \"/tmp/ipykernel_30982/2275675785.py\", line 52, in update_model_data_of_endpoint\n",
      "    print(sm_cli.create_endpoint_config(\n",
      "  File \"/opt/conda/lib/python3.10/site-packages/botocore/client.py\", line 569, in _api_call\n",
      "    return self._make_api_call(operation_name, kwargs)\n",
      "  File \"/opt/conda/lib/python3.10/site-packages/botocore/client.py\", line 1023, in _make_api_call\n",
      "    raise error_class(parsed_response, operation_name)\n",
      "botocore.exceptions.ClientError: An error occurred (ValidationException) when calling the CreateEndpointConfig operation: Cannot create already existing endpoint configuration \"arn:aws:sagemaker:ap-southeast-1:580243821396:endpoint-config/edp-config-all-ctr-test-multi-variants-7\".\n"
     ]
    },
    {
     "name": "stdout",
     "output_type": "stream",
     "text": [
      "{'EndpointName': 'all-ctr-test-v3', 'EndpointArn': 'arn:aws:sagemaker:ap-southeast-1:580243821396:endpoint/all-ctr-test-v3', 'EndpointConfigName': 'all-ctr-test-v3', 'ProductionVariants': [{'VariantName': 'Variant-xlarge-1', 'DeployedImages': [{'SpecifiedImage': '763104351884.dkr.ecr.ap-southeast-1.amazonaws.com/tensorflow-inference:1.15.2-cpu', 'ResolvedImage': '763104351884.dkr.ecr.ap-southeast-1.amazonaws.com/tensorflow-inference@sha256:c8ce28c662ff49396e546a7da6a30331df3b924a7d768888c8c5328abd7bdd2d', 'ResolutionTime': datetime.datetime(2024, 11, 18, 9, 12, 31, 893000, tzinfo=tzlocal())}], 'CurrentWeight': 1.0, 'DesiredWeight': 1.0, 'CurrentInstanceCount': 1, 'DesiredInstanceCount': 1}], 'EndpointStatus': 'InService', 'CreationTime': datetime.datetime(2024, 11, 18, 9, 12, 31, 393000, tzinfo=tzlocal()), 'LastModifiedTime': datetime.datetime(2024, 11, 18, 9, 14, 45, 95000, tzinfo=tzlocal()), 'ResponseMetadata': {'RequestId': 'e6bdd03c-1e50-44a4-a200-23c536738ad5', 'HTTPStatusCode': 200, 'HTTPHeaders': {'x-amzn-requestid': 'e6bdd03c-1e50-44a4-a200-23c536738ad5', 'content-type': 'application/x-amz-json-1.1', 'content-length': '722', 'date': 'Mon, 18 Nov 2024 09:18:20 GMT'}, 'RetryAttempts': 0}}\n",
      "all-ctr-test 8 Variant-xlarge-1 all-ctr-test-v3-all-ctr-test-8 Variant-xlarge-all-ctr-test-8 edp-config-all-ctr-test-multi-variants-8\n"
     ]
    },
    {
     "name": "stderr",
     "output_type": "stream",
     "text": [
      "Using already existing model: all-ctr-test-v3-all-ctr-test-8\n",
      "Traceback (most recent call last):\n",
      "  File \"/tmp/ipykernel_30982/2618302691.py\", line 65, in update_model_step\n",
      "    update_model_data_of_endpoint(ctx.model, ctx.model_data,\n",
      "  File \"/tmp/ipykernel_30982/2275675785.py\", line 52, in update_model_data_of_endpoint\n",
      "    print(sm_cli.create_endpoint_config(\n",
      "  File \"/opt/conda/lib/python3.10/site-packages/botocore/client.py\", line 569, in _api_call\n",
      "    return self._make_api_call(operation_name, kwargs)\n",
      "  File \"/opt/conda/lib/python3.10/site-packages/botocore/client.py\", line 1023, in _make_api_call\n",
      "    raise error_class(parsed_response, operation_name)\n",
      "botocore.exceptions.ClientError: An error occurred (ValidationException) when calling the CreateEndpointConfig operation: Cannot create already existing endpoint configuration \"arn:aws:sagemaker:ap-southeast-1:580243821396:endpoint-config/edp-config-all-ctr-test-multi-variants-8\".\n"
     ]
    },
    {
     "name": "stdout",
     "output_type": "stream",
     "text": [
      "{'EndpointName': 'all-ctr-test-v3', 'EndpointArn': 'arn:aws:sagemaker:ap-southeast-1:580243821396:endpoint/all-ctr-test-v3', 'EndpointConfigName': 'all-ctr-test-v3', 'ProductionVariants': [{'VariantName': 'Variant-xlarge-1', 'DeployedImages': [{'SpecifiedImage': '763104351884.dkr.ecr.ap-southeast-1.amazonaws.com/tensorflow-inference:1.15.2-cpu', 'ResolvedImage': '763104351884.dkr.ecr.ap-southeast-1.amazonaws.com/tensorflow-inference@sha256:c8ce28c662ff49396e546a7da6a30331df3b924a7d768888c8c5328abd7bdd2d', 'ResolutionTime': datetime.datetime(2024, 11, 18, 9, 12, 31, 893000, tzinfo=tzlocal())}], 'CurrentWeight': 1.0, 'DesiredWeight': 1.0, 'CurrentInstanceCount': 1, 'DesiredInstanceCount': 1}], 'EndpointStatus': 'InService', 'CreationTime': datetime.datetime(2024, 11, 18, 9, 12, 31, 393000, tzinfo=tzlocal()), 'LastModifiedTime': datetime.datetime(2024, 11, 18, 9, 14, 45, 95000, tzinfo=tzlocal()), 'ResponseMetadata': {'RequestId': '9ad5e64e-22ab-45ba-8882-f02e8c084065', 'HTTPStatusCode': 200, 'HTTPHeaders': {'x-amzn-requestid': '9ad5e64e-22ab-45ba-8882-f02e8c084065', 'content-type': 'application/x-amz-json-1.1', 'content-length': '722', 'date': 'Mon, 18 Nov 2024 09:18:21 GMT'}, 'RetryAttempts': 0}}\n",
      "all-ctr-test 9 Variant-xlarge-1 all-ctr-test-v3-all-ctr-test-9 Variant-xlarge-all-ctr-test-9 edp-config-all-ctr-test-multi-variants-9\n"
     ]
    },
    {
     "name": "stderr",
     "output_type": "stream",
     "text": [
      "Using already existing model: all-ctr-test-v3-all-ctr-test-9\n",
      "Traceback (most recent call last):\n",
      "  File \"/tmp/ipykernel_30982/2618302691.py\", line 65, in update_model_step\n",
      "    update_model_data_of_endpoint(ctx.model, ctx.model_data,\n",
      "  File \"/tmp/ipykernel_30982/2275675785.py\", line 52, in update_model_data_of_endpoint\n",
      "    print(sm_cli.create_endpoint_config(\n",
      "  File \"/opt/conda/lib/python3.10/site-packages/botocore/client.py\", line 569, in _api_call\n",
      "    return self._make_api_call(operation_name, kwargs)\n",
      "  File \"/opt/conda/lib/python3.10/site-packages/botocore/client.py\", line 1023, in _make_api_call\n",
      "    raise error_class(parsed_response, operation_name)\n",
      "botocore.exceptions.ClientError: An error occurred (ValidationException) when calling the CreateEndpointConfig operation: Cannot create already existing endpoint configuration \"arn:aws:sagemaker:ap-southeast-1:580243821396:endpoint-config/edp-config-all-ctr-test-multi-variants-9\".\n"
     ]
    },
    {
     "name": "stdout",
     "output_type": "stream",
     "text": [
      "{'EndpointName': 'all-ctr-test-v3', 'EndpointArn': 'arn:aws:sagemaker:ap-southeast-1:580243821396:endpoint/all-ctr-test-v3', 'EndpointConfigName': 'all-ctr-test-v3', 'ProductionVariants': [{'VariantName': 'Variant-xlarge-1', 'DeployedImages': [{'SpecifiedImage': '763104351884.dkr.ecr.ap-southeast-1.amazonaws.com/tensorflow-inference:1.15.2-cpu', 'ResolvedImage': '763104351884.dkr.ecr.ap-southeast-1.amazonaws.com/tensorflow-inference@sha256:c8ce28c662ff49396e546a7da6a30331df3b924a7d768888c8c5328abd7bdd2d', 'ResolutionTime': datetime.datetime(2024, 11, 18, 9, 12, 31, 893000, tzinfo=tzlocal())}], 'CurrentWeight': 1.0, 'DesiredWeight': 1.0, 'CurrentInstanceCount': 1, 'DesiredInstanceCount': 1}], 'EndpointStatus': 'InService', 'CreationTime': datetime.datetime(2024, 11, 18, 9, 12, 31, 393000, tzinfo=tzlocal()), 'LastModifiedTime': datetime.datetime(2024, 11, 18, 9, 14, 45, 95000, tzinfo=tzlocal()), 'ResponseMetadata': {'RequestId': '3ef95b2c-89c9-406b-9293-58404aabc3f6', 'HTTPStatusCode': 200, 'HTTPHeaders': {'x-amzn-requestid': '3ef95b2c-89c9-406b-9293-58404aabc3f6', 'content-type': 'application/x-amz-json-1.1', 'content-length': '722', 'date': 'Mon, 18 Nov 2024 09:18:22 GMT'}, 'RetryAttempts': 0}}\n",
      "all-ctr-test 10 Variant-xlarge-1 all-ctr-test-v3-all-ctr-test-10 Variant-xlarge-all-ctr-test-10 edp-config-all-ctr-test-multi-variants-10\n"
     ]
    },
    {
     "name": "stderr",
     "output_type": "stream",
     "text": [
      "Using already existing model: all-ctr-test-v3-all-ctr-test-10\n",
      "Traceback (most recent call last):\n",
      "  File \"/tmp/ipykernel_30982/2618302691.py\", line 65, in update_model_step\n",
      "    update_model_data_of_endpoint(ctx.model, ctx.model_data,\n",
      "  File \"/tmp/ipykernel_30982/2275675785.py\", line 52, in update_model_data_of_endpoint\n",
      "    print(sm_cli.create_endpoint_config(\n",
      "  File \"/opt/conda/lib/python3.10/site-packages/botocore/client.py\", line 569, in _api_call\n",
      "    return self._make_api_call(operation_name, kwargs)\n",
      "  File \"/opt/conda/lib/python3.10/site-packages/botocore/client.py\", line 1023, in _make_api_call\n",
      "    raise error_class(parsed_response, operation_name)\n",
      "botocore.exceptions.ClientError: An error occurred (ValidationException) when calling the CreateEndpointConfig operation: Cannot create already existing endpoint configuration \"arn:aws:sagemaker:ap-southeast-1:580243821396:endpoint-config/edp-config-all-ctr-test-multi-variants-10\".\n"
     ]
    },
    {
     "name": "stdout",
     "output_type": "stream",
     "text": [
      "{'EndpointName': 'all-ctr-test-v3', 'EndpointArn': 'arn:aws:sagemaker:ap-southeast-1:580243821396:endpoint/all-ctr-test-v3', 'EndpointConfigName': 'all-ctr-test-v3', 'ProductionVariants': [{'VariantName': 'Variant-xlarge-1', 'DeployedImages': [{'SpecifiedImage': '763104351884.dkr.ecr.ap-southeast-1.amazonaws.com/tensorflow-inference:1.15.2-cpu', 'ResolvedImage': '763104351884.dkr.ecr.ap-southeast-1.amazonaws.com/tensorflow-inference@sha256:c8ce28c662ff49396e546a7da6a30331df3b924a7d768888c8c5328abd7bdd2d', 'ResolutionTime': datetime.datetime(2024, 11, 18, 9, 12, 31, 893000, tzinfo=tzlocal())}], 'CurrentWeight': 1.0, 'DesiredWeight': 1.0, 'CurrentInstanceCount': 1, 'DesiredInstanceCount': 1}], 'EndpointStatus': 'InService', 'CreationTime': datetime.datetime(2024, 11, 18, 9, 12, 31, 393000, tzinfo=tzlocal()), 'LastModifiedTime': datetime.datetime(2024, 11, 18, 9, 14, 45, 95000, tzinfo=tzlocal()), 'ResponseMetadata': {'RequestId': '67603d68-e10c-44a1-a187-368b82456055', 'HTTPStatusCode': 200, 'HTTPHeaders': {'x-amzn-requestid': '67603d68-e10c-44a1-a187-368b82456055', 'content-type': 'application/x-amz-json-1.1', 'content-length': '722', 'date': 'Mon, 18 Nov 2024 09:18:23 GMT'}, 'RetryAttempts': 0}}\n",
      "all-ctr-test 11 Variant-xlarge-1 all-ctr-test-v3-all-ctr-test-11 Variant-xlarge-all-ctr-test-11 edp-config-all-ctr-test-multi-variants-11\n"
     ]
    },
    {
     "name": "stderr",
     "output_type": "stream",
     "text": [
      "Using already existing model: all-ctr-test-v3-all-ctr-test-11\n",
      "Traceback (most recent call last):\n",
      "  File \"/tmp/ipykernel_30982/2618302691.py\", line 65, in update_model_step\n",
      "    update_model_data_of_endpoint(ctx.model, ctx.model_data,\n",
      "  File \"/tmp/ipykernel_30982/2275675785.py\", line 52, in update_model_data_of_endpoint\n",
      "    print(sm_cli.create_endpoint_config(\n",
      "  File \"/opt/conda/lib/python3.10/site-packages/botocore/client.py\", line 569, in _api_call\n",
      "    return self._make_api_call(operation_name, kwargs)\n",
      "  File \"/opt/conda/lib/python3.10/site-packages/botocore/client.py\", line 1023, in _make_api_call\n",
      "    raise error_class(parsed_response, operation_name)\n",
      "botocore.exceptions.ClientError: An error occurred (ValidationException) when calling the CreateEndpointConfig operation: Cannot create already existing endpoint configuration \"arn:aws:sagemaker:ap-southeast-1:580243821396:endpoint-config/edp-config-all-ctr-test-multi-variants-11\".\n"
     ]
    },
    {
     "name": "stdout",
     "output_type": "stream",
     "text": [
      "{'EndpointName': 'all-ctr-test-v3', 'EndpointArn': 'arn:aws:sagemaker:ap-southeast-1:580243821396:endpoint/all-ctr-test-v3', 'EndpointConfigName': 'all-ctr-test-v3', 'ProductionVariants': [{'VariantName': 'Variant-xlarge-1', 'DeployedImages': [{'SpecifiedImage': '763104351884.dkr.ecr.ap-southeast-1.amazonaws.com/tensorflow-inference:1.15.2-cpu', 'ResolvedImage': '763104351884.dkr.ecr.ap-southeast-1.amazonaws.com/tensorflow-inference@sha256:c8ce28c662ff49396e546a7da6a30331df3b924a7d768888c8c5328abd7bdd2d', 'ResolutionTime': datetime.datetime(2024, 11, 18, 9, 12, 31, 893000, tzinfo=tzlocal())}], 'CurrentWeight': 1.0, 'DesiredWeight': 1.0, 'CurrentInstanceCount': 1, 'DesiredInstanceCount': 1}], 'EndpointStatus': 'InService', 'CreationTime': datetime.datetime(2024, 11, 18, 9, 12, 31, 393000, tzinfo=tzlocal()), 'LastModifiedTime': datetime.datetime(2024, 11, 18, 9, 14, 45, 95000, tzinfo=tzlocal()), 'ResponseMetadata': {'RequestId': '895e67b0-0435-4183-9b40-aaa17e2bcf27', 'HTTPStatusCode': 200, 'HTTPHeaders': {'x-amzn-requestid': '895e67b0-0435-4183-9b40-aaa17e2bcf27', 'content-type': 'application/x-amz-json-1.1', 'content-length': '722', 'date': 'Mon, 18 Nov 2024 09:18:23 GMT'}, 'RetryAttempts': 0}}\n",
      "all-ctr-test 12 Variant-xlarge-1 all-ctr-test-v3-all-ctr-test-12 Variant-xlarge-all-ctr-test-12 edp-config-all-ctr-test-multi-variants-12\n"
     ]
    },
    {
     "name": "stderr",
     "output_type": "stream",
     "text": [
      "Using already existing model: all-ctr-test-v3-all-ctr-test-12\n",
      "Traceback (most recent call last):\n",
      "  File \"/tmp/ipykernel_30982/2618302691.py\", line 65, in update_model_step\n",
      "    update_model_data_of_endpoint(ctx.model, ctx.model_data,\n",
      "  File \"/tmp/ipykernel_30982/2275675785.py\", line 52, in update_model_data_of_endpoint\n",
      "    print(sm_cli.create_endpoint_config(\n",
      "  File \"/opt/conda/lib/python3.10/site-packages/botocore/client.py\", line 569, in _api_call\n",
      "    return self._make_api_call(operation_name, kwargs)\n",
      "  File \"/opt/conda/lib/python3.10/site-packages/botocore/client.py\", line 1023, in _make_api_call\n",
      "    raise error_class(parsed_response, operation_name)\n",
      "botocore.exceptions.ClientError: An error occurred (ValidationException) when calling the CreateEndpointConfig operation: Cannot create already existing endpoint configuration \"arn:aws:sagemaker:ap-southeast-1:580243821396:endpoint-config/edp-config-all-ctr-test-multi-variants-12\".\n"
     ]
    },
    {
     "name": "stdout",
     "output_type": "stream",
     "text": [
      "{'EndpointName': 'all-ctr-test-v3', 'EndpointArn': 'arn:aws:sagemaker:ap-southeast-1:580243821396:endpoint/all-ctr-test-v3', 'EndpointConfigName': 'all-ctr-test-v3', 'ProductionVariants': [{'VariantName': 'Variant-xlarge-1', 'DeployedImages': [{'SpecifiedImage': '763104351884.dkr.ecr.ap-southeast-1.amazonaws.com/tensorflow-inference:1.15.2-cpu', 'ResolvedImage': '763104351884.dkr.ecr.ap-southeast-1.amazonaws.com/tensorflow-inference@sha256:c8ce28c662ff49396e546a7da6a30331df3b924a7d768888c8c5328abd7bdd2d', 'ResolutionTime': datetime.datetime(2024, 11, 18, 9, 12, 31, 893000, tzinfo=tzlocal())}], 'CurrentWeight': 1.0, 'DesiredWeight': 1.0, 'CurrentInstanceCount': 1, 'DesiredInstanceCount': 1}], 'EndpointStatus': 'InService', 'CreationTime': datetime.datetime(2024, 11, 18, 9, 12, 31, 393000, tzinfo=tzlocal()), 'LastModifiedTime': datetime.datetime(2024, 11, 18, 9, 14, 45, 95000, tzinfo=tzlocal()), 'ResponseMetadata': {'RequestId': 'e8eb2aff-d465-486e-a3cd-9c3f8b0d0f45', 'HTTPStatusCode': 200, 'HTTPHeaders': {'x-amzn-requestid': 'e8eb2aff-d465-486e-a3cd-9c3f8b0d0f45', 'content-type': 'application/x-amz-json-1.1', 'content-length': '722', 'date': 'Mon, 18 Nov 2024 09:18:25 GMT'}, 'RetryAttempts': 0}}\n",
      "all-ctr-test 13 Variant-xlarge-1 all-ctr-test-v3-all-ctr-test-13 Variant-xlarge-all-ctr-test-13 edp-config-all-ctr-test-multi-variants-13\n"
     ]
    },
    {
     "name": "stderr",
     "output_type": "stream",
     "text": [
      "Using already existing model: all-ctr-test-v3-all-ctr-test-13\n",
      "Traceback (most recent call last):\n",
      "  File \"/tmp/ipykernel_30982/2618302691.py\", line 65, in update_model_step\n",
      "    update_model_data_of_endpoint(ctx.model, ctx.model_data,\n",
      "  File \"/tmp/ipykernel_30982/2275675785.py\", line 52, in update_model_data_of_endpoint\n",
      "    print(sm_cli.create_endpoint_config(\n",
      "  File \"/opt/conda/lib/python3.10/site-packages/botocore/client.py\", line 569, in _api_call\n",
      "    return self._make_api_call(operation_name, kwargs)\n",
      "  File \"/opt/conda/lib/python3.10/site-packages/botocore/client.py\", line 1023, in _make_api_call\n",
      "    raise error_class(parsed_response, operation_name)\n",
      "botocore.exceptions.ClientError: An error occurred (ValidationException) when calling the CreateEndpointConfig operation: Cannot create already existing endpoint configuration \"arn:aws:sagemaker:ap-southeast-1:580243821396:endpoint-config/edp-config-all-ctr-test-multi-variants-13\".\n"
     ]
    },
    {
     "name": "stdout",
     "output_type": "stream",
     "text": [
      "{'EndpointName': 'all-ctr-test-v3', 'EndpointArn': 'arn:aws:sagemaker:ap-southeast-1:580243821396:endpoint/all-ctr-test-v3', 'EndpointConfigName': 'all-ctr-test-v3', 'ProductionVariants': [{'VariantName': 'Variant-xlarge-1', 'DeployedImages': [{'SpecifiedImage': '763104351884.dkr.ecr.ap-southeast-1.amazonaws.com/tensorflow-inference:1.15.2-cpu', 'ResolvedImage': '763104351884.dkr.ecr.ap-southeast-1.amazonaws.com/tensorflow-inference@sha256:c8ce28c662ff49396e546a7da6a30331df3b924a7d768888c8c5328abd7bdd2d', 'ResolutionTime': datetime.datetime(2024, 11, 18, 9, 12, 31, 893000, tzinfo=tzlocal())}], 'CurrentWeight': 1.0, 'DesiredWeight': 1.0, 'CurrentInstanceCount': 1, 'DesiredInstanceCount': 1}], 'EndpointStatus': 'InService', 'CreationTime': datetime.datetime(2024, 11, 18, 9, 12, 31, 393000, tzinfo=tzlocal()), 'LastModifiedTime': datetime.datetime(2024, 11, 18, 9, 14, 45, 95000, tzinfo=tzlocal()), 'ResponseMetadata': {'RequestId': 'ad0ac7b8-31f7-43c8-9a62-9205e6c9c6d1', 'HTTPStatusCode': 200, 'HTTPHeaders': {'x-amzn-requestid': 'ad0ac7b8-31f7-43c8-9a62-9205e6c9c6d1', 'content-type': 'application/x-amz-json-1.1', 'content-length': '722', 'date': 'Mon, 18 Nov 2024 09:18:26 GMT'}, 'RetryAttempts': 0}}\n",
      "all-ctr-test 14 Variant-xlarge-1 all-ctr-test-v3-all-ctr-test-14 Variant-xlarge-all-ctr-test-14 edp-config-all-ctr-test-multi-variants-14\n"
     ]
    },
    {
     "name": "stderr",
     "output_type": "stream",
     "text": [
      "Using already existing model: all-ctr-test-v3-all-ctr-test-14\n",
      "Traceback (most recent call last):\n",
      "  File \"/tmp/ipykernel_30982/2618302691.py\", line 65, in update_model_step\n",
      "    update_model_data_of_endpoint(ctx.model, ctx.model_data,\n",
      "  File \"/tmp/ipykernel_30982/2275675785.py\", line 52, in update_model_data_of_endpoint\n",
      "    print(sm_cli.create_endpoint_config(\n",
      "  File \"/opt/conda/lib/python3.10/site-packages/botocore/client.py\", line 569, in _api_call\n",
      "    return self._make_api_call(operation_name, kwargs)\n",
      "  File \"/opt/conda/lib/python3.10/site-packages/botocore/client.py\", line 1023, in _make_api_call\n",
      "    raise error_class(parsed_response, operation_name)\n",
      "botocore.exceptions.ClientError: An error occurred (ValidationException) when calling the CreateEndpointConfig operation: Cannot create already existing endpoint configuration \"arn:aws:sagemaker:ap-southeast-1:580243821396:endpoint-config/edp-config-all-ctr-test-multi-variants-14\".\n"
     ]
    },
    {
     "name": "stdout",
     "output_type": "stream",
     "text": [
      "{'EndpointName': 'all-ctr-test-v3', 'EndpointArn': 'arn:aws:sagemaker:ap-southeast-1:580243821396:endpoint/all-ctr-test-v3', 'EndpointConfigName': 'all-ctr-test-v3', 'ProductionVariants': [{'VariantName': 'Variant-xlarge-1', 'DeployedImages': [{'SpecifiedImage': '763104351884.dkr.ecr.ap-southeast-1.amazonaws.com/tensorflow-inference:1.15.2-cpu', 'ResolvedImage': '763104351884.dkr.ecr.ap-southeast-1.amazonaws.com/tensorflow-inference@sha256:c8ce28c662ff49396e546a7da6a30331df3b924a7d768888c8c5328abd7bdd2d', 'ResolutionTime': datetime.datetime(2024, 11, 18, 9, 12, 31, 893000, tzinfo=tzlocal())}], 'CurrentWeight': 1.0, 'DesiredWeight': 1.0, 'CurrentInstanceCount': 1, 'DesiredInstanceCount': 1}], 'EndpointStatus': 'InService', 'CreationTime': datetime.datetime(2024, 11, 18, 9, 12, 31, 393000, tzinfo=tzlocal()), 'LastModifiedTime': datetime.datetime(2024, 11, 18, 9, 14, 45, 95000, tzinfo=tzlocal()), 'ResponseMetadata': {'RequestId': 'a9c88e8a-12e8-445e-a637-e2959f6c10bc', 'HTTPStatusCode': 200, 'HTTPHeaders': {'x-amzn-requestid': 'a9c88e8a-12e8-445e-a637-e2959f6c10bc', 'content-type': 'application/x-amz-json-1.1', 'content-length': '722', 'date': 'Mon, 18 Nov 2024 09:18:26 GMT'}, 'RetryAttempts': 0}}\n",
      "all-ctr-test 15 Variant-xlarge-1 all-ctr-test-v3-all-ctr-test-15 Variant-xlarge-all-ctr-test-15 edp-config-all-ctr-test-multi-variants-15\n"
     ]
    },
    {
     "name": "stderr",
     "output_type": "stream",
     "text": [
      "Using already existing model: all-ctr-test-v3-all-ctr-test-15\n",
      "Traceback (most recent call last):\n",
      "  File \"/tmp/ipykernel_30982/2618302691.py\", line 65, in update_model_step\n",
      "    update_model_data_of_endpoint(ctx.model, ctx.model_data,\n",
      "  File \"/tmp/ipykernel_30982/2275675785.py\", line 52, in update_model_data_of_endpoint\n",
      "    print(sm_cli.create_endpoint_config(\n",
      "  File \"/opt/conda/lib/python3.10/site-packages/botocore/client.py\", line 569, in _api_call\n",
      "    return self._make_api_call(operation_name, kwargs)\n",
      "  File \"/opt/conda/lib/python3.10/site-packages/botocore/client.py\", line 1023, in _make_api_call\n",
      "    raise error_class(parsed_response, operation_name)\n",
      "botocore.exceptions.ClientError: An error occurred (ValidationException) when calling the CreateEndpointConfig operation: Cannot create already existing endpoint configuration \"arn:aws:sagemaker:ap-southeast-1:580243821396:endpoint-config/edp-config-all-ctr-test-multi-variants-15\".\n"
     ]
    },
    {
     "name": "stdout",
     "output_type": "stream",
     "text": [
      "{'EndpointName': 'all-ctr-test-v3', 'EndpointArn': 'arn:aws:sagemaker:ap-southeast-1:580243821396:endpoint/all-ctr-test-v3', 'EndpointConfigName': 'all-ctr-test-v3', 'ProductionVariants': [{'VariantName': 'Variant-xlarge-1', 'DeployedImages': [{'SpecifiedImage': '763104351884.dkr.ecr.ap-southeast-1.amazonaws.com/tensorflow-inference:1.15.2-cpu', 'ResolvedImage': '763104351884.dkr.ecr.ap-southeast-1.amazonaws.com/tensorflow-inference@sha256:c8ce28c662ff49396e546a7da6a30331df3b924a7d768888c8c5328abd7bdd2d', 'ResolutionTime': datetime.datetime(2024, 11, 18, 9, 12, 31, 893000, tzinfo=tzlocal())}], 'CurrentWeight': 1.0, 'DesiredWeight': 1.0, 'CurrentInstanceCount': 1, 'DesiredInstanceCount': 1}], 'EndpointStatus': 'InService', 'CreationTime': datetime.datetime(2024, 11, 18, 9, 12, 31, 393000, tzinfo=tzlocal()), 'LastModifiedTime': datetime.datetime(2024, 11, 18, 9, 14, 45, 95000, tzinfo=tzlocal()), 'ResponseMetadata': {'RequestId': 'f84d41ef-cfd6-42f0-a049-7efcf96758c0', 'HTTPStatusCode': 200, 'HTTPHeaders': {'x-amzn-requestid': 'f84d41ef-cfd6-42f0-a049-7efcf96758c0', 'content-type': 'application/x-amz-json-1.1', 'content-length': '722', 'date': 'Mon, 18 Nov 2024 09:18:27 GMT'}, 'RetryAttempts': 0}}\n",
      "all-ctr-test 16 Variant-xlarge-1 all-ctr-test-v3-all-ctr-test-16 Variant-xlarge-all-ctr-test-16 edp-config-all-ctr-test-multi-variants-16\n"
     ]
    },
    {
     "name": "stderr",
     "output_type": "stream",
     "text": [
      "Using already existing model: all-ctr-test-v3-all-ctr-test-16\n",
      "Traceback (most recent call last):\n",
      "  File \"/tmp/ipykernel_30982/2618302691.py\", line 65, in update_model_step\n",
      "    update_model_data_of_endpoint(ctx.model, ctx.model_data,\n",
      "  File \"/tmp/ipykernel_30982/2275675785.py\", line 52, in update_model_data_of_endpoint\n",
      "    print(sm_cli.create_endpoint_config(\n",
      "  File \"/opt/conda/lib/python3.10/site-packages/botocore/client.py\", line 569, in _api_call\n",
      "    return self._make_api_call(operation_name, kwargs)\n",
      "  File \"/opt/conda/lib/python3.10/site-packages/botocore/client.py\", line 1023, in _make_api_call\n",
      "    raise error_class(parsed_response, operation_name)\n",
      "botocore.exceptions.ClientError: An error occurred (ValidationException) when calling the CreateEndpointConfig operation: Cannot create already existing endpoint configuration \"arn:aws:sagemaker:ap-southeast-1:580243821396:endpoint-config/edp-config-all-ctr-test-multi-variants-16\".\n"
     ]
    },
    {
     "name": "stdout",
     "output_type": "stream",
     "text": [
      "{'EndpointName': 'all-ctr-test-v3', 'EndpointArn': 'arn:aws:sagemaker:ap-southeast-1:580243821396:endpoint/all-ctr-test-v3', 'EndpointConfigName': 'all-ctr-test-v3', 'ProductionVariants': [{'VariantName': 'Variant-xlarge-1', 'DeployedImages': [{'SpecifiedImage': '763104351884.dkr.ecr.ap-southeast-1.amazonaws.com/tensorflow-inference:1.15.2-cpu', 'ResolvedImage': '763104351884.dkr.ecr.ap-southeast-1.amazonaws.com/tensorflow-inference@sha256:c8ce28c662ff49396e546a7da6a30331df3b924a7d768888c8c5328abd7bdd2d', 'ResolutionTime': datetime.datetime(2024, 11, 18, 9, 12, 31, 893000, tzinfo=tzlocal())}], 'CurrentWeight': 1.0, 'DesiredWeight': 1.0, 'CurrentInstanceCount': 1, 'DesiredInstanceCount': 1}], 'EndpointStatus': 'InService', 'CreationTime': datetime.datetime(2024, 11, 18, 9, 12, 31, 393000, tzinfo=tzlocal()), 'LastModifiedTime': datetime.datetime(2024, 11, 18, 9, 14, 45, 95000, tzinfo=tzlocal()), 'ResponseMetadata': {'RequestId': '81909b58-ed63-4ff2-84b8-81e21afb8943', 'HTTPStatusCode': 200, 'HTTPHeaders': {'x-amzn-requestid': '81909b58-ed63-4ff2-84b8-81e21afb8943', 'content-type': 'application/x-amz-json-1.1', 'content-length': '722', 'date': 'Mon, 18 Nov 2024 09:18:30 GMT'}, 'RetryAttempts': 0}}\n",
      "all-ctr-test 17 Variant-xlarge-1 all-ctr-test-v3-all-ctr-test-17 Variant-xlarge-all-ctr-test-17 edp-config-all-ctr-test-multi-variants-17\n"
     ]
    },
    {
     "name": "stderr",
     "output_type": "stream",
     "text": [
      "Using already existing model: all-ctr-test-v3-all-ctr-test-17\n",
      "Traceback (most recent call last):\n",
      "  File \"/tmp/ipykernel_30982/2618302691.py\", line 65, in update_model_step\n",
      "    update_model_data_of_endpoint(ctx.model, ctx.model_data,\n",
      "  File \"/tmp/ipykernel_30982/2275675785.py\", line 52, in update_model_data_of_endpoint\n",
      "    print(sm_cli.create_endpoint_config(\n",
      "  File \"/opt/conda/lib/python3.10/site-packages/botocore/client.py\", line 569, in _api_call\n",
      "    return self._make_api_call(operation_name, kwargs)\n",
      "  File \"/opt/conda/lib/python3.10/site-packages/botocore/client.py\", line 1023, in _make_api_call\n",
      "    raise error_class(parsed_response, operation_name)\n",
      "botocore.exceptions.ClientError: An error occurred (ValidationException) when calling the CreateEndpointConfig operation: Cannot create already existing endpoint configuration \"arn:aws:sagemaker:ap-southeast-1:580243821396:endpoint-config/edp-config-all-ctr-test-multi-variants-17\".\n"
     ]
    },
    {
     "name": "stdout",
     "output_type": "stream",
     "text": [
      "{'EndpointName': 'all-ctr-test-v3', 'EndpointArn': 'arn:aws:sagemaker:ap-southeast-1:580243821396:endpoint/all-ctr-test-v3', 'EndpointConfigName': 'all-ctr-test-v3', 'ProductionVariants': [{'VariantName': 'Variant-xlarge-1', 'DeployedImages': [{'SpecifiedImage': '763104351884.dkr.ecr.ap-southeast-1.amazonaws.com/tensorflow-inference:1.15.2-cpu', 'ResolvedImage': '763104351884.dkr.ecr.ap-southeast-1.amazonaws.com/tensorflow-inference@sha256:c8ce28c662ff49396e546a7da6a30331df3b924a7d768888c8c5328abd7bdd2d', 'ResolutionTime': datetime.datetime(2024, 11, 18, 9, 12, 31, 893000, tzinfo=tzlocal())}], 'CurrentWeight': 1.0, 'DesiredWeight': 1.0, 'CurrentInstanceCount': 1, 'DesiredInstanceCount': 1}], 'EndpointStatus': 'InService', 'CreationTime': datetime.datetime(2024, 11, 18, 9, 12, 31, 393000, tzinfo=tzlocal()), 'LastModifiedTime': datetime.datetime(2024, 11, 18, 9, 14, 45, 95000, tzinfo=tzlocal()), 'ResponseMetadata': {'RequestId': '670f7ad8-596e-4d6c-ad46-173f7ce86696', 'HTTPStatusCode': 200, 'HTTPHeaders': {'x-amzn-requestid': '670f7ad8-596e-4d6c-ad46-173f7ce86696', 'content-type': 'application/x-amz-json-1.1', 'content-length': '722', 'date': 'Mon, 18 Nov 2024 09:18:30 GMT'}, 'RetryAttempts': 0}}\n",
      "all-ctr-test 18 Variant-xlarge-1 all-ctr-test-v3-all-ctr-test-18 Variant-xlarge-all-ctr-test-18 edp-config-all-ctr-test-multi-variants-18\n"
     ]
    },
    {
     "name": "stderr",
     "output_type": "stream",
     "text": [
      "Using already existing model: all-ctr-test-v3-all-ctr-test-18\n",
      "Traceback (most recent call last):\n",
      "  File \"/tmp/ipykernel_30982/2618302691.py\", line 65, in update_model_step\n",
      "    update_model_data_of_endpoint(ctx.model, ctx.model_data,\n",
      "  File \"/tmp/ipykernel_30982/2275675785.py\", line 52, in update_model_data_of_endpoint\n",
      "    print(sm_cli.create_endpoint_config(\n",
      "  File \"/opt/conda/lib/python3.10/site-packages/botocore/client.py\", line 569, in _api_call\n",
      "    return self._make_api_call(operation_name, kwargs)\n",
      "  File \"/opt/conda/lib/python3.10/site-packages/botocore/client.py\", line 1023, in _make_api_call\n",
      "    raise error_class(parsed_response, operation_name)\n",
      "botocore.exceptions.ClientError: An error occurred (ValidationException) when calling the CreateEndpointConfig operation: Cannot create already existing endpoint configuration \"arn:aws:sagemaker:ap-southeast-1:580243821396:endpoint-config/edp-config-all-ctr-test-multi-variants-18\".\n"
     ]
    },
    {
     "name": "stdout",
     "output_type": "stream",
     "text": [
      "{'EndpointName': 'all-ctr-test-v3', 'EndpointArn': 'arn:aws:sagemaker:ap-southeast-1:580243821396:endpoint/all-ctr-test-v3', 'EndpointConfigName': 'all-ctr-test-v3', 'ProductionVariants': [{'VariantName': 'Variant-xlarge-1', 'DeployedImages': [{'SpecifiedImage': '763104351884.dkr.ecr.ap-southeast-1.amazonaws.com/tensorflow-inference:1.15.2-cpu', 'ResolvedImage': '763104351884.dkr.ecr.ap-southeast-1.amazonaws.com/tensorflow-inference@sha256:c8ce28c662ff49396e546a7da6a30331df3b924a7d768888c8c5328abd7bdd2d', 'ResolutionTime': datetime.datetime(2024, 11, 18, 9, 12, 31, 893000, tzinfo=tzlocal())}], 'CurrentWeight': 1.0, 'DesiredWeight': 1.0, 'CurrentInstanceCount': 1, 'DesiredInstanceCount': 1}], 'EndpointStatus': 'InService', 'CreationTime': datetime.datetime(2024, 11, 18, 9, 12, 31, 393000, tzinfo=tzlocal()), 'LastModifiedTime': datetime.datetime(2024, 11, 18, 9, 14, 45, 95000, tzinfo=tzlocal()), 'ResponseMetadata': {'RequestId': '6a39ac71-68ce-4748-8a03-84c8305e2a71', 'HTTPStatusCode': 200, 'HTTPHeaders': {'x-amzn-requestid': '6a39ac71-68ce-4748-8a03-84c8305e2a71', 'content-type': 'application/x-amz-json-1.1', 'content-length': '722', 'date': 'Mon, 18 Nov 2024 09:18:31 GMT'}, 'RetryAttempts': 0}}\n",
      "all-ctr-test 19 Variant-xlarge-1 all-ctr-test-v3-all-ctr-test-19 Variant-xlarge-all-ctr-test-19 edp-config-all-ctr-test-multi-variants-19\n"
     ]
    },
    {
     "name": "stderr",
     "output_type": "stream",
     "text": [
      "Using already existing model: all-ctr-test-v3-all-ctr-test-19\n",
      "Traceback (most recent call last):\n",
      "  File \"/tmp/ipykernel_30982/2618302691.py\", line 65, in update_model_step\n",
      "    update_model_data_of_endpoint(ctx.model, ctx.model_data,\n",
      "  File \"/tmp/ipykernel_30982/2275675785.py\", line 52, in update_model_data_of_endpoint\n",
      "    print(sm_cli.create_endpoint_config(\n",
      "  File \"/opt/conda/lib/python3.10/site-packages/botocore/client.py\", line 569, in _api_call\n",
      "    return self._make_api_call(operation_name, kwargs)\n",
      "  File \"/opt/conda/lib/python3.10/site-packages/botocore/client.py\", line 1023, in _make_api_call\n",
      "    raise error_class(parsed_response, operation_name)\n",
      "botocore.exceptions.ClientError: An error occurred (ValidationException) when calling the CreateEndpointConfig operation: Cannot create already existing endpoint configuration \"arn:aws:sagemaker:ap-southeast-1:580243821396:endpoint-config/edp-config-all-ctr-test-multi-variants-19\".\n"
     ]
    },
    {
     "name": "stdout",
     "output_type": "stream",
     "text": [
      "{'EndpointName': 'all-ctr-test-v3', 'EndpointArn': 'arn:aws:sagemaker:ap-southeast-1:580243821396:endpoint/all-ctr-test-v3', 'EndpointConfigName': 'all-ctr-test-v3', 'ProductionVariants': [{'VariantName': 'Variant-xlarge-1', 'DeployedImages': [{'SpecifiedImage': '763104351884.dkr.ecr.ap-southeast-1.amazonaws.com/tensorflow-inference:1.15.2-cpu', 'ResolvedImage': '763104351884.dkr.ecr.ap-southeast-1.amazonaws.com/tensorflow-inference@sha256:c8ce28c662ff49396e546a7da6a30331df3b924a7d768888c8c5328abd7bdd2d', 'ResolutionTime': datetime.datetime(2024, 11, 18, 9, 12, 31, 893000, tzinfo=tzlocal())}], 'CurrentWeight': 1.0, 'DesiredWeight': 1.0, 'CurrentInstanceCount': 1, 'DesiredInstanceCount': 1}], 'EndpointStatus': 'InService', 'CreationTime': datetime.datetime(2024, 11, 18, 9, 12, 31, 393000, tzinfo=tzlocal()), 'LastModifiedTime': datetime.datetime(2024, 11, 18, 9, 14, 45, 95000, tzinfo=tzlocal()), 'ResponseMetadata': {'RequestId': '7a99dc69-9ba9-4d7f-bb3d-93d6c0f532a5', 'HTTPStatusCode': 200, 'HTTPHeaders': {'x-amzn-requestid': '7a99dc69-9ba9-4d7f-bb3d-93d6c0f532a5', 'content-type': 'application/x-amz-json-1.1', 'content-length': '722', 'date': 'Mon, 18 Nov 2024 09:18:32 GMT'}, 'RetryAttempts': 0}}\n",
      "all-ctr-test 20 Variant-xlarge-1 all-ctr-test-v3-all-ctr-test-20 Variant-xlarge-all-ctr-test-20 edp-config-all-ctr-test-multi-variants-20\n"
     ]
    },
    {
     "name": "stderr",
     "output_type": "stream",
     "text": [
      "Using already existing model: all-ctr-test-v3-all-ctr-test-20\n",
      "Traceback (most recent call last):\n",
      "  File \"/tmp/ipykernel_30982/2618302691.py\", line 65, in update_model_step\n",
      "    update_model_data_of_endpoint(ctx.model, ctx.model_data,\n",
      "  File \"/tmp/ipykernel_30982/2275675785.py\", line 52, in update_model_data_of_endpoint\n",
      "    print(sm_cli.create_endpoint_config(\n",
      "  File \"/opt/conda/lib/python3.10/site-packages/botocore/client.py\", line 569, in _api_call\n",
      "    return self._make_api_call(operation_name, kwargs)\n",
      "  File \"/opt/conda/lib/python3.10/site-packages/botocore/client.py\", line 1023, in _make_api_call\n",
      "    raise error_class(parsed_response, operation_name)\n",
      "botocore.exceptions.ClientError: An error occurred (ValidationException) when calling the CreateEndpointConfig operation: Cannot create already existing endpoint configuration \"arn:aws:sagemaker:ap-southeast-1:580243821396:endpoint-config/edp-config-all-ctr-test-multi-variants-20\".\n"
     ]
    },
    {
     "name": "stdout",
     "output_type": "stream",
     "text": [
      "{'EndpointName': 'all-ctr-test-v3', 'EndpointArn': 'arn:aws:sagemaker:ap-southeast-1:580243821396:endpoint/all-ctr-test-v3', 'EndpointConfigName': 'all-ctr-test-v3', 'ProductionVariants': [{'VariantName': 'Variant-xlarge-1', 'DeployedImages': [{'SpecifiedImage': '763104351884.dkr.ecr.ap-southeast-1.amazonaws.com/tensorflow-inference:1.15.2-cpu', 'ResolvedImage': '763104351884.dkr.ecr.ap-southeast-1.amazonaws.com/tensorflow-inference@sha256:c8ce28c662ff49396e546a7da6a30331df3b924a7d768888c8c5328abd7bdd2d', 'ResolutionTime': datetime.datetime(2024, 11, 18, 9, 12, 31, 893000, tzinfo=tzlocal())}], 'CurrentWeight': 1.0, 'DesiredWeight': 1.0, 'CurrentInstanceCount': 1, 'DesiredInstanceCount': 1}], 'EndpointStatus': 'InService', 'CreationTime': datetime.datetime(2024, 11, 18, 9, 12, 31, 393000, tzinfo=tzlocal()), 'LastModifiedTime': datetime.datetime(2024, 11, 18, 9, 14, 45, 95000, tzinfo=tzlocal()), 'ResponseMetadata': {'RequestId': '09e593ad-335c-4981-8101-b97b1f9fe841', 'HTTPStatusCode': 200, 'HTTPHeaders': {'x-amzn-requestid': '09e593ad-335c-4981-8101-b97b1f9fe841', 'content-type': 'application/x-amz-json-1.1', 'content-length': '722', 'date': 'Mon, 18 Nov 2024 09:18:34 GMT'}, 'RetryAttempts': 0}}\n",
      "all-ctr-test 21 Variant-xlarge-1 all-ctr-test-v3-all-ctr-test-21 Variant-xlarge-all-ctr-test-21 edp-config-all-ctr-test-multi-variants-21\n"
     ]
    },
    {
     "name": "stderr",
     "output_type": "stream",
     "text": [
      "Using already existing model: all-ctr-test-v3-all-ctr-test-21\n"
     ]
    },
    {
     "name": "stdout",
     "output_type": "stream",
     "text": [
      "[11-18 17:18:34] start at 11-18 17:18:12; Model: all-ctr-test; Failed: Step [update model of edp] FAILED for None; target date: 20241014; Model data: s3://warehouse-algo/rec_laidehe/test/all-ctr-test/model/ds=20241014/model.tar.gz; Deploy: END already exists, DO NOT NEED to deploy.; Update: Update started; error msg: Step [update model of edp] FAILED for None; Over\n"
     ]
    },
    {
     "name": "stderr",
     "output_type": "stream",
     "text": [
      "Traceback (most recent call last):\n",
      "  File \"/tmp/ipykernel_30982/2618302691.py\", line 65, in update_model_step\n",
      "    update_model_data_of_endpoint(ctx.model, ctx.model_data,\n",
      "  File \"/tmp/ipykernel_30982/2275675785.py\", line 52, in update_model_data_of_endpoint\n",
      "    print(sm_cli.create_endpoint_config(\n",
      "  File \"/opt/conda/lib/python3.10/site-packages/botocore/client.py\", line 569, in _api_call\n",
      "    return self._make_api_call(operation_name, kwargs)\n",
      "  File \"/opt/conda/lib/python3.10/site-packages/botocore/client.py\", line 1023, in _make_api_call\n",
      "    raise error_class(parsed_response, operation_name)\n",
      "botocore.exceptions.ClientError: An error occurred (ValidationException) when calling the CreateEndpointConfig operation: Cannot create already existing endpoint configuration \"arn:aws:sagemaker:ap-southeast-1:580243821396:endpoint-config/edp-config-all-ctr-test-multi-variants-21\".\n",
      "Traceback (most recent call last):\n",
      "  File \"/tmp/ipykernel_30982/2618302691.py\", line 88, in execute_steps_safely\n",
      "    func(ctx)\n",
      "  File \"/tmp/ipykernel_30982/2618302691.py\", line 73, in update_model_step\n",
      "    raise ValueError('Failed to update')\n",
      "ValueError: Failed to update\n"
     ]
    }
   ],
   "source": [
    "default_bucket = 'warehouse-algo'\n",
    "s3_bucket_prefix = 's3://%s/' % default_bucket\n",
    "\n",
    "model_update_config = [\n",
    "    # {\n",
    "    #     'model': 'ctr-v11',\n",
    "    #     'endpoint': 'edp-ctr-v11',\n",
    "    #     'model_data_pattern': 'sagemaker/search_new/all-ctr-v11/model/ds=%s/model.tar.gz',\n",
    "    # },\n",
    "    # s3://warehouse-algo/sagemaker/search_new/tf_model.tar.gz\n",
    "    {\n",
    "        'model': 'all-ctr-test',\n",
    "        'endpoint': 'all-ctr-test-v3',\n",
    "        'model_data_pattern': 'rec_laidehe/test/all-ctr-test/model/ds=%s/model.tar.gz',\n",
    "    },\n",
    "]\n",
    "\n",
    "for update_config in model_update_config:\n",
    "    try_update_cur_model_by_config(update_config)"
   ]
  },
  {
   "cell_type": "code",
   "execution_count": null,
   "id": "1d202e68-8d1f-49aa-8b3c-33fdc565029a",
   "metadata": {},
   "outputs": [],
   "source": []
  }
 ],
 "metadata": {
  "availableInstances": [
   {
    "_defaultOrder": 0,
    "_isFastLaunch": true,
    "category": "General purpose",
    "gpuNum": 0,
    "hideHardwareSpecs": false,
    "memoryGiB": 4,
    "name": "ml.t3.medium",
    "vcpuNum": 2
   },
   {
    "_defaultOrder": 1,
    "_isFastLaunch": false,
    "category": "General purpose",
    "gpuNum": 0,
    "hideHardwareSpecs": false,
    "memoryGiB": 8,
    "name": "ml.t3.large",
    "vcpuNum": 2
   },
   {
    "_defaultOrder": 2,
    "_isFastLaunch": false,
    "category": "General purpose",
    "gpuNum": 0,
    "hideHardwareSpecs": false,
    "memoryGiB": 16,
    "name": "ml.t3.xlarge",
    "vcpuNum": 4
   },
   {
    "_defaultOrder": 3,
    "_isFastLaunch": false,
    "category": "General purpose",
    "gpuNum": 0,
    "hideHardwareSpecs": false,
    "memoryGiB": 32,
    "name": "ml.t3.2xlarge",
    "vcpuNum": 8
   },
   {
    "_defaultOrder": 4,
    "_isFastLaunch": true,
    "category": "General purpose",
    "gpuNum": 0,
    "hideHardwareSpecs": false,
    "memoryGiB": 8,
    "name": "ml.m5.large",
    "vcpuNum": 2
   },
   {
    "_defaultOrder": 5,
    "_isFastLaunch": false,
    "category": "General purpose",
    "gpuNum": 0,
    "hideHardwareSpecs": false,
    "memoryGiB": 16,
    "name": "ml.m5.xlarge",
    "vcpuNum": 4
   },
   {
    "_defaultOrder": 6,
    "_isFastLaunch": false,
    "category": "General purpose",
    "gpuNum": 0,
    "hideHardwareSpecs": false,
    "memoryGiB": 32,
    "name": "ml.m5.2xlarge",
    "vcpuNum": 8
   },
   {
    "_defaultOrder": 7,
    "_isFastLaunch": false,
    "category": "General purpose",
    "gpuNum": 0,
    "hideHardwareSpecs": false,
    "memoryGiB": 64,
    "name": "ml.m5.4xlarge",
    "vcpuNum": 16
   },
   {
    "_defaultOrder": 8,
    "_isFastLaunch": false,
    "category": "General purpose",
    "gpuNum": 0,
    "hideHardwareSpecs": false,
    "memoryGiB": 128,
    "name": "ml.m5.8xlarge",
    "vcpuNum": 32
   },
   {
    "_defaultOrder": 9,
    "_isFastLaunch": false,
    "category": "General purpose",
    "gpuNum": 0,
    "hideHardwareSpecs": false,
    "memoryGiB": 192,
    "name": "ml.m5.12xlarge",
    "vcpuNum": 48
   },
   {
    "_defaultOrder": 10,
    "_isFastLaunch": false,
    "category": "General purpose",
    "gpuNum": 0,
    "hideHardwareSpecs": false,
    "memoryGiB": 256,
    "name": "ml.m5.16xlarge",
    "vcpuNum": 64
   },
   {
    "_defaultOrder": 11,
    "_isFastLaunch": false,
    "category": "General purpose",
    "gpuNum": 0,
    "hideHardwareSpecs": false,
    "memoryGiB": 384,
    "name": "ml.m5.24xlarge",
    "vcpuNum": 96
   },
   {
    "_defaultOrder": 12,
    "_isFastLaunch": false,
    "category": "General purpose",
    "gpuNum": 0,
    "hideHardwareSpecs": false,
    "memoryGiB": 8,
    "name": "ml.m5d.large",
    "vcpuNum": 2
   },
   {
    "_defaultOrder": 13,
    "_isFastLaunch": false,
    "category": "General purpose",
    "gpuNum": 0,
    "hideHardwareSpecs": false,
    "memoryGiB": 16,
    "name": "ml.m5d.xlarge",
    "vcpuNum": 4
   },
   {
    "_defaultOrder": 14,
    "_isFastLaunch": false,
    "category": "General purpose",
    "gpuNum": 0,
    "hideHardwareSpecs": false,
    "memoryGiB": 32,
    "name": "ml.m5d.2xlarge",
    "vcpuNum": 8
   },
   {
    "_defaultOrder": 15,
    "_isFastLaunch": false,
    "category": "General purpose",
    "gpuNum": 0,
    "hideHardwareSpecs": false,
    "memoryGiB": 64,
    "name": "ml.m5d.4xlarge",
    "vcpuNum": 16
   },
   {
    "_defaultOrder": 16,
    "_isFastLaunch": false,
    "category": "General purpose",
    "gpuNum": 0,
    "hideHardwareSpecs": false,
    "memoryGiB": 128,
    "name": "ml.m5d.8xlarge",
    "vcpuNum": 32
   },
   {
    "_defaultOrder": 17,
    "_isFastLaunch": false,
    "category": "General purpose",
    "gpuNum": 0,
    "hideHardwareSpecs": false,
    "memoryGiB": 192,
    "name": "ml.m5d.12xlarge",
    "vcpuNum": 48
   },
   {
    "_defaultOrder": 18,
    "_isFastLaunch": false,
    "category": "General purpose",
    "gpuNum": 0,
    "hideHardwareSpecs": false,
    "memoryGiB": 256,
    "name": "ml.m5d.16xlarge",
    "vcpuNum": 64
   },
   {
    "_defaultOrder": 19,
    "_isFastLaunch": false,
    "category": "General purpose",
    "gpuNum": 0,
    "hideHardwareSpecs": false,
    "memoryGiB": 384,
    "name": "ml.m5d.24xlarge",
    "vcpuNum": 96
   },
   {
    "_defaultOrder": 20,
    "_isFastLaunch": false,
    "category": "General purpose",
    "gpuNum": 0,
    "hideHardwareSpecs": true,
    "memoryGiB": 0,
    "name": "ml.geospatial.interactive",
    "supportedImageNames": [
     "sagemaker-geospatial-v1-0"
    ],
    "vcpuNum": 0
   },
   {
    "_defaultOrder": 21,
    "_isFastLaunch": true,
    "category": "Compute optimized",
    "gpuNum": 0,
    "hideHardwareSpecs": false,
    "memoryGiB": 4,
    "name": "ml.c5.large",
    "vcpuNum": 2
   },
   {
    "_defaultOrder": 22,
    "_isFastLaunch": false,
    "category": "Compute optimized",
    "gpuNum": 0,
    "hideHardwareSpecs": false,
    "memoryGiB": 8,
    "name": "ml.c5.xlarge",
    "vcpuNum": 4
   },
   {
    "_defaultOrder": 23,
    "_isFastLaunch": false,
    "category": "Compute optimized",
    "gpuNum": 0,
    "hideHardwareSpecs": false,
    "memoryGiB": 16,
    "name": "ml.c5.2xlarge",
    "vcpuNum": 8
   },
   {
    "_defaultOrder": 24,
    "_isFastLaunch": false,
    "category": "Compute optimized",
    "gpuNum": 0,
    "hideHardwareSpecs": false,
    "memoryGiB": 32,
    "name": "ml.c5.4xlarge",
    "vcpuNum": 16
   },
   {
    "_defaultOrder": 25,
    "_isFastLaunch": false,
    "category": "Compute optimized",
    "gpuNum": 0,
    "hideHardwareSpecs": false,
    "memoryGiB": 72,
    "name": "ml.c5.9xlarge",
    "vcpuNum": 36
   },
   {
    "_defaultOrder": 26,
    "_isFastLaunch": false,
    "category": "Compute optimized",
    "gpuNum": 0,
    "hideHardwareSpecs": false,
    "memoryGiB": 96,
    "name": "ml.c5.12xlarge",
    "vcpuNum": 48
   },
   {
    "_defaultOrder": 27,
    "_isFastLaunch": false,
    "category": "Compute optimized",
    "gpuNum": 0,
    "hideHardwareSpecs": false,
    "memoryGiB": 144,
    "name": "ml.c5.18xlarge",
    "vcpuNum": 72
   },
   {
    "_defaultOrder": 28,
    "_isFastLaunch": false,
    "category": "Compute optimized",
    "gpuNum": 0,
    "hideHardwareSpecs": false,
    "memoryGiB": 192,
    "name": "ml.c5.24xlarge",
    "vcpuNum": 96
   },
   {
    "_defaultOrder": 29,
    "_isFastLaunch": true,
    "category": "Accelerated computing",
    "gpuNum": 1,
    "hideHardwareSpecs": false,
    "memoryGiB": 16,
    "name": "ml.g4dn.xlarge",
    "vcpuNum": 4
   },
   {
    "_defaultOrder": 30,
    "_isFastLaunch": false,
    "category": "Accelerated computing",
    "gpuNum": 1,
    "hideHardwareSpecs": false,
    "memoryGiB": 32,
    "name": "ml.g4dn.2xlarge",
    "vcpuNum": 8
   },
   {
    "_defaultOrder": 31,
    "_isFastLaunch": false,
    "category": "Accelerated computing",
    "gpuNum": 1,
    "hideHardwareSpecs": false,
    "memoryGiB": 64,
    "name": "ml.g4dn.4xlarge",
    "vcpuNum": 16
   },
   {
    "_defaultOrder": 32,
    "_isFastLaunch": false,
    "category": "Accelerated computing",
    "gpuNum": 1,
    "hideHardwareSpecs": false,
    "memoryGiB": 128,
    "name": "ml.g4dn.8xlarge",
    "vcpuNum": 32
   },
   {
    "_defaultOrder": 33,
    "_isFastLaunch": false,
    "category": "Accelerated computing",
    "gpuNum": 4,
    "hideHardwareSpecs": false,
    "memoryGiB": 192,
    "name": "ml.g4dn.12xlarge",
    "vcpuNum": 48
   },
   {
    "_defaultOrder": 34,
    "_isFastLaunch": false,
    "category": "Accelerated computing",
    "gpuNum": 1,
    "hideHardwareSpecs": false,
    "memoryGiB": 256,
    "name": "ml.g4dn.16xlarge",
    "vcpuNum": 64
   },
   {
    "_defaultOrder": 35,
    "_isFastLaunch": false,
    "category": "Accelerated computing",
    "gpuNum": 1,
    "hideHardwareSpecs": false,
    "memoryGiB": 61,
    "name": "ml.p3.2xlarge",
    "vcpuNum": 8
   },
   {
    "_defaultOrder": 36,
    "_isFastLaunch": false,
    "category": "Accelerated computing",
    "gpuNum": 4,
    "hideHardwareSpecs": false,
    "memoryGiB": 244,
    "name": "ml.p3.8xlarge",
    "vcpuNum": 32
   },
   {
    "_defaultOrder": 37,
    "_isFastLaunch": false,
    "category": "Accelerated computing",
    "gpuNum": 8,
    "hideHardwareSpecs": false,
    "memoryGiB": 488,
    "name": "ml.p3.16xlarge",
    "vcpuNum": 64
   },
   {
    "_defaultOrder": 38,
    "_isFastLaunch": false,
    "category": "Accelerated computing",
    "gpuNum": 8,
    "hideHardwareSpecs": false,
    "memoryGiB": 768,
    "name": "ml.p3dn.24xlarge",
    "vcpuNum": 96
   },
   {
    "_defaultOrder": 39,
    "_isFastLaunch": false,
    "category": "Memory Optimized",
    "gpuNum": 0,
    "hideHardwareSpecs": false,
    "memoryGiB": 16,
    "name": "ml.r5.large",
    "vcpuNum": 2
   },
   {
    "_defaultOrder": 40,
    "_isFastLaunch": false,
    "category": "Memory Optimized",
    "gpuNum": 0,
    "hideHardwareSpecs": false,
    "memoryGiB": 32,
    "name": "ml.r5.xlarge",
    "vcpuNum": 4
   },
   {
    "_defaultOrder": 41,
    "_isFastLaunch": false,
    "category": "Memory Optimized",
    "gpuNum": 0,
    "hideHardwareSpecs": false,
    "memoryGiB": 64,
    "name": "ml.r5.2xlarge",
    "vcpuNum": 8
   },
   {
    "_defaultOrder": 42,
    "_isFastLaunch": false,
    "category": "Memory Optimized",
    "gpuNum": 0,
    "hideHardwareSpecs": false,
    "memoryGiB": 128,
    "name": "ml.r5.4xlarge",
    "vcpuNum": 16
   },
   {
    "_defaultOrder": 43,
    "_isFastLaunch": false,
    "category": "Memory Optimized",
    "gpuNum": 0,
    "hideHardwareSpecs": false,
    "memoryGiB": 256,
    "name": "ml.r5.8xlarge",
    "vcpuNum": 32
   },
   {
    "_defaultOrder": 44,
    "_isFastLaunch": false,
    "category": "Memory Optimized",
    "gpuNum": 0,
    "hideHardwareSpecs": false,
    "memoryGiB": 384,
    "name": "ml.r5.12xlarge",
    "vcpuNum": 48
   },
   {
    "_defaultOrder": 45,
    "_isFastLaunch": false,
    "category": "Memory Optimized",
    "gpuNum": 0,
    "hideHardwareSpecs": false,
    "memoryGiB": 512,
    "name": "ml.r5.16xlarge",
    "vcpuNum": 64
   },
   {
    "_defaultOrder": 46,
    "_isFastLaunch": false,
    "category": "Memory Optimized",
    "gpuNum": 0,
    "hideHardwareSpecs": false,
    "memoryGiB": 768,
    "name": "ml.r5.24xlarge",
    "vcpuNum": 96
   },
   {
    "_defaultOrder": 47,
    "_isFastLaunch": false,
    "category": "Accelerated computing",
    "gpuNum": 1,
    "hideHardwareSpecs": false,
    "memoryGiB": 16,
    "name": "ml.g5.xlarge",
    "vcpuNum": 4
   },
   {
    "_defaultOrder": 48,
    "_isFastLaunch": false,
    "category": "Accelerated computing",
    "gpuNum": 1,
    "hideHardwareSpecs": false,
    "memoryGiB": 32,
    "name": "ml.g5.2xlarge",
    "vcpuNum": 8
   },
   {
    "_defaultOrder": 49,
    "_isFastLaunch": false,
    "category": "Accelerated computing",
    "gpuNum": 1,
    "hideHardwareSpecs": false,
    "memoryGiB": 64,
    "name": "ml.g5.4xlarge",
    "vcpuNum": 16
   },
   {
    "_defaultOrder": 50,
    "_isFastLaunch": false,
    "category": "Accelerated computing",
    "gpuNum": 1,
    "hideHardwareSpecs": false,
    "memoryGiB": 128,
    "name": "ml.g5.8xlarge",
    "vcpuNum": 32
   },
   {
    "_defaultOrder": 51,
    "_isFastLaunch": false,
    "category": "Accelerated computing",
    "gpuNum": 1,
    "hideHardwareSpecs": false,
    "memoryGiB": 256,
    "name": "ml.g5.16xlarge",
    "vcpuNum": 64
   },
   {
    "_defaultOrder": 52,
    "_isFastLaunch": false,
    "category": "Accelerated computing",
    "gpuNum": 4,
    "hideHardwareSpecs": false,
    "memoryGiB": 192,
    "name": "ml.g5.12xlarge",
    "vcpuNum": 48
   },
   {
    "_defaultOrder": 53,
    "_isFastLaunch": false,
    "category": "Accelerated computing",
    "gpuNum": 4,
    "hideHardwareSpecs": false,
    "memoryGiB": 384,
    "name": "ml.g5.24xlarge",
    "vcpuNum": 96
   },
   {
    "_defaultOrder": 54,
    "_isFastLaunch": false,
    "category": "Accelerated computing",
    "gpuNum": 8,
    "hideHardwareSpecs": false,
    "memoryGiB": 768,
    "name": "ml.g5.48xlarge",
    "vcpuNum": 192
   },
   {
    "_defaultOrder": 55,
    "_isFastLaunch": false,
    "category": "Accelerated computing",
    "gpuNum": 8,
    "hideHardwareSpecs": false,
    "memoryGiB": 1152,
    "name": "ml.p4d.24xlarge",
    "vcpuNum": 96
   },
   {
    "_defaultOrder": 56,
    "_isFastLaunch": false,
    "category": "Accelerated computing",
    "gpuNum": 8,
    "hideHardwareSpecs": false,
    "memoryGiB": 1152,
    "name": "ml.p4de.24xlarge",
    "vcpuNum": 96
   },
   {
    "_defaultOrder": 57,
    "_isFastLaunch": false,
    "category": "Accelerated computing",
    "gpuNum": 0,
    "hideHardwareSpecs": false,
    "memoryGiB": 32,
    "name": "ml.trn1.2xlarge",
    "vcpuNum": 8
   },
   {
    "_defaultOrder": 58,
    "_isFastLaunch": false,
    "category": "Accelerated computing",
    "gpuNum": 0,
    "hideHardwareSpecs": false,
    "memoryGiB": 512,
    "name": "ml.trn1.32xlarge",
    "vcpuNum": 128
   },
   {
    "_defaultOrder": 59,
    "_isFastLaunch": false,
    "category": "Accelerated computing",
    "gpuNum": 0,
    "hideHardwareSpecs": false,
    "memoryGiB": 512,
    "name": "ml.trn1n.32xlarge",
    "vcpuNum": 128
   }
  ],
  "instance_type": "ml.t3.medium",
  "kernelspec": {
   "display_name": "Python 3 (ipykernel)",
   "language": "python",
   "name": "python3"
  },
  "language_info": {
   "codemirror_mode": {
    "name": "ipython",
    "version": 3
   },
   "file_extension": ".py",
   "mimetype": "text/x-python",
   "name": "python",
   "nbconvert_exporter": "python",
   "pygments_lexer": "ipython3",
   "version": "3.10.14"
  },
  "widgets": {
   "application/vnd.jupyter.widget-state+json": {
    "state": {},
    "version_major": 2,
    "version_minor": 0
   }
  }
 },
 "nbformat": 4,
 "nbformat_minor": 5
}
