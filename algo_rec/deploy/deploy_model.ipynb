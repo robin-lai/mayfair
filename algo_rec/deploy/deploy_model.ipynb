{
 "cells": [
  {
   "cell_type": "markdown",
   "id": "9361d84c-e91d-4449-a436-4fa84224fbfe",
   "metadata": {
    "jp-MarkdownHeadingCollapsed": true,
    "tags": []
   },
   "source": [
    "# package"
   ]
  },
  {
   "cell_type": "code",
   "execution_count": 55,
   "id": "ad78e1a8-6473-4e9c-b472-019c9c9b53f3",
   "metadata": {
    "tags": []
   },
   "outputs": [],
   "source": [
    "import json, os, random, time, math, multiprocessing, traceback\n",
    "import boto3\n",
    "import sagemaker\n",
    "from sagemaker import image_uris, get_execution_role\n",
    "from sagemaker.session import production_variant\n",
    "from pyarrow import parquet\n",
    "from datetime import datetime, timedelta\n",
    "import pickle"
   ]
  },
  {
   "cell_type": "code",
   "execution_count": 56,
   "id": "c4a88047-ed46-4e7b-878b-2c3d26bed102",
   "metadata": {},
   "outputs": [],
   "source": [
    "HOME = '/home/sagemaker-user/'"
   ]
  },
  {
   "cell_type": "code",
   "execution_count": 57,
   "id": "3d45cb6d-7586-47b9-82ff-6460889359b6",
   "metadata": {
    "tags": []
   },
   "outputs": [
    {
     "name": "stdout",
     "output_type": "stream",
     "text": [
      "aws region: ap-southeast-1\n",
      "role: arn:aws:iam::580243821396:role/service-role/AmazonSageMaker-ExecutionRole-20241030T174232\n"
     ]
    }
   ],
   "source": [
    "s3_cli = boto3.client('s3')\n",
    "sm_sess = sagemaker.Session()\n",
    "print('aws region:', sm_sess.boto_region_name)\n",
    "sm_cli = boto3.client('sagemaker')\n",
    "role = get_execution_role()\n",
    "print('role:', role)"
   ]
  },
  {
   "cell_type": "code",
   "execution_count": 61,
   "id": "3a6a1801-7321-4899-9989-bb1bb6161512",
   "metadata": {},
   "outputs": [],
   "source": [
    "s3_model_s3 = 's3://warehouse-algo/rec/all_ctr_din_prod_1day_1121_test/job/Job-laidehe-test-all-ctr-din-prod-1day-1121-test-11-21-11-24-43/model'\n",
    "s3_model_local = HOME + '/model/model_local_pkg/'\n",
    "s3_model_local_tar_file = s3_model_local + 'model.tar.gz'\n",
    "s3_model_online = 's3://warehouse-algo/rec/model_test/'\n",
    "s3_model_online_tar_file = s3_model_online + 'model.tar.gz'\n",
    "code_file_name = s3_model_local + '/code/inference.py'"
   ]
  },
  {
   "cell_type": "code",
   "execution_count": 47,
   "id": "affa1f10-d395-4683-a396-0471712600cb",
   "metadata": {},
   "outputs": [
    {
     "data": {
      "text/plain": [
       "'/home/sagemaker-user//model/model_local_pkg/model.tar.gz'"
      ]
     },
     "execution_count": 47,
     "metadata": {},
     "output_type": "execute_result"
    }
   ],
   "source": []
  },
  {
   "cell_type": "code",
   "execution_count": 36,
   "id": "de1f0001-9070-4d14-9940-31317fc7233c",
   "metadata": {},
   "outputs": [
    {
     "name": "stdout",
     "output_type": "stream",
     "text": [
      "download: s3://warehouse-algo/rec/all_ctr_din_prod_1day_1121_test/job/Job-laidehe-test-all-ctr-din-prod-1day-1121-test-11-21-11-24-43/model/checkpoint to model/model_local_pkg/checkpoint\n",
      "download: s3://warehouse-algo/rec/all_ctr_din_prod_1day_1121_test/job/Job-laidehe-test-all-ctr-din-prod-1day-1121-test-11-21-11-24-43/model/1732159550/variables/variables.index to model/model_local_pkg/1732159550/variables/variables.index\n",
      "download: s3://warehouse-algo/rec/all_ctr_din_prod_1day_1121_test/job/Job-laidehe-test-all-ctr-din-prod-1day-1121-test-11-21-11-24-43/model/model.ckpt-5.index to model/model_local_pkg/model.ckpt-5.index\n",
      "download: s3://warehouse-algo/rec/all_ctr_din_prod_1day_1121_test/job/Job-laidehe-test-all-ctr-din-prod-1day-1121-test-11-21-11-24-43/model/1732159550/variables/variables.data-00000-of-00001 to model/model_local_pkg/1732159550/variables/variables.data-00000-of-00001\n",
      "download: s3://warehouse-algo/rec/all_ctr_din_prod_1day_1121_test/job/Job-laidehe-test-all-ctr-din-prod-1day-1121-test-11-21-11-24-43/model/1732159550/saved_model.pb to model/model_local_pkg/1732159550/saved_model.pb\n",
      "download: s3://warehouse-algo/rec/all_ctr_din_prod_1day_1121_test/job/Job-laidehe-test-all-ctr-din-prod-1day-1121-test-11-21-11-24-43/model/model.ckpt-0.index to model/model_local_pkg/model.ckpt-0.index\n",
      "download: s3://warehouse-algo/rec/all_ctr_din_prod_1day_1121_test/job/Job-laidehe-test-all-ctr-din-prod-1day-1121-test-11-21-11-24-43/model/graph.pbtxt to model/model_local_pkg/graph.pbtxt\n",
      "download: s3://warehouse-algo/rec/all_ctr_din_prod_1day_1121_test/job/Job-laidehe-test-all-ctr-din-prod-1day-1121-test-11-21-11-24-43/model/model.ckpt-5.data-00000-of-00001 to model/model_local_pkg/model.ckpt-5.data-00000-of-00001\n",
      "download: s3://warehouse-algo/rec/all_ctr_din_prod_1day_1121_test/job/Job-laidehe-test-all-ctr-din-prod-1day-1121-test-11-21-11-24-43/model/model.ckpt-0.meta to model/model_local_pkg/model.ckpt-0.meta\n",
      "download: s3://warehouse-algo/rec/all_ctr_din_prod_1day_1121_test/job/Job-laidehe-test-all-ctr-din-prod-1day-1121-test-11-21-11-24-43/model/model.ckpt-0.data-00000-of-00001 to model/model_local_pkg/model.ckpt-0.data-00000-of-00001\n",
      "download: s3://warehouse-algo/rec/all_ctr_din_prod_1day_1121_test/job/Job-laidehe-test-all-ctr-din-prod-1day-1121-test-11-21-11-24-43/model/events.out.tfevents.1732159524.ip-10-0-216-192.ap-southeast-1.compute.internal to model/model_local_pkg/events.out.tfevents.1732159524.ip-10-0-216-192.ap-southeast-1.compute.internal\n",
      "download: s3://warehouse-algo/rec/all_ctr_din_prod_1day_1121_test/job/Job-laidehe-test-all-ctr-din-prod-1day-1121-test-11-21-11-24-43/model/model.ckpt-5.meta to model/model_local_pkg/model.ckpt-5.meta\n",
      "download: s3://warehouse-algo/rec/all_ctr_din_prod_1day_1121_test/job/Job-laidehe-test-all-ctr-din-prod-1day-1121-test-11-21-11-24-43/model/eval/events.out.tfevents.1732159541.ip-10-0-216-192.ap-southeast-1.compute.internal to model/model_local_pkg/eval/events.out.tfevents.1732159541.ip-10-0-216-192.ap-southeast-1.compute.internal\n"
     ]
    }
   ],
   "source": [
    "# ! mkdir {s3_model_local} \n",
    "! aws s3 cp --recursive {s3_model_s3} {s3_model_local}\n",
    "# ! mkdir code"
   ]
  },
  {
   "cell_type": "code",
   "execution_count": 43,
   "id": "89b86eb5-4367-46ff-8b58-cb59f820801d",
   "metadata": {},
   "outputs": [
    {
     "name": "stdout",
     "output_type": "stream",
     "text": [
      "Writing /home/sagemaker-user//model/model_local_pkg//code/inference.py\n"
     ]
    }
   ],
   "source": [
    "%%writefile {code_file_name}\n",
    "\n",
    "# coding: utf-8\n",
    "\n",
    "import json\n",
    "import logging\n",
    "import pickle\n",
    "import os\n",
    "\n",
    "logging.info('[DEBUG] current dir: %s %s', os.getcwd(), os.listdir(\"/opt/ml/model/\"))\n",
    "\n",
    "inputs3 = {\n",
    "\t\"cate_level1_id\": [\"1\"],\n",
    "\t\"cate_level2_id\": [\"1\"],\n",
    "\t\"cate_level3_id\": [\"1\"],\n",
    "\t\"cate_level4_id\": [\"1\"],\n",
    "\t\"country\": [\"IN\"],\n",
    "\t\"ctr_7d\": [0.1],\n",
    "\t\"cvr_7d\": [0.1],\n",
    "\t\"show_7d\": [100],\n",
    "\t\"click_7d\": [100],\n",
    "\t\"cart_7d\": [100],\n",
    "\t\"ord_total\": [100],\n",
    "\t\"pay_total\": [100],\n",
    "\t\"ord_7d\": [100],\n",
    "\t\"pay_7d\": [100]\n",
    "\n",
    "}\n",
    "# inputs3 = {\"a\":\"b\"}\n",
    "\n",
    "# ipt4 = {\"signature_name\": \"serving_default\",\"instances\": [inputs3,inputs3] }\n",
    "# ipt4 = {\"signature_name\": \"serving_default\",\"inputs\": [inputs3,inputs3] }\n",
    "ipt4 = {\"signature_name\": \"predict\",\"instances\": [inputs3,inputs3] }\n",
    "\n",
    "def input_handler(data, context):\n",
    "    \"\"\"Pre-process request input before it is sent to TensorFlow Serving REST API\n",
    "    Args:\n",
    "        data (obj): the request data stream\n",
    "        context (Context): an object containing request and configuration details\n",
    "    Returns:\n",
    "        (dict): a JSON-serializable dict that contains request body and headers\n",
    "    \"\"\"\n",
    "\n",
    "    if context.request_content_type == \"application/json\":\n",
    "        # logging.info('[DEBUG] request_data1: %s %s', context.request_content_type, '')\n",
    "        # d = data.read().decode('utf-8')\n",
    "        logging.info('[DEBUG] request_data2: %s %s', context.request_content_type, data)\n",
    "        # d = data.read().decode('utf-8')\n",
    "        new_data = json.dumps(ipt4).encode('utf-8')\n",
    "        return new_data\n",
    "\n",
    "    # raise ValueError('Invalid req type: %s' % context.request_content_type)\n",
    "\n",
    "\n",
    "def output_handler(data, context):\n",
    "    \"\"\"Post-process TensorFlow Serving output before it is returned to the client.\n",
    "    Args:\n",
    "        data (obj): the TensorFlow serving response\n",
    "        context (Context): an object containing request and configuration details\n",
    "    Returns:\n",
    "        (bytes, string): data to return to client, response content type\n",
    "    \"\"\"\n",
    "    logging.info('[DEBUG] output_data: %s %s  %s', type(data), data, context)\n",
    "    # logging.info('[DEBUG] output_data_content: %s', data.content.decode('utf-8'))\n",
    "    # if data.status_code != 200:\n",
    "    #     raise ValueError(data.content.decode('utf-8'))\n",
    "\n",
    "    response_content_type = context.accept_header\n",
    "    prediction = data.content\n",
    "    return prediction, response_content_type\n",
    "\n"
   ]
  },
  {
   "cell_type": "code",
   "execution_count": 50,
   "id": "07a9b8db-188c-45ec-a7ba-39bce843dcd9",
   "metadata": {
    "tags": []
   },
   "outputs": [
    {
     "name": "stdout",
     "output_type": "stream",
     "text": [
      "tar: Removing leading `/' from member names\n",
      "/home/sagemaker-user//model/model_local_pkg/\n",
      "/home/sagemaker-user//model/model_local_pkg/code/\n",
      "/home/sagemaker-user//model/model_local_pkg/code/inference.py\n",
      "/home/sagemaker-user//model/model_local_pkg/.ipynb_checkpoints/\n",
      "/home/sagemaker-user//model/model_local_pkg/1732159550/\n",
      "/home/sagemaker-user//model/model_local_pkg/1732159550/variables/\n",
      "/home/sagemaker-user//model/model_local_pkg/1732159550/variables/variables.index\n",
      "/home/sagemaker-user//model/model_local_pkg/1732159550/variables/variables.data-00000-of-00001\n",
      "/home/sagemaker-user//model/model_local_pkg/1732159550/saved_model.pb\n",
      "/home/sagemaker-user//model/model_local_pkg/eval/\n",
      "/home/sagemaker-user//model/model_local_pkg/eval/events.out.tfevents.1732159541.ip-10-0-216-192.ap-southeast-1.compute.internal\n",
      "/home/sagemaker-user//model/model_local_pkg/checkpoint\n",
      "/home/sagemaker-user//model/model_local_pkg/model.ckpt-5.index\n",
      "/home/sagemaker-user//model/model_local_pkg/model.ckpt-0.index\n",
      "/home/sagemaker-user//model/model_local_pkg/graph.pbtxt\n",
      "/home/sagemaker-user//model/model_local_pkg/model.ckpt-5.data-00000-of-00001\n",
      "/home/sagemaker-user//model/model_local_pkg/model.ckpt-0.meta\n",
      "/home/sagemaker-user//model/model_local_pkg/model.ckpt-0.data-00000-of-00001\n",
      "/home/sagemaker-user//model/model_local_pkg/events.out.tfevents.1732159524.ip-10-0-216-192.ap-southeast-1.compute.internal\n",
      "/home/sagemaker-user//model/model_local_pkg/model.ckpt-5.meta\n",
      "tar: /home/sagemaker-user//model/model_local_pkg: file changed as we read it\n"
     ]
    }
   ],
   "source": [
    "! tar -czvf {s3_model_local_tar_file}  {s3_model_local}"
   ]
  },
  {
   "cell_type": "code",
   "execution_count": 51,
   "id": "636ccc9b-ba30-40f4-8014-4fa808a65e71",
   "metadata": {},
   "outputs": [
    {
     "name": "stdout",
     "output_type": "stream",
     "text": [
      "upload: model/model_local_pkg/model.tar.gz to s3://warehouse-algo/rec/model_test/model.tar.gz\n"
     ]
    }
   ],
   "source": [
    "! aws s3 cp {s3_model_local_tar_file} {s3_model_online}"
   ]
  },
  {
   "cell_type": "markdown",
   "id": "768a0461-d6c2-4557-9d1e-38d9dbaefd86",
   "metadata": {
    "jp-MarkdownHeadingCollapsed": true
   },
   "source": [
    "# deploy"
   ]
  },
  {
   "cell_type": "code",
   "execution_count": 62,
   "id": "447cd436-ca70-4e0b-9708-c4cf32790c1d",
   "metadata": {
    "tags": []
   },
   "outputs": [
    {
     "name": "stdout",
     "output_type": "stream",
     "text": [
      "----!{'EndpointName': 'ctr-model-debug1121', 'EndpointArn': 'arn:aws:sagemaker:ap-southeast-1:580243821396:endpoint/ctr-model-debug1121', 'EndpointConfigName': 'ctr-model-debug1121', 'ProductionVariants': [{'VariantName': 'Variant-xlarge-1', 'DeployedImages': [{'SpecifiedImage': '763104351884.dkr.ecr.ap-southeast-1.amazonaws.com/tensorflow-inference:1.15-cpu', 'ResolvedImage': '763104351884.dkr.ecr.ap-southeast-1.amazonaws.com/tensorflow-inference@sha256:6da74b9a715efe9abffd8ef715f7b7ee2338bc8f8f1ba2cf4fedf47843bffa76', 'ResolutionTime': datetime.datetime(2024, 11, 21, 11, 10, 42, 718000, tzinfo=tzlocal())}], 'CurrentWeight': 1.0, 'DesiredWeight': 1.0, 'CurrentInstanceCount': 1, 'DesiredInstanceCount': 1}], 'EndpointStatus': 'InService', 'CreationTime': datetime.datetime(2024, 11, 21, 11, 10, 42, 215000, tzinfo=tzlocal()), 'LastModifiedTime': datetime.datetime(2024, 11, 21, 11, 13, 11, 121000, tzinfo=tzlocal()), 'ResponseMetadata': {'RequestId': '491a3a36-c18b-46a1-bb68-a3cb56d350dd', 'HTTPStatusCode': 200, 'HTTPHeaders': {'x-amzn-requestid': '491a3a36-c18b-46a1-bb68-a3cb56d350dd', 'content-type': 'application/x-amz-json-1.1', 'content-length': '732', 'date': 'Thu, 21 Nov 2024 11:13:11 GMT'}, 'RetryAttempts': 0}}\n"
     ]
    }
   ],
   "source": [
    "def deploy_new_endpoint(model_data,\n",
    "                        endpoint_name,\n",
    "                        instance_type='ml.r5.large',\n",
    "                        instance_count=1,\n",
    "                        retry_times=0):\n",
    "    # If an endpoint could describe, it exists, and can not be created by deploy.\n",
    "    try:\n",
    "        print(client.describe_endpoint(EndpointName=endpoint_name))\n",
    "        return\n",
    "    except:\n",
    "        pass\n",
    "\n",
    "    # edp_model_name = endpoint_name + '-' + str(random.randint(10000, 19999))\n",
    "    variant_name = \"Variant-xlarge-1\" # start from 1, incr 1 when updating.\n",
    "    img = sagemaker.image_uris.retrieve(\n",
    "        framework='tensorflow',\n",
    "        version='1.15',\n",
    "        region=sm_sess.boto_region_name,\n",
    "        image_scope='inference',\n",
    "        instance_type=instance_type\n",
    "    )\n",
    "\n",
    "    sm_sess.create_model(\n",
    "        name=endpoint_name,\n",
    "        role=role,\n",
    "        container_defs={\n",
    "            \"Image\": img,\n",
    "            \"ModelDataUrl\": model_data,\n",
    "            'Environment': {\n",
    "                'TF_DISABLE_MKL': '1',\n",
    "                'TF_DISABLE_POOL_ALLOCATOR': '1',\n",
    "                # 'SAGEMAKER_SUBMIT_DIRECTORY': '/opt/ml/model/code/',  # Directory inside the container\n",
    "                # 'SAGEMAKER_PROGRAM': 'inference.py', \n",
    "            },\n",
    "        }\n",
    "    )\n",
    "\n",
    "    \n",
    "\n",
    "    variant1 = production_variant(\n",
    "        model_name=endpoint_name,\n",
    "        instance_type=instance_type,\n",
    "        initial_instance_count=instance_count,\n",
    "        variant_name=variant_name,\n",
    "        initial_weight=1,\n",
    "    )\n",
    "\n",
    "    sm_sess.endpoint_from_production_variants(\n",
    "        name=endpoint_name, production_variants=[variant1],\n",
    "        tags=[{'Key': 'cost-team', 'Value': 'algorithm'}],\n",
    "    )\n",
    "    print(sm_cli.describe_endpoint(EndpointName=endpoint_name))\n",
    "    # wait_edp_inservice(endpoint_name)\n",
    "\n",
    "endpoint =  'ctr-model-debug1121'\n",
    "model_data = s3_model_online_tar_file\n",
    "deploy_new_endpoint(model_data=model_data, endpoint_name=endpoint)"
   ]
  },
  {
   "cell_type": "markdown",
   "id": "6d4cbfbc-70b8-45ee-aa44-bf9ec9350497",
   "metadata": {
    "jp-MarkdownHeadingCollapsed": true
   },
   "source": [
    "# request"
   ]
  },
  {
   "cell_type": "code",
   "execution_count": 63,
   "id": "e73734df-5a6a-4541-afa5-164c20ca50db",
   "metadata": {},
   "outputs": [],
   "source": [
    "import copy\n",
    "import json\n",
    "import time\n",
    "\n",
    "import boto3\n",
    "\n",
    "inputs = {\n",
    "\t\"inputs\": {\n",
    "\t\t\"price\": [\"1\", \"2\", \"3\", \"4\"],\n",
    "\t\t\"rebuy\": [1, 1, 1, 1],\n",
    "\t\t\"country\": \"Savana_IN\",\n",
    "\t\t\"query\": \"ruffle placket blouse\",\n",
    "\t\t\"goods_id\": [1295132, 119253, 1315492, 1233092],\n",
    "\t\t\"uuid\": \"___X_911b557d-8ba5-4ec7-8637-cae016809ac0-1712127888282\",\n",
    "\t\t\"cid4\": [522, 522, 522, 607],\n",
    "\t\t\"cid2\": [12, 12, 12, 13],\n",
    "\t\t\"cid3\": [80, 80, 80, 96],\n",
    "\t\t\"cid1\": [2, 2, 2, 809]\n",
    "\t}\n",
    "}\n",
    "\n",
    "inputs2 = {\n",
    "\t\"inputs\": {\n",
    "        \"inputs\": {\n",
    "            \"goods_id\": [\"1\"]\n",
    "        }\n",
    "    }\n",
    "\t\t\n",
    "}\n",
    "\n",
    "inputs3 = {\n",
    "\t\"cate_level1_id\": [\"1\"],\n",
    "\t\"cate_level2_id\": [\"1\"],\n",
    "\t\"cate_level3_id\": [\"1\"],\n",
    "\t\"cate_level4_id\": [\"1\"],\n",
    "\t\"country\": [\"IN\"],\n",
    "\t\"ctr_7d\": [0.1],\n",
    "\t\"cvr_7d\": [0.1],\n",
    "\t\"show_7d\": [100],\n",
    "\t\"click_7d\": [100],\n",
    "\t\"cart_7d\": [100],\n",
    "\t\"ord_total\": [100],\n",
    "\t\"pay_total\": [100],\n",
    "\t\"ord_7d\": [100],\n",
    "\t\"pay_7d\": [100],\n",
    "\t\"seq_goods_id\": [\"1\", \"2\", \"3\", \"4\", \"5\", \"6\", \"7\", \"8\", \"9\", \"10\", \"11\", \"12\", \"13\", \"14\", \"15\", \"16\", \"17\", \"18\", \"19\", \"20\"],\n",
    "\t\"goods_id\": [\"1\"],\n",
    "\t\"seq_cate_id\": [\"1\", \"2\", \"3\", \"4\", \"5\", \"6\", \"7\", \"8\", \"9\", \"10\", \"11\", \"12\", \"13\", \"14\", \"15\", \"16\", \"17\", \"18\", \"19\", \"20\"],\n",
    "\t\"cate_id\": [\"1\"]\n",
    "}\n",
    "\n",
    "inputs3 = {\n",
    "\t\"cate_level1_id\": [\"1\"],\n",
    "\t\"cate_level2_id\": [\"1\"],\n",
    "\t\"cate_level3_id\": [\"1\"],\n",
    "\t\"cate_level4_id\": [\"1\"],\n",
    "\t\"country\": [\"IN\"],\n",
    "\t\"ctr_7d\": [0.1],\n",
    "\t\"cvr_7d\": [0.1],\n",
    "\t\"show_7d\": [100],\n",
    "\t\"click_7d\": [100],\n",
    "\t\"cart_7d\": [100],\n",
    "\t\"ord_total\": [100],\n",
    "\t\"pay_total\": [100],\n",
    "\t\"ord_7d\": [100],\n",
    "\t\"pay_7d\": [100]\n",
    "\n",
    "}\n",
    "# inputs3 = {\"a\":\"b\"}\n",
    "\n",
    "# ipt4 = {\"signature_name\": \"serving_default\",\"instances\": [inputs3,inputs3] }\n",
    "# ipt4 = {\"signature_name\": \"serving_default\",\"inputs\": [inputs3,inputs3] }\n",
    "ipt4 = {\"signature_name\": \"predict\",\"instances\": [inputs3,inputs3] }\n",
    "# ipt4 = {\"inputs\": [inputs3,inputs3] }\n",
    "# ipt4 = {\"signature_name\": \"serving_default\",\"inputs\": [{\"a\":\"b\"},{\"a\":\"b\"}] }\n",
    "\n",
    "# edp_name_exp = \"all-ctr-din-prod-1day-edp\"\n",
    "# edp_name_exp = \"all-ctr-din-prod-1day-edp-testv3\"\n",
    "# edp_name_exp = \"all-ctr-din-prod-1day-edp-testv5\"\n",
    "# edp_name_exp = \"all-ctr-din-prod-1day-edp-testv7\"\n",
    "\n",
    "sg_client = boto3.client(\"sagemaker-runtime\")"
   ]
  },
  {
   "cell_type": "code",
   "execution_count": 67,
   "id": "6b784112-c314-42bc-80c9-1a45b0045bd1",
   "metadata": {},
   "outputs": [
    {
     "name": "stdout",
     "output_type": "stream",
     "text": [
      "inp-json-dump {\"signature_name\": \"predict\", \"instances\": [{\"cate_level1_id\": [\"1\"], \"cate_level2_id\": [\"1\"], \"cate_level3_id\": [\"1\"], \"cate_level4_id\": [\"1\"], \"country\": [\"IN\"], \"ctr_7d\": [0.1], \"cvr_7d\": [0.1], \"show_7d\": [100], \"click_7d\": [100], \"cart_7d\": [100], \"ord_total\": [100], \"pay_total\": [100], \"ord_7d\": [100], \"pay_7d\": [100]}, {\"cate_level1_id\": [\"1\"], \"cate_level2_id\": [\"1\"], \"cate_level3_id\": [\"1\"], \"cate_level4_id\": [\"1\"], \"country\": [\"IN\"], \"ctr_7d\": [0.1], \"cvr_7d\": [0.1], \"show_7d\": [100], \"click_7d\": [100], \"cart_7d\": [100], \"ord_total\": [100], \"pay_total\": [100], \"ord_7d\": [100], \"pay_7d\": [100]}]}\n",
      "b'{\\n    \"predictions\": [\\n        {\\n            \"probabilities\": [0.465676159, 0.534323812],\\n            \"logits\": [0.137511566],\\n            \"class_ids\": [1],\\n            \"classes\": [\"1\"],\\n            \"all_class_ids\": [0, 1],\\n            \"logistic\": [0.534323812],\\n            \"all_classes\": [\"0\", \"1\"]\\n        },\\n        {\\n            \"probabilities\": [0.465676159, 0.534323812],\\n            \"logits\": [0.137511566],\\n            \"class_ids\": [1],\\n            \"classes\": [\"1\"],\\n            \"all_class_ids\": [0, 1],\\n            \"logistic\": [0.534323812],\\n            \"all_classes\": [\"0\", \"1\"]\\n        }\\n    ]\\n}'\n"
     ]
    }
   ],
   "source": [
    "print('inp-json-dump', json.dumps(ipt4))\n",
    "\n",
    "res = sg_client.invoke_endpoint(\n",
    "        EndpointName=endpoint,\n",
    "        Body=json.dumps(ipt4),\n",
    "        # Body=json.dumps(ipt4).encode('utf-8'),\n",
    "    # .encode('utf-8'),\n",
    "        # Body=ipt4,\n",
    "        ContentType=\"application/json\"\n",
    "    )\n",
    "print(res[\"Body\"].read())\n",
    "# res_json = json.loads(res[\"Body\"].read())\n",
    "# print(res_json)\n",
    "# res_json['predictions'][0]['probabilities'][0]"
   ]
  },
  {
   "cell_type": "code",
   "execution_count": null,
   "id": "46caeb55-9db3-4f0a-995b-90d14a8b6854",
   "metadata": {},
   "outputs": [],
   "source": []
  }
 ],
 "metadata": {
  "availableInstances": [
   {
    "_defaultOrder": 0,
    "_isFastLaunch": true,
    "category": "General purpose",
    "gpuNum": 0,
    "hideHardwareSpecs": false,
    "memoryGiB": 4,
    "name": "ml.t3.medium",
    "vcpuNum": 2
   },
   {
    "_defaultOrder": 1,
    "_isFastLaunch": false,
    "category": "General purpose",
    "gpuNum": 0,
    "hideHardwareSpecs": false,
    "memoryGiB": 8,
    "name": "ml.t3.large",
    "vcpuNum": 2
   },
   {
    "_defaultOrder": 2,
    "_isFastLaunch": false,
    "category": "General purpose",
    "gpuNum": 0,
    "hideHardwareSpecs": false,
    "memoryGiB": 16,
    "name": "ml.t3.xlarge",
    "vcpuNum": 4
   },
   {
    "_defaultOrder": 3,
    "_isFastLaunch": false,
    "category": "General purpose",
    "gpuNum": 0,
    "hideHardwareSpecs": false,
    "memoryGiB": 32,
    "name": "ml.t3.2xlarge",
    "vcpuNum": 8
   },
   {
    "_defaultOrder": 4,
    "_isFastLaunch": true,
    "category": "General purpose",
    "gpuNum": 0,
    "hideHardwareSpecs": false,
    "memoryGiB": 8,
    "name": "ml.m5.large",
    "vcpuNum": 2
   },
   {
    "_defaultOrder": 5,
    "_isFastLaunch": false,
    "category": "General purpose",
    "gpuNum": 0,
    "hideHardwareSpecs": false,
    "memoryGiB": 16,
    "name": "ml.m5.xlarge",
    "vcpuNum": 4
   },
   {
    "_defaultOrder": 6,
    "_isFastLaunch": false,
    "category": "General purpose",
    "gpuNum": 0,
    "hideHardwareSpecs": false,
    "memoryGiB": 32,
    "name": "ml.m5.2xlarge",
    "vcpuNum": 8
   },
   {
    "_defaultOrder": 7,
    "_isFastLaunch": false,
    "category": "General purpose",
    "gpuNum": 0,
    "hideHardwareSpecs": false,
    "memoryGiB": 64,
    "name": "ml.m5.4xlarge",
    "vcpuNum": 16
   },
   {
    "_defaultOrder": 8,
    "_isFastLaunch": false,
    "category": "General purpose",
    "gpuNum": 0,
    "hideHardwareSpecs": false,
    "memoryGiB": 128,
    "name": "ml.m5.8xlarge",
    "vcpuNum": 32
   },
   {
    "_defaultOrder": 9,
    "_isFastLaunch": false,
    "category": "General purpose",
    "gpuNum": 0,
    "hideHardwareSpecs": false,
    "memoryGiB": 192,
    "name": "ml.m5.12xlarge",
    "vcpuNum": 48
   },
   {
    "_defaultOrder": 10,
    "_isFastLaunch": false,
    "category": "General purpose",
    "gpuNum": 0,
    "hideHardwareSpecs": false,
    "memoryGiB": 256,
    "name": "ml.m5.16xlarge",
    "vcpuNum": 64
   },
   {
    "_defaultOrder": 11,
    "_isFastLaunch": false,
    "category": "General purpose",
    "gpuNum": 0,
    "hideHardwareSpecs": false,
    "memoryGiB": 384,
    "name": "ml.m5.24xlarge",
    "vcpuNum": 96
   },
   {
    "_defaultOrder": 12,
    "_isFastLaunch": false,
    "category": "General purpose",
    "gpuNum": 0,
    "hideHardwareSpecs": false,
    "memoryGiB": 8,
    "name": "ml.m5d.large",
    "vcpuNum": 2
   },
   {
    "_defaultOrder": 13,
    "_isFastLaunch": false,
    "category": "General purpose",
    "gpuNum": 0,
    "hideHardwareSpecs": false,
    "memoryGiB": 16,
    "name": "ml.m5d.xlarge",
    "vcpuNum": 4
   },
   {
    "_defaultOrder": 14,
    "_isFastLaunch": false,
    "category": "General purpose",
    "gpuNum": 0,
    "hideHardwareSpecs": false,
    "memoryGiB": 32,
    "name": "ml.m5d.2xlarge",
    "vcpuNum": 8
   },
   {
    "_defaultOrder": 15,
    "_isFastLaunch": false,
    "category": "General purpose",
    "gpuNum": 0,
    "hideHardwareSpecs": false,
    "memoryGiB": 64,
    "name": "ml.m5d.4xlarge",
    "vcpuNum": 16
   },
   {
    "_defaultOrder": 16,
    "_isFastLaunch": false,
    "category": "General purpose",
    "gpuNum": 0,
    "hideHardwareSpecs": false,
    "memoryGiB": 128,
    "name": "ml.m5d.8xlarge",
    "vcpuNum": 32
   },
   {
    "_defaultOrder": 17,
    "_isFastLaunch": false,
    "category": "General purpose",
    "gpuNum": 0,
    "hideHardwareSpecs": false,
    "memoryGiB": 192,
    "name": "ml.m5d.12xlarge",
    "vcpuNum": 48
   },
   {
    "_defaultOrder": 18,
    "_isFastLaunch": false,
    "category": "General purpose",
    "gpuNum": 0,
    "hideHardwareSpecs": false,
    "memoryGiB": 256,
    "name": "ml.m5d.16xlarge",
    "vcpuNum": 64
   },
   {
    "_defaultOrder": 19,
    "_isFastLaunch": false,
    "category": "General purpose",
    "gpuNum": 0,
    "hideHardwareSpecs": false,
    "memoryGiB": 384,
    "name": "ml.m5d.24xlarge",
    "vcpuNum": 96
   },
   {
    "_defaultOrder": 20,
    "_isFastLaunch": false,
    "category": "General purpose",
    "gpuNum": 0,
    "hideHardwareSpecs": true,
    "memoryGiB": 0,
    "name": "ml.geospatial.interactive",
    "supportedImageNames": [
     "sagemaker-geospatial-v1-0"
    ],
    "vcpuNum": 0
   },
   {
    "_defaultOrder": 21,
    "_isFastLaunch": true,
    "category": "Compute optimized",
    "gpuNum": 0,
    "hideHardwareSpecs": false,
    "memoryGiB": 4,
    "name": "ml.c5.large",
    "vcpuNum": 2
   },
   {
    "_defaultOrder": 22,
    "_isFastLaunch": false,
    "category": "Compute optimized",
    "gpuNum": 0,
    "hideHardwareSpecs": false,
    "memoryGiB": 8,
    "name": "ml.c5.xlarge",
    "vcpuNum": 4
   },
   {
    "_defaultOrder": 23,
    "_isFastLaunch": false,
    "category": "Compute optimized",
    "gpuNum": 0,
    "hideHardwareSpecs": false,
    "memoryGiB": 16,
    "name": "ml.c5.2xlarge",
    "vcpuNum": 8
   },
   {
    "_defaultOrder": 24,
    "_isFastLaunch": false,
    "category": "Compute optimized",
    "gpuNum": 0,
    "hideHardwareSpecs": false,
    "memoryGiB": 32,
    "name": "ml.c5.4xlarge",
    "vcpuNum": 16
   },
   {
    "_defaultOrder": 25,
    "_isFastLaunch": false,
    "category": "Compute optimized",
    "gpuNum": 0,
    "hideHardwareSpecs": false,
    "memoryGiB": 72,
    "name": "ml.c5.9xlarge",
    "vcpuNum": 36
   },
   {
    "_defaultOrder": 26,
    "_isFastLaunch": false,
    "category": "Compute optimized",
    "gpuNum": 0,
    "hideHardwareSpecs": false,
    "memoryGiB": 96,
    "name": "ml.c5.12xlarge",
    "vcpuNum": 48
   },
   {
    "_defaultOrder": 27,
    "_isFastLaunch": false,
    "category": "Compute optimized",
    "gpuNum": 0,
    "hideHardwareSpecs": false,
    "memoryGiB": 144,
    "name": "ml.c5.18xlarge",
    "vcpuNum": 72
   },
   {
    "_defaultOrder": 28,
    "_isFastLaunch": false,
    "category": "Compute optimized",
    "gpuNum": 0,
    "hideHardwareSpecs": false,
    "memoryGiB": 192,
    "name": "ml.c5.24xlarge",
    "vcpuNum": 96
   },
   {
    "_defaultOrder": 29,
    "_isFastLaunch": true,
    "category": "Accelerated computing",
    "gpuNum": 1,
    "hideHardwareSpecs": false,
    "memoryGiB": 16,
    "name": "ml.g4dn.xlarge",
    "vcpuNum": 4
   },
   {
    "_defaultOrder": 30,
    "_isFastLaunch": false,
    "category": "Accelerated computing",
    "gpuNum": 1,
    "hideHardwareSpecs": false,
    "memoryGiB": 32,
    "name": "ml.g4dn.2xlarge",
    "vcpuNum": 8
   },
   {
    "_defaultOrder": 31,
    "_isFastLaunch": false,
    "category": "Accelerated computing",
    "gpuNum": 1,
    "hideHardwareSpecs": false,
    "memoryGiB": 64,
    "name": "ml.g4dn.4xlarge",
    "vcpuNum": 16
   },
   {
    "_defaultOrder": 32,
    "_isFastLaunch": false,
    "category": "Accelerated computing",
    "gpuNum": 1,
    "hideHardwareSpecs": false,
    "memoryGiB": 128,
    "name": "ml.g4dn.8xlarge",
    "vcpuNum": 32
   },
   {
    "_defaultOrder": 33,
    "_isFastLaunch": false,
    "category": "Accelerated computing",
    "gpuNum": 4,
    "hideHardwareSpecs": false,
    "memoryGiB": 192,
    "name": "ml.g4dn.12xlarge",
    "vcpuNum": 48
   },
   {
    "_defaultOrder": 34,
    "_isFastLaunch": false,
    "category": "Accelerated computing",
    "gpuNum": 1,
    "hideHardwareSpecs": false,
    "memoryGiB": 256,
    "name": "ml.g4dn.16xlarge",
    "vcpuNum": 64
   },
   {
    "_defaultOrder": 35,
    "_isFastLaunch": false,
    "category": "Accelerated computing",
    "gpuNum": 1,
    "hideHardwareSpecs": false,
    "memoryGiB": 61,
    "name": "ml.p3.2xlarge",
    "vcpuNum": 8
   },
   {
    "_defaultOrder": 36,
    "_isFastLaunch": false,
    "category": "Accelerated computing",
    "gpuNum": 4,
    "hideHardwareSpecs": false,
    "memoryGiB": 244,
    "name": "ml.p3.8xlarge",
    "vcpuNum": 32
   },
   {
    "_defaultOrder": 37,
    "_isFastLaunch": false,
    "category": "Accelerated computing",
    "gpuNum": 8,
    "hideHardwareSpecs": false,
    "memoryGiB": 488,
    "name": "ml.p3.16xlarge",
    "vcpuNum": 64
   },
   {
    "_defaultOrder": 38,
    "_isFastLaunch": false,
    "category": "Accelerated computing",
    "gpuNum": 8,
    "hideHardwareSpecs": false,
    "memoryGiB": 768,
    "name": "ml.p3dn.24xlarge",
    "vcpuNum": 96
   },
   {
    "_defaultOrder": 39,
    "_isFastLaunch": false,
    "category": "Memory Optimized",
    "gpuNum": 0,
    "hideHardwareSpecs": false,
    "memoryGiB": 16,
    "name": "ml.r5.large",
    "vcpuNum": 2
   },
   {
    "_defaultOrder": 40,
    "_isFastLaunch": false,
    "category": "Memory Optimized",
    "gpuNum": 0,
    "hideHardwareSpecs": false,
    "memoryGiB": 32,
    "name": "ml.r5.xlarge",
    "vcpuNum": 4
   },
   {
    "_defaultOrder": 41,
    "_isFastLaunch": false,
    "category": "Memory Optimized",
    "gpuNum": 0,
    "hideHardwareSpecs": false,
    "memoryGiB": 64,
    "name": "ml.r5.2xlarge",
    "vcpuNum": 8
   },
   {
    "_defaultOrder": 42,
    "_isFastLaunch": false,
    "category": "Memory Optimized",
    "gpuNum": 0,
    "hideHardwareSpecs": false,
    "memoryGiB": 128,
    "name": "ml.r5.4xlarge",
    "vcpuNum": 16
   },
   {
    "_defaultOrder": 43,
    "_isFastLaunch": false,
    "category": "Memory Optimized",
    "gpuNum": 0,
    "hideHardwareSpecs": false,
    "memoryGiB": 256,
    "name": "ml.r5.8xlarge",
    "vcpuNum": 32
   },
   {
    "_defaultOrder": 44,
    "_isFastLaunch": false,
    "category": "Memory Optimized",
    "gpuNum": 0,
    "hideHardwareSpecs": false,
    "memoryGiB": 384,
    "name": "ml.r5.12xlarge",
    "vcpuNum": 48
   },
   {
    "_defaultOrder": 45,
    "_isFastLaunch": false,
    "category": "Memory Optimized",
    "gpuNum": 0,
    "hideHardwareSpecs": false,
    "memoryGiB": 512,
    "name": "ml.r5.16xlarge",
    "vcpuNum": 64
   },
   {
    "_defaultOrder": 46,
    "_isFastLaunch": false,
    "category": "Memory Optimized",
    "gpuNum": 0,
    "hideHardwareSpecs": false,
    "memoryGiB": 768,
    "name": "ml.r5.24xlarge",
    "vcpuNum": 96
   },
   {
    "_defaultOrder": 47,
    "_isFastLaunch": false,
    "category": "Accelerated computing",
    "gpuNum": 1,
    "hideHardwareSpecs": false,
    "memoryGiB": 16,
    "name": "ml.g5.xlarge",
    "vcpuNum": 4
   },
   {
    "_defaultOrder": 48,
    "_isFastLaunch": false,
    "category": "Accelerated computing",
    "gpuNum": 1,
    "hideHardwareSpecs": false,
    "memoryGiB": 32,
    "name": "ml.g5.2xlarge",
    "vcpuNum": 8
   },
   {
    "_defaultOrder": 49,
    "_isFastLaunch": false,
    "category": "Accelerated computing",
    "gpuNum": 1,
    "hideHardwareSpecs": false,
    "memoryGiB": 64,
    "name": "ml.g5.4xlarge",
    "vcpuNum": 16
   },
   {
    "_defaultOrder": 50,
    "_isFastLaunch": false,
    "category": "Accelerated computing",
    "gpuNum": 1,
    "hideHardwareSpecs": false,
    "memoryGiB": 128,
    "name": "ml.g5.8xlarge",
    "vcpuNum": 32
   },
   {
    "_defaultOrder": 51,
    "_isFastLaunch": false,
    "category": "Accelerated computing",
    "gpuNum": 1,
    "hideHardwareSpecs": false,
    "memoryGiB": 256,
    "name": "ml.g5.16xlarge",
    "vcpuNum": 64
   },
   {
    "_defaultOrder": 52,
    "_isFastLaunch": false,
    "category": "Accelerated computing",
    "gpuNum": 4,
    "hideHardwareSpecs": false,
    "memoryGiB": 192,
    "name": "ml.g5.12xlarge",
    "vcpuNum": 48
   },
   {
    "_defaultOrder": 53,
    "_isFastLaunch": false,
    "category": "Accelerated computing",
    "gpuNum": 4,
    "hideHardwareSpecs": false,
    "memoryGiB": 384,
    "name": "ml.g5.24xlarge",
    "vcpuNum": 96
   },
   {
    "_defaultOrder": 54,
    "_isFastLaunch": false,
    "category": "Accelerated computing",
    "gpuNum": 8,
    "hideHardwareSpecs": false,
    "memoryGiB": 768,
    "name": "ml.g5.48xlarge",
    "vcpuNum": 192
   },
   {
    "_defaultOrder": 55,
    "_isFastLaunch": false,
    "category": "Accelerated computing",
    "gpuNum": 8,
    "hideHardwareSpecs": false,
    "memoryGiB": 1152,
    "name": "ml.p4d.24xlarge",
    "vcpuNum": 96
   },
   {
    "_defaultOrder": 56,
    "_isFastLaunch": false,
    "category": "Accelerated computing",
    "gpuNum": 8,
    "hideHardwareSpecs": false,
    "memoryGiB": 1152,
    "name": "ml.p4de.24xlarge",
    "vcpuNum": 96
   },
   {
    "_defaultOrder": 57,
    "_isFastLaunch": false,
    "category": "Accelerated computing",
    "gpuNum": 0,
    "hideHardwareSpecs": false,
    "memoryGiB": 32,
    "name": "ml.trn1.2xlarge",
    "vcpuNum": 8
   },
   {
    "_defaultOrder": 58,
    "_isFastLaunch": false,
    "category": "Accelerated computing",
    "gpuNum": 0,
    "hideHardwareSpecs": false,
    "memoryGiB": 512,
    "name": "ml.trn1.32xlarge",
    "vcpuNum": 128
   },
   {
    "_defaultOrder": 59,
    "_isFastLaunch": false,
    "category": "Accelerated computing",
    "gpuNum": 0,
    "hideHardwareSpecs": false,
    "memoryGiB": 512,
    "name": "ml.trn1n.32xlarge",
    "vcpuNum": 128
   }
  ],
  "instance_type": "ml.t3.medium",
  "kernelspec": {
   "display_name": "Python 3 (ipykernel)",
   "language": "python",
   "name": "python3"
  },
  "language_info": {
   "codemirror_mode": {
    "name": "ipython",
    "version": 3
   },
   "file_extension": ".py",
   "mimetype": "text/x-python",
   "name": "python",
   "nbconvert_exporter": "python",
   "pygments_lexer": "ipython3",
   "version": "3.10.14"
  },
  "widgets": {
   "application/vnd.jupyter.widget-state+json": {
    "state": {},
    "version_major": 2,
    "version_minor": 0
   }
  }
 },
 "nbformat": 4,
 "nbformat_minor": 5
}
